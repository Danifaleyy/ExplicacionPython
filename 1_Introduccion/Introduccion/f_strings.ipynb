{
 "cells": [
  {
   "attachments": {},
   "cell_type": "markdown",
   "metadata": {},
   "source": [
    "# ***f-strings (Formateo literal de cadenas)***\n",
    "\n",
    "> ### ⚠️ ***¿Como crear f-strings?*** \n",
    "💡 *Tienes que agregar la letra f o F mayúscula antes de las comillas.*\n",
    "\n",
    "💥 *Ejemplo; \"esto\" es una cadena de texto normal y f\"esto\" es una f-string.*\n",
    "\n",
    "> ### ⚠️ ***Como imprimir variables usando f-strings en Python***\n",
    "\n",
    "💡 *Tienes especificar el nombre de las variables entre llaves {}*\n",
    "\n",
    "💥 *Al ejecutar tu código, todos los nombres de las variables serán remplazados con sus respectivos valores.*\n",
    "\n",
    "> ### ⚠️ ***Sintaxis***\n",
    "\n",
    "💡 *f\"Esta es una f-string {nombre_var} y {nombre_var}.\"*"
   ]
  },
  {
   "cell_type": "code",
   "execution_count": 1,
   "metadata": {},
   "outputs": [
    {
     "name": "stdout",
     "output_type": "stream",
     "text": [
      "Estoy aprendiendo Python en freeCodeCamp.\n"
     ]
    }
   ],
   "source": [
    "lenguaje = \"Python\"\n",
    "escuela = \"freeCodeCamp\"\n",
    "print(f\"Estoy aprendiendo {lenguaje} en {escuela}.\")\n",
    "# Puedes ver como las variables  lenguaje y escuela han sido reemplazadas con Python y freeCodeCamp, respectivamente."
   ]
  },
  {
   "cell_type": "code",
   "execution_count": 2,
   "metadata": {},
   "outputs": [
    {
     "name": "stdout",
     "output_type": "stream",
     "text": [
      "Estoy aprendiendo Python en freeCodeCamp\n"
     ]
    }
   ],
   "source": [
    "lenguaje = \"Python\"\n",
    "escuela = \"freeCodeCamp\"\n",
    "print(\"Estoy aprendiendo \" + lenguaje + \" en \" + escuela)"
   ]
  },
  {
   "attachments": {},
   "cell_type": "markdown",
   "metadata": {},
   "source": [
    "> ### ⚠️ ***Como evaluar expresiones en Python con f-Strings***\n",
    "\n",
    "💡 *Como las f-Strings son evaluadas cuando se está ejecutando el código Python*\n",
    "\n",
    "> ##### ***Operaciones***\n",
    "\n",
    "💡*Las operaciones entre 2 variables o mas se realizan dentro de {}*\n",
    "\n",
    "💥 *Ejemplo: num1 ynum2 son nuestras variables, para obtener el producto de estas variables únicamente basta con escribir la siguiente expresión num1 * num2 dentro de llaves.*"
   ]
  },
  {
   "cell_type": "code",
   "execution_count": 4,
   "metadata": {},
   "outputs": [
    {
     "name": "stdout",
     "output_type": "stream",
     "text": [
      "El producto de 83 y 9 es 747.\n"
     ]
    }
   ],
   "source": [
    "#Se sustituirán  por los valores que representan  o por el valor resultante de una operación en el momento de ejecución (cuando se está ejecutando el código Python).\n",
    "num1 = 83\n",
    "num2 = 9\n",
    "print(f\"El producto de {num1} y {num2} es {num1 * num2}.\")"
   ]
  },
  {
   "attachments": {},
   "cell_type": "markdown",
   "metadata": {},
   "source": [
    "> ### ⚠️ ***Como llamar métodos en Python con f-Strings***\n",
    "\n",
    "💥 *Puedes llamar cualquier método en un objeto válido de Python entre llaves y tu código funcionará perfectamente.*\n",
    "\n",
    "❓ *Los métodos de cadenas retornan una cadena de texto con los cambios requeridos en el método utilizado.*\n",
    "\n",
    "💡 ***Metodo:*** *.title()*\n",
    "\n",
    "❓ *Retorna una nueva cadena con un formato de título, esto es con la primera letra de cada palabra en mayúsculas (\"Gabriel Garcia\" en lugar de \"gabriel garcia\")*\n",
    "\n",
    "💥 ***Hay 2 formas de utilizar metodos con f-strings:***\n",
    "\n",
    "*1- Se crea una nueva variable que se le apicara el metodo y se almacenara el nuevo valor*"
   ]
  },
  {
   "cell_type": "code",
   "execution_count": 5,
   "metadata": {},
   "outputs": [
    {
     "name": "stdout",
     "output_type": "stream",
     "text": [
      "libro escrito por Gabriel Garcia.\n"
     ]
    }
   ],
   "source": [
    "autor = \"gabriel garcia\"\n",
    "nuevo_nombre = autor.title() #Se le aplica el metodo al valor y se aguarda en una nueva variable\n",
    "print(f\"libro escrito por {nuevo_nombre}.\")"
   ]
  },
  {
   "attachments": {},
   "cell_type": "markdown",
   "metadata": {},
   "source": [
    "*2- Llamamos al metodo dentro del f-string y dentro de los {} se pone el metodo*"
   ]
  },
  {
   "cell_type": "code",
   "execution_count": 6,
   "metadata": {},
   "outputs": [
    {
     "name": "stdout",
     "output_type": "stream",
     "text": [
      "libro escrito por Gabriel Garcia.\n"
     ]
    }
   ],
   "source": [
    "autor = \"gabriel garcia\"\n",
    "print(f\"libro escrito por {autor.title()}.\")"
   ]
  },
  {
   "attachments": {},
   "cell_type": "markdown",
   "metadata": {},
   "source": [
    "> ### ⚠️ ***Como llamar funciones dentro de f-Strings en Python.***\n",
    "\n",
    "💡 *Al igual que el nombre las variables son reemplazadas por sus valores y las expresiones son reemplazadas por el resultado de las operaciones, una función es reemplazada por el valor que retorna la función.*"
   ]
  },
  {
   "cell_type": "code",
   "execution_count": 8,
   "metadata": {},
   "outputs": [
    {
     "name": "stdout",
     "output_type": "stream",
     "text": [
      "Hola Python, dime que deberia aprender: Aprende Python!\n",
      "Hola Python, dime que deberia aprender: Aprende JavaScript!\n"
     ]
    }
   ],
   "source": [
    "def opcion(a):\n",
    "  if a%2 == 0: #Numero par\n",
    "    return \"Aprende Python!\"\n",
    "  else: #Numero impar\n",
    "    return \"Aprende JavaScript!\"\n",
    "\n",
    "print(f\"Hola Python, dime que deberia aprender: {opcion(2)}\")\n",
    "print(f\"Hola Python, dime que deberia aprender: {opcion(3)}\")"
   ]
  }
 ],
 "metadata": {
  "kernelspec": {
   "display_name": "Python 3",
   "language": "python",
   "name": "python3"
  },
  "language_info": {
   "codemirror_mode": {
    "name": "ipython",
    "version": 3
   },
   "file_extension": ".py",
   "mimetype": "text/x-python",
   "name": "python",
   "nbconvert_exporter": "python",
   "pygments_lexer": "ipython3",
   "version": "3.11.2"
  },
  "orig_nbformat": 4,
  "vscode": {
   "interpreter": {
    "hash": "459f1063a819f0a78eb85397fcab11adf6418b5db326af8939302d6d323a63f9"
   }
  }
 },
 "nbformat": 4,
 "nbformat_minor": 2
}
