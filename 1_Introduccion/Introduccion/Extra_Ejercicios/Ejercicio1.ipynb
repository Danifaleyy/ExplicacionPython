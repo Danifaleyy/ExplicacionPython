{
 "cells": [
  {
   "cell_type": "code",
   "execution_count": 1,
   "metadata": {},
   "outputs": [
    {
     "data": {
      "text/plain": [
       "'Una panadería vende barras de pan a 3.49€ cada una. El pan que no es el día tiene un descuento del 60%. \\nEscribir un programa que comience leyendo el número de barras vendidas que no son del día. Después el programa \\ndebe mostrar el precio habitual de una barra de pan, el descuento que se le hace por no ser fresca y el coste final total.'"
      ]
     },
     "execution_count": 1,
     "metadata": {},
     "output_type": "execute_result"
    }
   ],
   "source": [
    "\"\"\"Una panadería vende barras de pan a 3.49€ cada una. El pan que no es el día tiene un descuento del 60%. \n",
    "Escribir un programa que comience leyendo el número de barras vendidas que no son del día. Después el programa \n",
    "debe mostrar el precio habitual de una barra de pan, el descuento que se le hace por no ser fresca y el coste final total.\"\"\""
   ]
  },
  {
   "cell_type": "code",
   "execution_count": 8,
   "metadata": {},
   "outputs": [
    {
     "name": "stdout",
     "output_type": "stream",
     "text": [
      "Vendimos en pan de no dia:  20.939999999999998\n"
     ]
    }
   ],
   "source": [
    "barras = int(input(\"Ingresa la cantidad de barras que no son del dia vendidas hoy: \"))\n",
    "precio_dia = 3.49\n",
    "precio_no_dia = precio_dia*0.60\n",
    "precio_final = precio_no_dia\n",
    "venta_no_dia = barras * precio_no_dia\n",
    "print(\"Vendimos en pan de no dia: \", venta_no_dia)"
   ]
  }
 ],
 "metadata": {
  "kernelspec": {
   "display_name": "Python 3",
   "language": "python",
   "name": "python3"
  },
  "language_info": {
   "codemirror_mode": {
    "name": "ipython",
    "version": 3
   },
   "file_extension": ".py",
   "mimetype": "text/x-python",
   "name": "python",
   "nbconvert_exporter": "python",
   "pygments_lexer": "ipython3",
   "version": "3.11.2"
  },
  "orig_nbformat": 4
 },
 "nbformat": 4,
 "nbformat_minor": 2
}
