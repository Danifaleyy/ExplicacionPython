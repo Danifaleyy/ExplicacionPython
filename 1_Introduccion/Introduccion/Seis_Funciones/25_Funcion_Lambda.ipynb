{
 "cells": [
  {
   "attachments": {},
   "cell_type": "markdown",
   "metadata": {},
   "source": [
    "> # ***Funcion: Lambda***\n",
    "\n",
    "💡 *Una función lambda es una pequeña función anónima.*\n",
    "\n",
    "💡 *Las expresiones lambda se usan idealmente cuando necesitamos hacer algo simple y estamos más interesados en hacer el trabajo rápidamente en lugar de nombrar formalmente la función.*\n",
    "\n",
    "> 💥 ***Estructura:***\n",
    "\n",
    "💡 *lambda argumentos: expresión*\n",
    "\n",
    "✅ *Se ejecuta la expresión y se devuelve el resultado*"
   ]
  },
  {
   "cell_type": "code",
   "execution_count": 2,
   "metadata": {},
   "outputs": [
    {
     "name": "stdout",
     "output_type": "stream",
     "text": [
      "15\n"
     ]
    }
   ],
   "source": [
    "#Agregue 10 al argumento ay devuelva el resultado:\n",
    "x = lambda a : a + 10\n",
    "print(x(5)) #Valor del argumento"
   ]
  },
  {
   "attachments": {},
   "cell_type": "markdown",
   "metadata": {},
   "source": [
    "> ### 💥 ***Una función lambda puede tomar cualquier cantidad de argumentos, pero solo puede tener una expresión (Operacion).***"
   ]
  },
  {
   "cell_type": "code",
   "execution_count": 2,
   "metadata": {},
   "outputs": [
    {
     "name": "stdout",
     "output_type": "stream",
     "text": [
      "30\n"
     ]
    }
   ],
   "source": [
    "#Multiplique el argumento (a) con el argumento (b) y devuelva el resultado:\n",
    "x = lambda a, b : a * b\n",
    "print(x(5, 6)) #(valor_arg_a,valor_arg_b)"
   ]
  },
  {
   "cell_type": "code",
   "execution_count": 3,
   "metadata": {},
   "outputs": [
    {
     "name": "stdout",
     "output_type": "stream",
     "text": [
      "13\n"
     ]
    }
   ],
   "source": [
    "#Multiplique el argumento (a) con el argumento (b) y con el argumento (c) devuelva el resultado:\n",
    "x = lambda a, b, c : a + b + c\n",
    "print(x(5, 6, 2)) #(valor_arg_a,valor_arg_b,valor_arg_c)"
   ]
  },
  {
   "attachments": {},
   "cell_type": "markdown",
   "metadata": {},
   "source": [
    "> ### 💥 ***¿Por qué utilizar las funciones de Lambda?***\n",
    "\n",
    "*✅ El poder de lambda se muestra mejor cuando los usa como una función anónima dentro de otra función.*"
   ]
  },
  {
   "cell_type": "code",
   "execution_count": 4,
   "metadata": {},
   "outputs": [],
   "source": [
    "#Digamos que tiene una definición de función que toma un argumento, y ese argumento se multiplicará con un número desconocido\n",
    "def myfunc(n):\n",
    "  return lambda a : a * n"
   ]
  },
  {
   "cell_type": "code",
   "execution_count": 5,
   "metadata": {},
   "outputs": [
    {
     "name": "stdout",
     "output_type": "stream",
     "text": [
      "22\n"
     ]
    }
   ],
   "source": [
    "#Use esa definición de función para hacer una función que siempre duplique el número que envía:\n",
    "def myfunc(n):\n",
    "  return lambda a : a * n\n",
    "\n",
    "mydoubler = myfunc(2)\n",
    "\n",
    "print(mydoubler(11))   "
   ]
  },
  {
   "cell_type": "code",
   "execution_count": 7,
   "metadata": {},
   "outputs": [
    {
     "name": "stdout",
     "output_type": "stream",
     "text": [
      "33\n"
     ]
    }
   ],
   "source": [
    "# use la misma definición de función para hacer una función que siempre triplique el número que envía:\n",
    "def myfunc(n):\n",
    "  return lambda a : a * n\n",
    "\n",
    "mytripler = myfunc(3)\n",
    "\n",
    "print(mytripler(11))"
   ]
  },
  {
   "cell_type": "code",
   "execution_count": 6,
   "metadata": {},
   "outputs": [
    {
     "name": "stdout",
     "output_type": "stream",
     "text": [
      "22\n",
      "33\n"
     ]
    }
   ],
   "source": [
    "#use la misma definición de función para hacer ambas funciones, en el mismo programa:\n",
    "def myfunc(n):\n",
    "  return lambda a : a * n\n",
    "\n",
    "mydoubler = myfunc(2)\n",
    "mytripler = myfunc(3)\n",
    "\n",
    "print(mydoubler(11))\n",
    "print(mytripler(11))"
   ]
  },
  {
   "attachments": {},
   "cell_type": "markdown",
   "metadata": {},
   "source": [
    "> ### 💥 ***Funcion normal (def) vs Funcion lambda***\n",
    "\n",
    "💡 *Las funciones Lambda se comportan como funciones normales declaradas con la palabra clave def. Resultan útiles cuando se desea definir una función pequeña de forma concisa. Pueden contener solo una expresión, por lo que no son las más adecuadas para funciones con instrucciones de flujo de control.*"
   ]
  },
  {
   "cell_type": "code",
   "execution_count": 6,
   "metadata": {},
   "outputs": [
    {
     "name": "stdout",
     "output_type": "stream",
     "text": [
      "9\n",
      "9\n"
     ]
    }
   ],
   "source": [
    "# Función Lambda para calcular el cuadrado de un número\n",
    "square = lambda x: x ** 2\n",
    "print(square(3)) # Resultado: 9\n",
    "\n",
    "# Funcion tradicional para calcular el cuadrado de un numero\n",
    "def square1(num):\n",
    "  return num ** 2\n",
    "print(square(3)) # Resultado: 9"
   ]
  }
 ],
 "metadata": {
  "kernelspec": {
   "display_name": "Python 3",
   "language": "python",
   "name": "python3"
  },
  "language_info": {
   "codemirror_mode": {
    "name": "ipython",
    "version": 3
   },
   "file_extension": ".py",
   "mimetype": "text/x-python",
   "name": "python",
   "nbconvert_exporter": "python",
   "pygments_lexer": "ipython3",
   "version": "3.11.2"
  },
  "orig_nbformat": 4
 },
 "nbformat": 4,
 "nbformat_minor": 2
}
