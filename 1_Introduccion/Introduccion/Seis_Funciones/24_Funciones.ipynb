{
 "cells": [
  {
   "attachments": {},
   "cell_type": "markdown",
   "metadata": {},
   "source": [
    "> # ***Funciones***\n",
    "\n",
    "💡 ***Una función es un bloque de código que solo se ejecuta cuando se le llama.***\n",
    "\n",
    "💡 ***Puedes llamar una funcion las veces que quieras***\n",
    "\n",
    "💡 ***A una funcion puede pasarle datos, son conocidos como parámetros***\n",
    "\n",
    "💡 ***Una función puede devolver datos como resultado***\n",
    "\n",
    "\n",
    "> 💥 ***Estructura:***\n",
    "\n",
    "💡 *La palabra clave (def) se utiliza para crear una funcion*\n",
    "\n",
    "***def nombre_funcion(Parametros):***\n",
    "\n",
    "        *Codigo*\n",
    "\n",
    "        *Codigo*"
   ]
  },
  {
   "attachments": {},
   "cell_type": "markdown",
   "metadata": {},
   "source": [
    "> ### ⚠️ ***Como llamar una funcion***\n",
    "\n",
    "💡 *Para llamar a una función, use el nombre de la función seguido de paréntesis:* ***def nombre_funcion( ):***"
   ]
  },
  {
   "cell_type": "code",
   "execution_count": 1,
   "metadata": {},
   "outputs": [
    {
     "name": "stdout",
     "output_type": "stream",
     "text": [
      "Hello from a function\n"
     ]
    }
   ],
   "source": [
    "def my_function():\n",
    "  print(\"Hello from a function\")\n",
    "my_function()"
   ]
  },
  {
   "attachments": {},
   "cell_type": "markdown",
   "metadata": {},
   "source": [
    "> ### ⚠️ ***Parametros o Argumentos***\n",
    "\n",
    "❓ *Es la informacion que se puede pasar a las funciones*\n",
    "\n",
    "💡 *Los argumentos se especifican después del nombre de la función, entre paréntesis:* ***def nombre_funcion(parametro,parametro)***\n",
    "\n",
    "✅ *Puedes agregar la cantidad de parametros que quieras, simplemente sepárelos con una coma: (,)*"
   ]
  },
  {
   "cell_type": "code",
   "execution_count": 5,
   "metadata": {},
   "outputs": [
    {
     "name": "stdout",
     "output_type": "stream",
     "text": [
      "Emil Refsnes\n",
      "Tobias Refsnes\n",
      "Linus Refsnes\n"
     ]
    }
   ],
   "source": [
    "#El siguiente ejemplo tiene una función con un argumento (fname). Cuando se llama a la función, \n",
    "#Pasamos un nombre, que se usa dentro de la función para imprimir el nombre completo:\n",
    "def my_function(fname):\n",
    "  print(fname + \" Refsnes\")\n",
    "my_function(\"Emil\")\n",
    "my_function(\"Tobias\")\n",
    "my_function(\"Linus\")"
   ]
  },
  {
   "attachments": {},
   "cell_type": "markdown",
   "metadata": {},
   "source": [
    "> ### ⚠️ ***Número de parametros***\n",
    "\n",
    "✅ ***Una función debe llamarse con el número correcto de argumentos:*** *Lo que significa que si su función espera 2 argumentos, debe llamar a la función con 2 argumentos, ni más ni menos.*"
   ]
  },
  {
   "cell_type": "code",
   "execution_count": 9,
   "metadata": {},
   "outputs": [
    {
     "name": "stdout",
     "output_type": "stream",
     "text": [
      "Emil Refsnes\n",
      "Daniel Leyva\n"
     ]
    }
   ],
   "source": [
    "#Esta función espera 2 argumentos y obtiene 2 argumentos:\n",
    "def my_function(fname, lname):\n",
    "  print(fname + \" \" + lname)\n",
    "my_function(\"Emil\", \"Refsnes\")\n",
    "my_function(\"Daniel\", \"Leyva\")"
   ]
  },
  {
   "attachments": {},
   "cell_type": "markdown",
   "metadata": {},
   "source": [
    "❌ *Si llamas a una funcion con el numero incorrecto de argumentos -- Te dara error*"
   ]
  },
  {
   "cell_type": "code",
   "execution_count": 10,
   "metadata": {},
   "outputs": [
    {
     "ename": "TypeError",
     "evalue": "my_function() missing 1 required positional argument: 'lname'",
     "output_type": "error",
     "traceback": [
      "\u001b[1;31m---------------------------------------------------------------------------\u001b[0m",
      "\u001b[1;31mTypeError\u001b[0m                                 Traceback (most recent call last)",
      "Cell \u001b[1;32mIn[10], line 4\u001b[0m\n\u001b[0;32m      2\u001b[0m \u001b[39mdef\u001b[39;00m \u001b[39mmy_function\u001b[39m(fname, lname):\n\u001b[0;32m      3\u001b[0m   \u001b[39mprint\u001b[39m(fname \u001b[39m+\u001b[39m \u001b[39m\"\u001b[39m\u001b[39m \u001b[39m\u001b[39m\"\u001b[39m \u001b[39m+\u001b[39m lname)\n\u001b[1;32m----> 4\u001b[0m my_function(\u001b[39m\"\u001b[39;49m\u001b[39mEmil\u001b[39;49m\u001b[39m\"\u001b[39;49m)\n",
      "\u001b[1;31mTypeError\u001b[0m: my_function() missing 1 required positional argument: 'lname'"
     ]
    }
   ],
   "source": [
    "#Esta función espera 2 argumentos, pero solo obtiene 1:\n",
    "def my_function(fname, lname):\n",
    "  print(fname + \" \" + lname)\n",
    "my_function(\"Emil\")"
   ]
  },
  {
   "attachments": {},
   "cell_type": "markdown",
   "metadata": {},
   "source": [
    "> ### ⚠️ ***Argumentos arbitrarios: args***\n",
    "\n",
    "💡 Se usa el simbolo: (*)\n",
    "\n",
    "✅ Si no sabe cuantos argumentos se pasaran a la funcion se utiliza el simbolo (*)\n",
    "\n",
    "❓ Indica que la funcion recibira una tupla de argumentos y podra acceder a sus elementos\n",
    "\n",
    "❓ Agregue un (*) antes del nombre del parámetro en la definición de la función."
   ]
  },
  {
   "cell_type": "code",
   "execution_count": 31,
   "metadata": {},
   "outputs": [
    {
     "name": "stdout",
     "output_type": "stream",
     "text": [
      "The youngest child is Linus\n",
      "<class 'function'>\n"
     ]
    }
   ],
   "source": [
    "#Si se desconoce el número de argumentos, agregue un *antes del nombre del parámetro:\n",
    "def my_function(*kids):\n",
    "  print(\"The youngest child is \" + kids[2]) #Parametro de la posicion 2\n",
    "my_function(\"Emil\", \"Tobias\", \"Linus\")\n",
    "print(type(my_function))"
   ]
  },
  {
   "cell_type": "code",
   "execution_count": 17,
   "metadata": {},
   "outputs": [
    {
     "name": "stdout",
     "output_type": "stream",
     "text": [
      "The youngest child is Tobias\n"
     ]
    }
   ],
   "source": [
    "#Si se desconoce el número de argumentos, agregue un *antes del nombre del parámetro:\n",
    "def my_function(*kids):\n",
    "  print(\"The youngest child is \" + kids[1]) #Parametro de la posicion 1\n",
    "my_function(\"Emil\", \"Tobias\", \"Linus\")"
   ]
  },
  {
   "attachments": {},
   "cell_type": "markdown",
   "metadata": {},
   "source": [
    "> ### ⚠️ ***Argumentos de palabras clave (key-value): kwargs***\n",
    "\n",
    "💡 *Puedes enviar argumentos con la sintaxis key = value*\n",
    "\n",
    "✅ *De esta manera el orden de los argumentos no importa porque tiene una key cada elemento.*"
   ]
  },
  {
   "cell_type": "code",
   "execution_count": 32,
   "metadata": {},
   "outputs": [
    {
     "name": "stdout",
     "output_type": "stream",
     "text": [
      "The youngest child is Linus\n"
     ]
    }
   ],
   "source": [
    "def my_function(child3, child2, child1):\n",
    "  print(\"The youngest child is \" + child3) #Solo imprimira (child3)\n",
    "my_function(child1 = \"Emil\", child2 = \"Tobias\", child3 = \"Linus\")"
   ]
  },
  {
   "cell_type": "code",
   "execution_count": 33,
   "metadata": {},
   "outputs": [
    {
     "name": "stdout",
     "output_type": "stream",
     "text": [
      "The youngest child is Emil\n"
     ]
    }
   ],
   "source": [
    "def my_function(child3, child2, child1):\n",
    "  print(\"The youngest child is \" + child1) #Solo imprimira (child1)\n",
    "my_function(child1 = \"Emil\", child2 = \"Tobias\", child3 = \"Linus\")"
   ]
  },
  {
   "attachments": {},
   "cell_type": "markdown",
   "metadata": {},
   "source": [
    "> ### ⚠️ ***Argumentos de palabras clave arbitrarias (key-value)*** *****kwargs***\n",
    "\n",
    "💡 *Si no sabe cuántos argumentos de palabras clave se pasarán a su función, agregue dos asteriscos (**) antes del nombre del parámetro en la definición de la función.*\n",
    "\n",
    "❓ *De esta forma, la función recibirá un diccionario de argumentos y podrá acceder a los elementos en consecuencia.*"
   ]
  },
  {
   "cell_type": "code",
   "execution_count": 20,
   "metadata": {},
   "outputs": [
    {
     "name": "stdout",
     "output_type": "stream",
     "text": [
      "His last name is Refsnes\n"
     ]
    }
   ],
   "source": [
    "#Si se desconoce el número de argumentos de palabras clave, agregue un doble **antes del nombre del parámetro:\n",
    "def my_function(**kid):\n",
    "  print(\"His last name is \" + kid[\"lname\"])\n",
    "my_function(fname = \"Tobias\", lname = \"Refsnes\")"
   ]
  },
  {
   "attachments": {},
   "cell_type": "markdown",
   "metadata": {},
   "source": [
    "> ### ⚠️ ***Valor de parámetro predeterminado***\n",
    "\n",
    "💡 *Si llamamos a la función sin argumento, usa el valor predeterminado que le diste al parametro*"
   ]
  },
  {
   "cell_type": "code",
   "execution_count": 21,
   "metadata": {},
   "outputs": [
    {
     "name": "stdout",
     "output_type": "stream",
     "text": [
      "I am from Sweden\n",
      "I am from India\n",
      "I am from Norway\n",
      "I am from Brazil\n"
     ]
    }
   ],
   "source": [
    "def my_function(country = \"Norway\"):\n",
    "  print(\"I am from \" + country)\n",
    "\n",
    "my_function(\"Sweden\")\n",
    "my_function(\"India\")\n",
    "my_function() #Aqui toma el valor que le diste al parametro porque esta vacio\n",
    "my_function(\"Brazil\")"
   ]
  },
  {
   "attachments": {},
   "cell_type": "markdown",
   "metadata": {},
   "source": [
    "> ### ⚠️ ***Pasar una lista como argumento***\n",
    "\n",
    "💡 *Puede enviar cualquier tipo de datos de argumento a una función (cadena, número, lista, diccionario, etc.), y se tratará como el mismo tipo de datos dentro de la función.*\n",
    "\n",
    "✅ *Por ejemplo, si envía una Lista como argumento, seguirá siendo una Lista cuando llegue a la función.*"
   ]
  },
  {
   "cell_type": "code",
   "execution_count": 36,
   "metadata": {},
   "outputs": [
    {
     "name": "stdout",
     "output_type": "stream",
     "text": [
      "apple\n",
      "banana\n",
      "cherry\n",
      "<class 'function'>\n"
     ]
    }
   ],
   "source": [
    "def my_function(food):\n",
    "  for x in food:\n",
    "    print(x)\n",
    "    \n",
    "fruits = [\"apple\", \"banana\", \"cherry\"] #Se crea la lista\n",
    "my_function(fruits) #Se le asigna la lista (fruits) como parametro a la funcion (my_function)\n",
    "\n",
    "print(type(my_function))"
   ]
  },
  {
   "attachments": {},
   "cell_type": "markdown",
   "metadata": {},
   "source": [
    "> ### ⚠️ ***Valores devueltos (return)***\n",
    "\n",
    "💡 *Para permitir que una función devuelva un valor, use la declaracion (return)*\n",
    "\n",
    "❓*print() sirve para mostrar un mensaje en la pantalla de una aplicación de consola, mientras que return se utiliza para establecer el resultado (o valor de retorno) de una función y pueda almacenar un valor.*"
   ]
  },
  {
   "cell_type": "code",
   "execution_count": 2,
   "metadata": {},
   "outputs": [
    {
     "name": "stdout",
     "output_type": "stream",
     "text": [
      "15\n",
      "25\n",
      "45\n"
     ]
    }
   ],
   "source": [
    "def my_function(x):\n",
    "  return 5 * x\n",
    "\n",
    "print(my_function(3))\n",
    "print(my_function(5))\n",
    "print(my_function(9))"
   ]
  },
  {
   "cell_type": "code",
   "execution_count": 3,
   "metadata": {},
   "outputs": [
    {
     "name": "stdout",
     "output_type": "stream",
     "text": [
      "None\n",
      "None\n",
      "None\n"
     ]
    }
   ],
   "source": [
    "#Cuando no le pones (return) no te deja llamar a las funciones porque no te retorno ningun resultado ni dato\n",
    "def my_function(x):\n",
    "  variable = 5 * x\n",
    "\n",
    "print(my_function(3))\n",
    "print(my_function(5))\n",
    "print(my_function(9))"
   ]
  },
  {
   "cell_type": "code",
   "execution_count": 4,
   "metadata": {},
   "outputs": [
    {
     "name": "stdout",
     "output_type": "stream",
     "text": [
      "15\n",
      "25\n",
      "45\n"
     ]
    }
   ],
   "source": [
    "#Cuando no le pones (return) no te deja llamar a las funciones porque no te retorno ningun resultado ni dato\n",
    "def my_function(x):\n",
    "  variable = 5 * x\n",
    "  return variable\n",
    "\n",
    "print(my_function(3))\n",
    "print(my_function(5))\n",
    "print(my_function(9))"
   ]
  },
  {
   "attachments": {},
   "cell_type": "markdown",
   "metadata": {},
   "source": [
    "> ### ⚠️ ***Declaración: pass***\n",
    "\n",
    "❌✅ *Las funciones no pueden estar vacias, te darian ERROR, pero si por algún motivo tiene una funcion sin contenido, introduzca (pass) para evitar que se produzca un error.*"
   ]
  },
  {
   "cell_type": "code",
   "execution_count": 11,
   "metadata": {},
   "outputs": [],
   "source": [
    "def myfunction():\n",
    "  pass"
   ]
  },
  {
   "cell_type": "code",
   "execution_count": 12,
   "metadata": {},
   "outputs": [
    {
     "ename": "SyntaxError",
     "evalue": "incomplete input (4122323943.py, line 1)",
     "output_type": "error",
     "traceback": [
      "\u001b[1;36m  Cell \u001b[1;32mIn[12], line 1\u001b[1;36m\u001b[0m\n\u001b[1;33m    def myfunction():\u001b[0m\n\u001b[1;37m                     ^\u001b[0m\n\u001b[1;31mSyntaxError\u001b[0m\u001b[1;31m:\u001b[0m incomplete input\n"
     ]
    }
   ],
   "source": [
    "def myfunction():"
   ]
  }
 ],
 "metadata": {
  "kernelspec": {
   "display_name": "Python 3",
   "language": "python",
   "name": "python3"
  },
  "language_info": {
   "codemirror_mode": {
    "name": "ipython",
    "version": 3
   },
   "file_extension": ".py",
   "mimetype": "text/x-python",
   "name": "python",
   "nbconvert_exporter": "python",
   "pygments_lexer": "ipython3",
   "version": "3.11.2"
  },
  "orig_nbformat": 4
 },
 "nbformat": 4,
 "nbformat_minor": 2
}
