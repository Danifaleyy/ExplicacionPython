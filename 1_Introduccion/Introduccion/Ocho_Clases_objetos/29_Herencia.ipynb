{
 "cells": [
  {
   "attachments": {},
   "cell_type": "markdown",
   "metadata": {},
   "source": [
    "# ***Herencia***\n",
    "\n",
    "❓ ***¿Que es la herencia?*** *La herencia nos permite que una clase hija herede todos los atributos y metodos de la clase padre*\n",
    "\n",
    "❓ ***¿Que es la clase padre?*** *Es la clase base, solamente hay 1*\n",
    "\n",
    "❓ ***¿Que es la clase hija?*** *Es la clase que hereda todos los atributos y metodos de la clase padre, Puede haber muchas*\n",
    "\n",
    "> ### ⚠️ ***Como crear una clase padre***\n",
    "\n",
    "💡 ***Cualquier clase puede ser una clase principal, por lo que la sintaxis es la misma que para crear cualquier otra clase***\n",
    "\n",
    "💡 ***Estructura de una clase padre:***\n",
    "\n",
    "        *class nombre_clase:*\n",
    "\n",
    "                *atributos*\n",
    "\n",
    "                *metodos*"
   ]
  },
  {
   "cell_type": "code",
   "execution_count": 3,
   "metadata": {},
   "outputs": [
    {
     "name": "stdout",
     "output_type": "stream",
     "text": [
      "Daniel Leyva\n"
     ]
    }
   ],
   "source": [
    "#Creando la clase: class nombre_clase\n",
    "class Persona: #Clase padre\n",
    "  #Atributos\n",
    "  def __init__(self, nombre, apellido):\n",
    "    self.nombre = nombre\n",
    "    self.apellido = apellido\n",
    "  #Metodo: Para imprimir\n",
    "  def mostrar(self):\n",
    "    print(self.nombre, self.apellido)\n",
    "\n",
    "#Creamos el objeto de la clase padre (Persona) llamado (persona1)\n",
    "persona1 = Persona(\"Daniel\", \"Leyva\")\n",
    "persona1.mostrar() #Llamamos al metodo: Para imrpimir"
   ]
  },
  {
   "attachments": {},
   "cell_type": "markdown",
   "metadata": {},
   "source": [
    "> ### ⚠️ ***Como crear una clase hija***\n",
    "\n",
    "💡 ***Debemos de poner como parametro la clase padre al crear la clase hija***\n",
    "\n",
    "💡 ***Estructura de una clase hija:***\n",
    "\n",
    "        *class nombre_clase_hija(nombre_clase_padre)*\n",
    "        \n",
    "                *atributos*\n",
    "\n",
    "                *metodos*"
   ]
  },
  {
   "cell_type": "code",
   "execution_count": 4,
   "metadata": {},
   "outputs": [],
   "source": [
    "#Creamos una clase hija: La clase hija (Estudiante) heredara los atributos y metodos de la clase padre (Persona)\n",
    "#Estructura: class nombre_clase_hija(nombre_clase_padre)\n",
    "class Estudiante1(Persona):\n",
    "  pass"
   ]
  },
  {
   "attachments": {},
   "cell_type": "markdown",
   "metadata": {},
   "source": [
    "> ### ⚠️ ***Agregar la función incorporada __init__()***\n",
    "\n",
    "💡 *Esta funcion nos permite darle valores a los atributos de un objeto, cuando se crea.*\n",
    "\n",
    "💡 *Todas las clases tiene la funcion incorporada __init__(), siempre se ejecuta cuando se inicia la clase.*\n",
    "\n",
    "💥 *El primer parametro debe de ser self*\n",
    "\n",
    "💡 *Te estas refiriendo a un objeto actual de la clase y se utiliza para acceder a las variables que pertenecen a la clase.*\n",
    "\n",
    "✖️ ***Cuando agregas la funcion __init__() a una clase hija:*** *La clase hija no heredara la funcion __init__() de la clase padre osea los atributos de la clase padre no los heredara.*\n",
    "\n",
    "✅ ***Como mantener la herencia de la clase padre a la hija:*** *Agrega la funcion __init__() de la clase padre a la clase hija.*\n",
    "\n",
    "        💡 Estructura: Clase_padre.__init__(self, Parametros)"
   ]
  },
  {
   "cell_type": "code",
   "execution_count": 5,
   "metadata": {},
   "outputs": [
    {
     "name": "stdout",
     "output_type": "stream",
     "text": [
      "Lana Del Rey\n"
     ]
    }
   ],
   "source": [
    "#Cuando agregas la funcion __init__() a una clase hija:*** *La clase hija no heredara la \n",
    "#funcion __init__() de la clase padre osea los atributos de la clase padre no los heredara.\n",
    "class Estudiante1(Persona):\n",
    "  def __init__(self, nombre, apellido):\n",
    "    pass\n",
    "\n",
    "#Como mantener la herencia de la clase padre a la hija:*** *Agrega la funcion __init__() de \n",
    "#la clase padre a la clase hija.\n",
    "#Estructura: Clase_padre.__init__(self, Parametros)\n",
    "class Estudiante2(Persona):\n",
    "  def __init__(self, nombre, apellido):\n",
    "    Persona.__init__(self, nombre, apellido)\n",
    "\n",
    "#Creamos un objeto de la clase hija (Estudiante)\n",
    "#***Estructura:*** *nombre_objeto = Nombre_Clase(Parametro1,Parametro2)*\n",
    "estudiante1 = Estudiante2(\"Lana\", \"Del Rey\")\n",
    "estudiante1.mostrar()\n"
   ]
  },
  {
   "attachments": {},
   "cell_type": "markdown",
   "metadata": {},
   "source": [
    "> ### ⚠️ ***Usando la función: super()***\n",
    "\n",
    "💡 *Esta funcion hará que la clase hija herede todos los métodos y propiedades de su padre.*\n",
    "\n",
    "✅ *Al usar la esta funcion  no tiene que usar el nombre de la clase padre, automáticamente heredará los métodos y propiedades de la clase padre.*\n",
    "\n",
    "💡 *Se usa para cuando queremos agregar nuevos atributos o metodos a una clase hija*\n",
    "\n",
    "💡 ***Estructura:*** *super().__init__(Parametros)*"
   ]
  },
  {
   "cell_type": "code",
   "execution_count": 6,
   "metadata": {},
   "outputs": [],
   "source": [
    "#Estructura de la funcion super: super().__init__(Parametros)\n",
    "#La clase hija (Estudiante2) heredara los atributos de la clase padre (Persona)\n",
    "class Estudiante2(Persona):\n",
    "  def __init__(self, nombre, apellido):\n",
    "    super().__init__(nombre, apellido)"
   ]
  },
  {
   "attachments": {},
   "cell_type": "markdown",
   "metadata": {},
   "source": [
    "> ### ⚠️ ***Agregar atributos***\n",
    "\n",
    "⭕ ***Hay 2 formas de hacerlo:***\n",
    "\n",
    "💡*1- Sin super():*\n",
    "        \n",
    "        estructura: nombre_clase_padre.__init__(self, parametro, parametro)"
   ]
  },
  {
   "cell_type": "code",
   "execution_count": 7,
   "metadata": {},
   "outputs": [
    {
     "name": "stdout",
     "output_type": "stream",
     "text": [
      "2023\n",
      "Lana Del Rey\n"
     ]
    }
   ],
   "source": [
    "#Creando la clase: class nombre_clase\n",
    "class Persona: #Clase padre\n",
    "  #Atributos\n",
    "  def __init__(self, nombre, apellido):\n",
    "    self.nombre = nombre\n",
    "    self.apellido = apellido\n",
    "  #Metodo: Para imprimir\n",
    "  def mostrar(self):\n",
    "    print(self.nombre, self.apellido)\n",
    "\n",
    "#Agregando un atributo a la clase hija (Estudiante2): Agregaras el atributo del año en el que se graduo\n",
    "class Estudiante2(Persona):\n",
    "  def __init__(self, nombre, apellido):\n",
    "    Persona.__init__(self, nombre, apellido)\n",
    "    #Aqui se esta agregando atributos unicamente para la clase hija (Estudiante2)\n",
    "    self.ano_graduacion = 2023\n",
    "\n",
    "#Objeto de la clase hija (Estudiante2)\n",
    "\n",
    "#Creamos un objeto de la clase hija (Estudiante)\n",
    "#***Estructura:*** *nombre_objeto = Nombre_Clase(Parametro1,Parametro2)*\n",
    "estudiante1 = Estudiante2(\"Lana\", \"Del Rey\")\n",
    "print(estudiante1.ano_graduacion)\n",
    "estudiante1.mostrar()"
   ]
  },
  {
   "attachments": {},
   "cell_type": "markdown",
   "metadata": {},
   "source": [
    "💡 *2- Con super()*"
   ]
  },
  {
   "cell_type": "code",
   "execution_count": 8,
   "metadata": {},
   "outputs": [
    {
     "name": "stdout",
     "output_type": "stream",
     "text": [
      "2023\n",
      "Lana Del Rey\n"
     ]
    }
   ],
   "source": [
    "#Creando la clase: class nombre_clase\n",
    "class Persona: #Clase padre\n",
    "  #Atributos\n",
    "  def __init__(self, nombre, apellido):\n",
    "    self.nombre = nombre\n",
    "    self.apellido = apellido\n",
    "  #Metodo: Para imprimir\n",
    "  def mostrar(self):\n",
    "    print(self.nombre, self.apellido)\n",
    "\n",
    "#Agregando un atributo a la clase hija (Estudiante2): Agregaras el atributo del año en el que se graduo\n",
    "class Estudiante2(Persona):\n",
    "  def __init__(self, nombre, apellido, ano_graduacion): #Aqui se le agrego unnuevo atributo\n",
    "    Persona.__init__(self, nombre, apellido)\n",
    "    #Aqui se esta agregando atributos unicamente para la clase hija (Estudiante2)\n",
    "    self.ano_graduacion = ano_graduacion\n",
    "\n",
    "#Objeto de la clase hija (Estudiante2)\n",
    "\n",
    "#Creamos un objeto de la clase hija (Estudiante)\n",
    "#***Estructura:*** *nombre_objeto = Nombre_Clase(Parametro1,Parametro2)*\n",
    "estudiante1 = Estudiante2(\"Lana\", \"Del Rey\", 2023)\n",
    "print(estudiante1.ano_graduacion)\n",
    "estudiante1.mostrar()"
   ]
  },
  {
   "attachments": {},
   "cell_type": "markdown",
   "metadata": {},
   "source": [
    "> ### ⚠️ ***Agregar metodos***\n",
    "\n",
    "✖️ *Si agregas un método en la clase hija con el mismo nombre que una función en la clase padre, se anulará la herencia del método principal.*"
   ]
  },
  {
   "cell_type": "code",
   "execution_count": 9,
   "metadata": {},
   "outputs": [
    {
     "name": "stdout",
     "output_type": "stream",
     "text": [
      "Welcome Mike Olsen to the class of 2019\n"
     ]
    }
   ],
   "source": [
    "class Person:\n",
    "  def __init__(self, fname, lname):\n",
    "    self.firstname = fname\n",
    "    self.lastname = lname\n",
    "\n",
    "  def printname(self):\n",
    "    print(self.firstname, self.lastname)\n",
    "#Agregue un método llamado welcome a la clase hija (Student):\n",
    "class Student(Person): \n",
    "  def __init__(self, fname, lname, year):\n",
    "    super().__init__(fname, lname)\n",
    "    self.graduationyear = year\n",
    "\n",
    "  def welcome(self):\n",
    "    print(\"Welcome\", self.firstname, self.lastname, \"to the class of\", self.graduationyear)\n",
    "\n",
    "x = Student(\"Mike\", \"Olsen\", 2019)\n",
    "x.welcome()\n"
   ]
  }
 ],
 "metadata": {
  "kernelspec": {
   "display_name": "Python 3",
   "language": "python",
   "name": "python3"
  },
  "language_info": {
   "codemirror_mode": {
    "name": "ipython",
    "version": 3
   },
   "file_extension": ".py",
   "mimetype": "text/x-python",
   "name": "python",
   "nbconvert_exporter": "python",
   "pygments_lexer": "ipython3",
   "version": "3.11.2"
  },
  "orig_nbformat": 4
 },
 "nbformat": 4,
 "nbformat_minor": 2
}
