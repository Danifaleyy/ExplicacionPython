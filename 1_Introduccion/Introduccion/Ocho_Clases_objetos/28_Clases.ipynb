{
 "cells": [
  {
   "attachments": {},
   "cell_type": "markdown",
   "metadata": {},
   "source": [
    "# ***Clase y objetos***\n",
    "\n",
    "💡 ***Todo en python es un objeto***\n",
    "\n",
    "❓ ***¿Que es una clase?*** *Es un molde para crear objetos.*\n",
    "\n",
    "❓ ***¿Que es una objeto u instancia?*** *Un objeto u instancia tiene 2 propiedades:*\n",
    "\n",
    "        ❓ 1- ¿Que es un atributo? Es una caracteristica del objeto\n",
    "\n",
    "        ❓ 2- ¿Que es un metodo? Es una accion que puede realizar el objeto\n",
    "\n",
    "💡***Un objeto es creado apartir de una clase, el proceso de la creacion del objeto se llama instanciación***\n",
    "\n",
    "💥 ***Regla para el nombre de una clase:*** *Cada palabra inicia con mayuscula (Ejemplo: CuentaBancaria)*\n",
    "\n",
    "💥 ***Cuando modificas el atributo de un objeto solamente estas afectando a ese objeto y no a los otros objetos***\n",
    "\n",
    "💥 ***A los atributos y metodos de una clase no se modifican o se le dan valores, para eso se crean los objetos, a los objetos si los podemos modifciarm una clase tiene valores vacios.***\n",
    "\n",
    "💥 ***Los atributos y metodos creados para una clase estaran en todos los objetos creados.***\n",
    "\n",
    "> ### ⚠️ ***Como crear una clase***\n",
    "\n",
    "💡 *Usamos la palabra clave:* ***class***\n",
    "\n",
    "💡 ***Estructura:***\n",
    "\n",
    "*class nombre_clase:*\n",
    "\n",
    "        *atributos*\n",
    "\n",
    "        *metodos*\n"
   ]
  },
  {
   "cell_type": "code",
   "execution_count": 1,
   "metadata": {},
   "outputs": [],
   "source": [
    "#Cree una clase llamada MyClass, con una propiedad llamada x:\n",
    "class MyClass:\n",
    "  x = 5"
   ]
  },
  {
   "attachments": {},
   "cell_type": "markdown",
   "metadata": {},
   "source": [
    "> ### ⚠️ ***Como crear un objeto***\n",
    "\n",
    "❓ ***Un objeto tiene 2 propiedades:*** *Atributos (Caracteristicas que reciben un valor) y metodos (Acciones)*\n",
    "\n",
    "💡 ***Estructura:*** *nombre_objeto = Nombre_Clase(Parametro1,Parametro2)*\n",
    "\n",
    "✅ ***Ejemplo:***"
   ]
  },
  {
   "attachments": {},
   "cell_type": "markdown",
   "metadata": {},
   "source": [
    "> ### ⚠️ ***Como crear atributos: Funcion __init__() ***\n",
    "\n",
    "💥 Se utiliza la funcion incorporada: __init__()\n",
    "\n",
    "💡 *Esta funcion nos permite darle valores a los atributos de un objeto, cuando se crea.*\n",
    "\n",
    "💡 Todas las clases tiene la funcion incorporada __init__(), siempre se ejecuta cuando se inicia la clase.\n",
    "\n",
    "> ### ⚠️ ***Parametro (Self):***\n",
    "\n",
    "💥 *El primer parametro debe de ser self*\n",
    "\n",
    "💡 *Te estas refiriendo a un objeto actual de la clase y se utiliza para acceder a las variables que pertenecen a la clase.*"
   ]
  },
  {
   "cell_type": "code",
   "execution_count": 8,
   "metadata": {},
   "outputs": [
    {
     "name": "stdout",
     "output_type": "stream",
     "text": [
      "5\n"
     ]
    }
   ],
   "source": [
    "#Cree un objeto llamado p1 e imprima el valor de x:\n",
    "class MyClass:\n",
    "  x = 5\n",
    "#nombre_objeto = Nombre_Clase(Parametro,Parametro)\n",
    "p1 = MyClass() #Objeto: p1\n",
    "print(p1.x)"
   ]
  },
  {
   "attachments": {},
   "cell_type": "markdown",
   "metadata": {},
   "source": [
    "✅ ***Ejemplo Cuenta bancaria:***"
   ]
  },
  {
   "cell_type": "code",
   "execution_count": 31,
   "metadata": {},
   "outputs": [
    {
     "name": "stdout",
     "output_type": "stream",
     "text": [
      "123-456-7890\n",
      "DanieL Leyva\n",
      "100\n",
      "123-456-7890\n",
      "DanieL Leyva\n",
      "300\n"
     ]
    }
   ],
   "source": [
    "#Creando una clase llamada (CuentaBancaria)\n",
    "#Atributos: numero de cuenta, nombre del titular, Monto actual\n",
    "#Metodos: deposito, extraer ,mostrar\n",
    "\n",
    "#Creando la clase: class nombre_clase\n",
    "class CuentaBancaria:\n",
    "    #Se utiliza la funcion incorporada: __init__() para poder darle valores a los atributos\n",
    "    def __init__(self, num_cuenta, nombre_titular, monto_actual):\n",
    "            #Atributos de la clase CuentaBancaria\n",
    "            #Como darle un valor a un atributo: self.nombre_parametro = nombre_parametro (Se le asiganara el valor del nombre_parametro)\n",
    "            self.num_cuenta = num_cuenta\n",
    "            self.nombre_titular = nombre_titular\n",
    "            self.monto_actual = monto_actual\n",
    "    #Creando los metodos de la clase: def nombre_metodo(parametro1,parametro2)\n",
    "    def depositar(self, ganancia):\n",
    "          if ganancia > 0:\n",
    "                self.monto_actual += ganancia\n",
    "    def mostrar(self):\n",
    "          print(self.num_cuenta)\n",
    "          print(self.nombre_titular)\n",
    "          print(self.monto_actual)\n",
    "#Creando objetos: nombre_objeto = nombre_clase(valores de los parametros)\n",
    "#La misma cantidad de valores ingresados debe de ser la misma que la de atributos\n",
    "cuenta_bancaria1 = CuentaBancaria(\"123-456-7890\", \"DanieL Leyva\", 100)\n",
    "\n",
    "#Como llamar al metodo para mostrar: nombre_objeto.nombre_metodo()\n",
    "cuenta_bancaria1.mostrar()\n",
    "#Como acceder al metodo\n",
    "cuenta_bancaria1.depositar(200) #Aqui le dimos un valor al atributo (ganancia)\n",
    "cuenta_bancaria1.mostrar()"
   ]
  },
  {
   "attachments": {},
   "cell_type": "markdown",
   "metadata": {},
   "source": [
    "✅ ***Ejemplo Persona***"
   ]
  },
  {
   "cell_type": "code",
   "execution_count": 32,
   "metadata": {},
   "outputs": [
    {
     "name": "stdout",
     "output_type": "stream",
     "text": [
      "Daniel\n",
      "21\n",
      "100\n",
      "Luis\n",
      "24\n",
      "500\n",
      "Daniel\n",
      "21\n",
      "200\n",
      "Luis\n",
      "24\n",
      "1000\n"
     ]
    }
   ],
   "source": [
    "#Creando una clase llamada (Persona)\n",
    "\n",
    "#Creando la clase: class nombre_clase\n",
    "class Persona: \n",
    "  #Se utiliza la funcion incorporada: __init__() para poder darle valores a los atributos\n",
    "  def __init__(self, nombre, edad, ahorro):\n",
    "    #Atributos de la clase Persona\n",
    "    #Como darle un valor a un atributo: self.nombre_parametro = nombre_parametro (Se le asiganara el valor del nombre_parametro)\n",
    "    self.nombre = nombre\n",
    "    self.edad= edad\n",
    "    self.ahorro = ahorro\n",
    "   #Creando los metodos del objeto persona1: def nombre_metodo(parametro1,parametro2)\n",
    "  def sueldo(self, ganancia):\n",
    "    if ganancia > 0:\n",
    "      self.ahorro += ganancia\n",
    "   #Creando un metodo para mostrar\n",
    "  def mostrar(self):\n",
    "   print(self.nombre)\n",
    "   print(self.edad)\n",
    "   print(self.ahorro)\n",
    "\n",
    "#Creando el objeto: nombre_objeto = Nombre_Clase(Parametro,Parametro) e ingresando los valores de los parametros\n",
    "persona1 = Persona(\"Daniel\", 21, 100)\n",
    "persona2 = Persona(\"Luis\", 24, 500)\n",
    "\n",
    "#Imprimiendo el valor de los atributos del objeto persona1: print(nombre_objeto.nombre_parametro)\n",
    "print(persona1.nombre)\n",
    "print(persona1.edad)\n",
    "print(persona1.ahorro)\n",
    "print(persona2.nombre)\n",
    "print(persona2.edad)\n",
    "print(persona2.ahorro)\n",
    "\n",
    "#Actualizando: dando el valor a un parametro\n",
    "persona1.sueldo(100)\n",
    "persona2.sueldo(500)\n",
    "\n",
    "#Como llamamos a un metodo: nombre_objeto.nombre_metodo()\n",
    "#Mostrando usando el metodo creado para mostrar\n",
    "persona1.mostrar()\n",
    "persona2.mostrar()"
   ]
  },
  {
   "attachments": {},
   "cell_type": "markdown",
   "metadata": {},
   "source": [
    "💥 *Al parametro self puedes llamarlo como tu quieras pero siempre debe de existir y deb de ser el primer parametro.*"
   ]
  },
  {
   "cell_type": "code",
   "execution_count": 33,
   "metadata": {},
   "outputs": [
    {
     "name": "stdout",
     "output_type": "stream",
     "text": [
      "Hello my name is John\n"
     ]
    }
   ],
   "source": [
    "#Usa las palabras mysillyobject y abc en lugar de self :\n",
    "\n",
    "class Person:\n",
    "  def __init__(mysillyobject, name, age):\n",
    "    mysillyobject.name = name\n",
    "    mysillyobject.age = age\n",
    "\n",
    "  def myfunc(abc):\n",
    "    print(\"Hello my name is \" + abc.name)\n",
    "\n",
    "p1 = Person(\"John\", 36)\n",
    "p1.myfunc()"
   ]
  },
  {
   "attachments": {},
   "cell_type": "markdown",
   "metadata": {},
   "source": [
    "> ### ⚠️ ***Funcion incorporada: __str__()***\n",
    "\n",
    "❓ *Esta funcion controla lo que se debe devolver cuando el objeto de clase se representa como una cadena.*\n",
    "\n",
    "💥 *Si la función __str__() no está configurada, se devuelve la representación de cadena del objeto.*"
   ]
  },
  {
   "cell_type": "code",
   "execution_count": 34,
   "metadata": {},
   "outputs": [
    {
     "name": "stdout",
     "output_type": "stream",
     "text": [
      "<__main__.Person object at 0x000002A0EEAC6D50>\n"
     ]
    }
   ],
   "source": [
    "#La representación de cadena de un objeto SIN la función __str__():\n",
    "class Person:\n",
    "  def __init__(self, name, age):\n",
    "    self.name = name\n",
    "    self.age = age\n",
    "\n",
    "p1 = Person(\"John\", 36)\n",
    "\n",
    "print(p1)"
   ]
  },
  {
   "cell_type": "code",
   "execution_count": 49,
   "metadata": {},
   "outputs": [
    {
     "name": "stdout",
     "output_type": "stream",
     "text": [
      "John,36\n"
     ]
    }
   ],
   "source": [
    "#La representación de cadena de un objeto CON la función __str__():\n",
    "class Person:\n",
    "  def __init__(self, name, age):\n",
    "    self.name = name\n",
    "    self.age = age\n",
    "\n",
    "  def __str__(self):\n",
    "    return f\"{self.name},{self.age}\"\n",
    "\n",
    "p1 = Person(\"John\", 36)\n",
    "\n",
    "print(p1)"
   ]
  },
  {
   "attachments": {},
   "cell_type": "markdown",
   "metadata": {},
   "source": [
    "> ### ⚠️ ***Modificar propiedades de objetos***\n",
    "\n",
    "💡 ***Estructura:*** *nombre_objeto.nombre_atributo = valor_nuevo*"
   ]
  },
  {
   "cell_type": "code",
   "execution_count": 51,
   "metadata": {},
   "outputs": [
    {
     "name": "stdout",
     "output_type": "stream",
     "text": [
      "36\n",
      "40\n"
     ]
    }
   ],
   "source": [
    "class Person:\n",
    "  def __init__(self, name, age):\n",
    "    self.name = name\n",
    "    self.age = age\n",
    "\n",
    "  def myfunc(self):\n",
    "    print(\"Hello my name is \" + self.name)\n",
    "\n",
    "p1 = Person(\"John\", 36)\n",
    "print(p1.age)\n",
    "#Modificamos el valor del atributo: nombre_objeto.nombre_atributo = valor_nuevo\n",
    "p1.age = 40 #Modificamos el valor del atributo\n",
    "\n",
    "print(p1.age)"
   ]
  },
  {
   "attachments": {},
   "cell_type": "markdown",
   "metadata": {},
   "source": [
    "> ### ⚠️ ***Eliminar propiedades de objetos***\n",
    "\n",
    "💥 ***Puedes eliminar los atributos de un objeto con la palabra clave:*** *del*\n",
    "\n",
    "💡 ***Estructura:*** *del nombre_objeto.nombre_atributo*"
   ]
  },
  {
   "cell_type": "code",
   "execution_count": 52,
   "metadata": {},
   "outputs": [
    {
     "name": "stdout",
     "output_type": "stream",
     "text": [
      "36\n"
     ]
    },
    {
     "ename": "AttributeError",
     "evalue": "'Person' object has no attribute 'age'",
     "output_type": "error",
     "traceback": [
      "\u001b[1;31m---------------------------------------------------------------------------\u001b[0m",
      "\u001b[1;31mAttributeError\u001b[0m                            Traceback (most recent call last)",
      "Cell \u001b[1;32mIn[52], line 14\u001b[0m\n\u001b[0;32m     11\u001b[0m \u001b[39m# Como eliminar un atributo: del nombre_objeto.nombre_atributo\u001b[39;00m\n\u001b[0;32m     12\u001b[0m \u001b[39mdel\u001b[39;00m p1\u001b[39m.\u001b[39mage\n\u001b[1;32m---> 14\u001b[0m \u001b[39mprint\u001b[39m(p1\u001b[39m.\u001b[39;49mage)\n",
      "\u001b[1;31mAttributeError\u001b[0m: 'Person' object has no attribute 'age'"
     ]
    }
   ],
   "source": [
    "class Person:\n",
    "  def __init__(self, name, age):\n",
    "    self.name = name\n",
    "    self.age = age\n",
    "\n",
    "  def myfunc(self):\n",
    "    print(\"Hello my name is \" + self.name)\n",
    "\n",
    "p1 = Person(\"John\", 36)\n",
    "print(p1.age) #Si se imprime\n",
    "# Como eliminar un atributo: del nombre_objeto.nombre_atributo\n",
    "del p1.age\n",
    "\n",
    "print(p1.age) #Ya no se imprime porque se elimino el atributo"
   ]
  },
  {
   "attachments": {},
   "cell_type": "markdown",
   "metadata": {},
   "source": [
    "> ### ⚠️ ***Eliminar objetos***\n",
    "\n",
    "💥 ***Puedes eliminar a un objeto utilizando la palabra clave:*** *del*\n",
    "\n",
    "💡 ***Estructura:*** *del nombre_objeto*"
   ]
  },
  {
   "cell_type": "code",
   "execution_count": 53,
   "metadata": {},
   "outputs": [
    {
     "name": "stdout",
     "output_type": "stream",
     "text": [
      "<__main__.Person object at 0x000002A0EEB5B290>\n"
     ]
    },
    {
     "ename": "NameError",
     "evalue": "name 'p1' is not defined",
     "output_type": "error",
     "traceback": [
      "\u001b[1;31m---------------------------------------------------------------------------\u001b[0m",
      "\u001b[1;31mNameError\u001b[0m                                 Traceback (most recent call last)",
      "Cell \u001b[1;32mIn[53], line 14\u001b[0m\n\u001b[0;32m     11\u001b[0m \u001b[39m#Como eliminar un objeto: del nombre_objeto\u001b[39;00m\n\u001b[0;32m     12\u001b[0m \u001b[39mdel\u001b[39;00m p1\n\u001b[1;32m---> 14\u001b[0m \u001b[39mprint\u001b[39m(p1)\n",
      "\u001b[1;31mNameError\u001b[0m: name 'p1' is not defined"
     ]
    }
   ],
   "source": [
    "class Person:\n",
    "  def __init__(self, name, age):\n",
    "    self.name = name\n",
    "    self.age = age\n",
    "\n",
    "  def myfunc(self):\n",
    "    print(\"Hello my name is \" + self.name)\n",
    "\n",
    "p1 = Person(\"John\", 36)\n",
    "print(p1) #Aqui todavia existe\n",
    "#Como eliminar un objeto: del nombre_objeto\n",
    "del p1\n",
    "\n",
    "print(p1) #Ya se elimino el objeto"
   ]
  }
 ],
 "metadata": {
  "kernelspec": {
   "display_name": "Python 3",
   "language": "python",
   "name": "python3"
  },
  "language_info": {
   "codemirror_mode": {
    "name": "ipython",
    "version": 3
   },
   "file_extension": ".py",
   "mimetype": "text/x-python",
   "name": "python",
   "nbconvert_exporter": "python",
   "pygments_lexer": "ipython3",
   "version": "3.11.2"
  },
  "orig_nbformat": 4
 },
 "nbformat": 4,
 "nbformat_minor": 2
}
