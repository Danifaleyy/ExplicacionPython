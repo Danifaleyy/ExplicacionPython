{
 "cells": [
  {
   "attachments": {},
   "cell_type": "markdown",
   "metadata": {},
   "source": [
    "# ***Pip***\n",
    "\n",
    "💡 ***¿Qué es un paquete?*** *Contiene todos los archivos que necesita para un módulo(Bibliotecas de código).*\n",
    "\n",
    "> ### ⚠️ ***Como descargar un paquete***\n",
    "\n",
    "💥 ***1- abra la consola***\n",
    "\n",
    "💥 ***2- pip install nombre_libreria***\n",
    "\n",
    "> ### ⚠️ ***Como usar un paquete***\n",
    "\n",
    "💥 ***1- Lo debes de importar***"
   ]
  },
  {
   "cell_type": "code",
   "execution_count": 3,
   "metadata": {},
   "outputs": [],
   "source": [
    "#Importando la libreria numpy - pandas\n",
    "import numpy\n",
    "import pandas"
   ]
  },
  {
   "attachments": {},
   "cell_type": "markdown",
   "metadata": {},
   "source": [
    "> ### ⚠️ ***Como eliminar un paquete***\n",
    "\n",
    "💥 ***1- Abre la consola***\n",
    "\n",
    "💥 ***2- pip uninstall nombre_libreria***"
   ]
  },
  {
   "attachments": {},
   "cell_type": "markdown",
   "metadata": {},
   "source": [
    "> ### ⚠️ ***Como saber que paquetes tienes instalados***\n",
    "\n",
    "💥 ***1- Abre la consola***\n",
    "\n",
    "💥 ***2- pip list***"
   ]
  },
  {
   "cell_type": "code",
   "execution_count": 1,
   "metadata": {},
   "outputs": [
    {
     "name": "stdout",
     "output_type": "stream",
     "text": [
      "NADIE SABE LO QUE VA A PASAR MAÑANA\n"
     ]
    }
   ],
   "source": [
    "print(\"NADIE SABE LO QUE VA A PASAR MAÑANA\")"
   ]
  }
 ],
 "metadata": {
  "kernelspec": {
   "display_name": "Python 3",
   "language": "python",
   "name": "python3"
  },
  "language_info": {
   "codemirror_mode": {
    "name": "ipython",
    "version": 3
   },
   "file_extension": ".py",
   "mimetype": "text/x-python",
   "name": "python",
   "nbconvert_exporter": "python",
   "pygments_lexer": "ipython3",
   "version": "3.11.2"
  },
  "orig_nbformat": 4
 },
 "nbformat": 4,
 "nbformat_minor": 2
}
