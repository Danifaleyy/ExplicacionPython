{
 "cells": [
  {
   "attachments": {},
   "cell_type": "markdown",
   "metadata": {},
   "source": [
    "# ***Condicionales: if - elif - else***"
   ]
  },
  {
   "attachments": {},
   "cell_type": "markdown",
   "metadata": {},
   "source": [
    "> ### ⚠️ ***Orden en el que Python evalua las condiciones:***\n",
    "\n",
    "✅ ***1- if:*** *Ejecutara el codigo dentro de el si la condicion es verdadera --- Termina*\n",
    "\n",
    "✅ ***2- elif:*** *Si la condicion de (if) no fue verdadera, python evaluara la condicionales (elif) y si una es verdadera ejecutara el codigo dentro de ella --- Termina*\n",
    "\n",
    "✅ ***3- else:*** *Si ninguna de las anteriores condicionales fueron verdaderas, python ejecutara lo que este dentro de (else) --- Termina*"
   ]
  },
  {
   "attachments": {},
   "cell_type": "markdown",
   "metadata": {},
   "source": [
    "> ### ⚠️ ***En las condicionales (if-elif-else) utilizamos las condiciones lógicas como:***\n",
    "\n",
    "💥 *Es igual a: a == b*\n",
    "\n",
    "💥 *Distinto a: a != b*\n",
    "\n",
    "💥 *Menor que: a < b*\n",
    "\n",
    "💥 *Menor o igual que: a <= b*\n",
    "\n",
    "💥 *Mayor que: a > b*\n",
    "\n",
    "💥 *Mayor o igual que: a >= b*"
   ]
  },
  {
   "attachments": {},
   "cell_type": "markdown",
   "metadata": {},
   "source": [
    "> ### ⚠️ ***Estructura de los condicionales:***\n",
    "\n",
    "✅ ***if (condicion):***\n",
    "\n",
    "        Codigo\n",
    "\n",
    "        Codigo\n",
    "\n",
    "✅ ***elif (condicion):***\n",
    "\n",
    "        Codigo\n",
    "\n",
    "        Codigo\n",
    "\n",
    "✅ ***else:***\n",
    "\n",
    "        Codigo\n",
    "\n",
    "        Codigo"
   ]
  },
  {
   "attachments": {},
   "cell_type": "markdown",
   "metadata": {},
   "source": [
    "> ### ⚠️ ***Condicional: (if)***\n",
    "\n",
    "✅ *Si la condición del condicional (if)  se evalúa como verdadera, el bloque de código que tiene dentro se ejecutará.*\n",
    "\n",
    "❌ *Si el resultado de la condición es False no se ejecuta el bloque de sentencias.*\n",
    "\n",
    "💥 *Solo se utiliza al inicio*\n",
    "\n",
    "💥 *Solamente se utiliza 1 vez*"
   ]
  },
  {
   "cell_type": "code",
   "execution_count": 1,
   "metadata": {},
   "outputs": [
    {
     "name": "stdout",
     "output_type": "stream",
     "text": [
      "(a) es mayor a (b)\n"
     ]
    }
   ],
   "source": [
    "a = 10\n",
    "b = 5\n",
    "if(a>b):\n",
    "    print(\"(a) es mayor a (b)\")"
   ]
  },
  {
   "attachments": {},
   "cell_type": "markdown",
   "metadata": {},
   "source": [
    "> 💥 ***Forma corta del (if)***"
   ]
  },
  {
   "cell_type": "code",
   "execution_count": 6,
   "metadata": {},
   "outputs": [
    {
     "name": "stdout",
     "output_type": "stream",
     "text": [
      "(a) es mayor que (b)\n"
     ]
    }
   ],
   "source": [
    "a = 10\n",
    "b = 5\n",
    "if a > b: print(\"(a) es mayor que (b)\")\n",
    "else: print(\"(b) es mayor a (a)\")"
   ]
  },
  {
   "cell_type": "code",
   "execution_count": 7,
   "metadata": {},
   "outputs": [
    {
     "name": "stdout",
     "output_type": "stream",
     "text": [
      "(b) es mayor a (a)\n"
     ]
    }
   ],
   "source": [
    "a = 1\n",
    "b = 2\n",
    "if a > b: print(\"(a) es mayor que (b)\")\n",
    "else: print(\"(b) es mayor a (a)\")"
   ]
  },
  {
   "attachments": {},
   "cell_type": "markdown",
   "metadata": {},
   "source": [
    "> ### ⚠️ ***(if) anidados***"
   ]
  },
  {
   "cell_type": "markdown",
   "metadata": {},
   "source": [
    "✅ *Se ejecutaran todos los (if) que sean verdaderos*"
   ]
  },
  {
   "cell_type": "code",
   "execution_count": null,
   "metadata": {},
   "outputs": [
    {
     "name": "stdout",
     "output_type": "stream",
     "text": [
      "Mayor a 10\n",
      "Mayor a 20\n"
     ]
    }
   ],
   "source": [
    "x = 41\n",
    "\n",
    "if x > 10:\n",
    "  print(\"Mayor a 10\")\n",
    "  if x > 20:\n",
    "    print(\"Mayor a 20\")\n",
    "  else:\n",
    "    print(\"No es mayor a 20\")"
   ]
  },
  {
   "attachments": {},
   "cell_type": "markdown",
   "metadata": {},
   "source": [
    "> ### ⚠️ ***Condicional: (elif)***\n",
    "\n",
    "❌✅ *Si la condicion del condicional (if) se evalua como falsa, Python evaluara la condicional (elif) y si se evalua como verdadera se ejecutara el codigo que tiene dentro*\n",
    "\n",
    "💥 *Se utilizan las veces que quieras*"
   ]
  },
  {
   "cell_type": "code",
   "execution_count": 4,
   "metadata": {},
   "outputs": [
    {
     "name": "stdout",
     "output_type": "stream",
     "text": [
      "¡Yo lo haré!\n"
     ]
    }
   ],
   "source": [
    "z = 7\n",
    "\n",
    "if z > 8:\n",
    "  print(\"¡No voy a imprimir!\") #esta sentencia no se ejecuta\n",
    "elif z > 5:\n",
    "  print(\"¡Yo lo haré!\") #esta sentencia se ejecuta\n",
    "elif z > 6:\n",
    "  print(\"¡Tampoco voy a imprimir!\") #esta sentencia no se ejecuta\n",
    "else:\n",
    "  print(\"¡Yo tampoco!\") #esta sentencia no se ejecuta"
   ]
  },
  {
   "attachments": {},
   "cell_type": "markdown",
   "metadata": {},
   "source": [
    "> ### ⚠️ ***Condicional: (else)***\n",
    "\n",
    "❌✅ *Si la condicion que tiene el condicional (if) y (elif) se evalua como falsa, se ejecutara el codigo que tiene dentro del condicional (else)*\n",
    "\n",
    "💥 *Solo se utiliza al final*\n",
    "\n",
    "💥 *Solamente se utiliza 1 vez*"
   ]
  },
  {
   "cell_type": "code",
   "execution_count": 3,
   "metadata": {},
   "outputs": [
    {
     "name": "stdout",
     "output_type": "stream",
     "text": [
      "(b) es mayor que (a)\n"
     ]
    }
   ],
   "source": [
    "a = 5\n",
    "b = 10\n",
    "if(a>b):\n",
    "    print(\"(a) es mayor a (b)\")\n",
    "else:\n",
    "    print(\"(b) es mayor que (a)\")"
   ]
  },
  {
   "cell_type": "code",
   "execution_count": 5,
   "metadata": {},
   "outputs": [
    {
     "name": "stdout",
     "output_type": "stream",
     "text": [
      "a is greater than b\n"
     ]
    }
   ],
   "source": [
    "a = 200\n",
    "b = 33\n",
    "if b > a:\n",
    "  print(\"b is greater than a\")\n",
    "elif a == b:\n",
    "  print(\"a and b are equal\")\n",
    "else:\n",
    "  print(\"a is greater than b\")"
   ]
  },
  {
   "attachments": {},
   "cell_type": "markdown",
   "metadata": {},
   "source": [
    "> ### ⚠️ ***Operador logico (and)***\n",
    "\n",
    "✅ *Se usa para combinar sentencias condicionales*"
   ]
  },
  {
   "cell_type": "code",
   "execution_count": 8,
   "metadata": {},
   "outputs": [
    {
     "name": "stdout",
     "output_type": "stream",
     "text": [
      "Las 2 condiciones deben de ser verdaderas\n"
     ]
    }
   ],
   "source": [
    "a = 200\n",
    "b = 33\n",
    "c = 500\n",
    "if a > b and c > a:\n",
    "  print(\"Las 2 condiciones deben de ser verdaderas\")"
   ]
  },
  {
   "attachments": {},
   "cell_type": "markdown",
   "metadata": {},
   "source": [
    "> ### ⚠️ ***Operador logico (or)***\n",
    "\n",
    "✅ *Se usa para combinar sentencias condicionales*"
   ]
  },
  {
   "cell_type": "code",
   "execution_count": 10,
   "metadata": {},
   "outputs": [
    {
     "name": "stdout",
     "output_type": "stream",
     "text": [
      "Con una condicion que sea verdadera, es verdadera\n"
     ]
    }
   ],
   "source": [
    "a = 200\n",
    "b = 33\n",
    "c = 500\n",
    "if a > b or a > c:\n",
    "  print(\"Con una condicion que sea verdadera, es verdadera\")"
   ]
  },
  {
   "attachments": {},
   "cell_type": "markdown",
   "metadata": {},
   "source": [
    "> ### ⚠️ ***Operador logico (not)***\n",
    "\n",
    "✅ *Se usa para combinar sentencias condicionales*"
   ]
  },
  {
   "cell_type": "code",
   "execution_count": 11,
   "metadata": {},
   "outputs": [
    {
     "name": "stdout",
     "output_type": "stream",
     "text": [
      "Invierte el resultado, si es true pasa a false y viceversa\n"
     ]
    }
   ],
   "source": [
    "a = 33\n",
    "b = 200\n",
    "if not a > b:\n",
    "  print(\"Invierte el resultado, si es true pasa a false y viceversa\")"
   ]
  },
  {
   "attachments": {},
   "cell_type": "markdown",
   "metadata": {},
   "source": [
    "> ### ⚠️ ***La declaracion (pass)***\n",
    "\n",
    "✅ *Las declaraciones no pueden estar vacías, pero si por alguna razón tiene una declaracion (if) sin contenido, introdúzcala para evitar errores.*"
   ]
  },
  {
   "cell_type": "code",
   "execution_count": 12,
   "metadata": {},
   "outputs": [],
   "source": [
    "a = 33\n",
    "b = 200\n",
    "\n",
    "if b > a:\n",
    "  pass"
   ]
  },
  {
   "attachments": {},
   "cell_type": "markdown",
   "metadata": {},
   "source": [
    "❌ *Aqui sale error por no ponerle el contenido al condicional (if) por eso se usa (pass)*"
   ]
  },
  {
   "cell_type": "code",
   "execution_count": 13,
   "metadata": {},
   "outputs": [
    {
     "ename": "SyntaxError",
     "evalue": "incomplete input (1783495760.py, line 4)",
     "output_type": "error",
     "traceback": [
      "\u001b[1;36m  Cell \u001b[1;32mIn[13], line 4\u001b[1;36m\u001b[0m\n\u001b[1;33m    if b > a:\u001b[0m\n\u001b[1;37m             ^\u001b[0m\n\u001b[1;31mSyntaxError\u001b[0m\u001b[1;31m:\u001b[0m incomplete input\n"
     ]
    }
   ],
   "source": [
    "a = 33\n",
    "b = 200\n",
    "\n",
    "if b > a:"
   ]
  }
 ],
 "metadata": {
  "kernelspec": {
   "display_name": "Python 3",
   "language": "python",
   "name": "python3"
  },
  "language_info": {
   "codemirror_mode": {
    "name": "ipython",
    "version": 3
   },
   "file_extension": ".py",
   "mimetype": "text/x-python",
   "name": "python",
   "nbconvert_exporter": "python",
   "pygments_lexer": "ipython3",
   "version": "3.11.2"
  },
  "orig_nbformat": 4,
  "vscode": {
   "interpreter": {
    "hash": "7f7d0a7d2c388a63f360d96753a7e968c16eb21fbb4f37b5a755ce4cb5105011"
   }
  }
 },
 "nbformat": 4,
 "nbformat_minor": 2
}
