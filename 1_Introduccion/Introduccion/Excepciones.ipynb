{
 "cells": [
  {
   "attachments": {},
   "cell_type": "markdown",
   "metadata": {},
   "source": [
    "# ***Excepciones***\n",
    "\n",
    "💡 *Try: Te permite probar un bloque de código en busca de errores.*\n",
    "\n",
    "💡 *Except: Te permite manejar el error.*\n",
    "\n",
    "💡 *Else: Te permite ejecutar código cuando no hay ningún error.*\n",
    "\n",
    "💡 *Finally: Te permite ejecutar código, independientemente del resultado de los bloques de prueba y excepción.*\n",
    "\n",
    "💡*Raise: Se utiliza para generar una excepción.*\n",
    "\n",
    "❓ *¿Que es una excepcion? Cuando ocurre un error en el programa al momento de ejecutarse, te generara un mensaje del error*\n",
    "\n",
    "❓ ***Casos:***\n",
    "\n",
    "\t\ttry:\n",
    "\n",
    "\t\t\t\t# Codigo a ejecutar\n",
    "\n",
    "\t\t\t\t# Pero podria haber errores en este bloque\n",
    "\t\t\t\n",
    "\t\texcept <tipo de error>:\n",
    "\n",
    "\t\t\t\t# Haz esto para manejar la excepcion\n",
    "\n",
    "\t\t\t\t# El bloque except se ejecutara si el bloque try lanza un error\n",
    "\t\t\t\n",
    "\t\telse:\n",
    "\n",
    "\t\t\t\t# Esto se ejecutara si el bloque try se ejecuta sin errores\n",
    "\t\t\n",
    "\t\tfinally:\n",
    "\n",
    "\t\t\t\t# Este bloque se ejecutara siempre\n",
    "\n",
    "✅ *Con el bloque (try), se ejecutará el bloque de excepción.*"
   ]
  },
  {
   "cell_type": "code",
   "execution_count": 2,
   "metadata": {},
   "outputs": [
    {
     "name": "stdout",
     "output_type": "stream",
     "text": [
      "An exception occurred\n"
     ]
    }
   ],
   "source": [
    "#El bloque try generará un error, porque x no está definido pero se podra ejecutar sin que te indique un error\n",
    "#Dado que el bloque de prueba genera un error, se ejecutará el bloque de excepción.\n",
    "try:\n",
    "  print(x)\n",
    "except:\n",
    "  print(\"An exception occurred\")"
   ]
  },
  {
   "attachments": {},
   "cell_type": "markdown",
   "metadata": {},
   "source": [
    "✖️ *Sin el bloque (try), el programa fallará y generará un error*"
   ]
  },
  {
   "cell_type": "code",
   "execution_count": 4,
   "metadata": {},
   "outputs": [
    {
     "ename": "NameError",
     "evalue": "name 'x' is not defined",
     "output_type": "error",
     "traceback": [
      "\u001b[1;31m---------------------------------------------------------------------------\u001b[0m",
      "\u001b[1;31mNameError\u001b[0m                                 Traceback (most recent call last)",
      "Cell \u001b[1;32mIn[4], line 2\u001b[0m\n\u001b[0;32m      1\u001b[0m \u001b[39m#Esto generará una excepción, porque x no está definido:\u001b[39;00m\n\u001b[1;32m----> 2\u001b[0m \u001b[39mprint\u001b[39m(x)\n",
      "\u001b[1;31mNameError\u001b[0m: name 'x' is not defined"
     ]
    }
   ],
   "source": [
    "#Esto generará una excepción, porque x no está definido:\n",
    "print(x)"
   ]
  },
  {
   "attachments": {},
   "cell_type": "markdown",
   "metadata": {},
   "source": [
    "> ### ⚠️ ***Puedes crear la cantidad de excepciones que quieras***\n",
    "\n",
    "💡 *Puede definir tantos bloques de excepción como desee, por ejemplo, si desea ejecutar un bloque de código especial para un tipo especial de error.*"
   ]
  },
  {
   "cell_type": "code",
   "execution_count": 5,
   "metadata": {},
   "outputs": [
    {
     "name": "stdout",
     "output_type": "stream",
     "text": [
      "Variable x is not defined\n"
     ]
    }
   ],
   "source": [
    "#El bloque try generará un NameError, porque x no está definido:\n",
    "try:\n",
    "  print(x)\n",
    "except NameError:\n",
    "  print(\"Variable x is not defined\")\n",
    "except:\n",
    "  print(\"Something else went wrong\")"
   ]
  },
  {
   "attachments": {},
   "cell_type": "markdown",
   "metadata": {},
   "source": [
    "> ### ⚠️ ***Else***\n",
    "\n",
    "💡 *Puedes usar la palabra clave (else) para definir un bloque de código que se ejecutará si no se generan errores.*"
   ]
  },
  {
   "cell_type": "code",
   "execution_count": 7,
   "metadata": {},
   "outputs": [
    {
     "name": "stdout",
     "output_type": "stream",
     "text": [
      "Hello\n",
      "Nothing went wrong\n"
     ]
    }
   ],
   "source": [
    "#El bloque try no genera ningún error, por lo que se ejecuta el bloque else:\n",
    "try:\n",
    "  print(\"Hello\")\n",
    "except:\n",
    "  print(\"Something went wrong\")\n",
    "else:\n",
    "  print(\"Nothing went wrong\")"
   ]
  },
  {
   "attachments": {},
   "cell_type": "markdown",
   "metadata": {},
   "source": [
    "> ### ⚠️ ***Finally***\n",
    "\n",
    "💡 *Si se especifica, se ejecutará independientemente de si el bloque try genera un error o no.*"
   ]
  },
  {
   "cell_type": "code",
   "execution_count": 9,
   "metadata": {},
   "outputs": [
    {
     "name": "stdout",
     "output_type": "stream",
     "text": [
      "Something went wrong\n",
      "The 'try except' is finished\n"
     ]
    }
   ],
   "source": [
    "#El bloque finalmente se ejecuta sin importar si el bloque de prueba genera algún error o no:\n",
    "try:\n",
    "  print(x)\n",
    "except:\n",
    "  print(\"Something went wrong\")\n",
    "finally:\n",
    "  print(\"The 'try except' is finished\")"
   ]
  },
  {
   "attachments": {},
   "cell_type": "markdown",
   "metadata": {},
   "source": [
    "> ### ⚠️ ***Raise***\n",
    "\n",
    "*Sirve para generar una excepción si se produce una condición.*\n",
    "\n",
    "*Se utiliza para generar una excepción.*\n",
    "\n",
    "*Puedes definir qué tipo de error generar y el texto para imprimir al usuario.*"
   ]
  },
  {
   "cell_type": "code",
   "execution_count": 10,
   "metadata": {},
   "outputs": [
    {
     "ename": "Exception",
     "evalue": "Sorry, no numbers below zero",
     "output_type": "error",
     "traceback": [
      "\u001b[1;31m---------------------------------------------------------------------------\u001b[0m",
      "\u001b[1;31mException\u001b[0m                                 Traceback (most recent call last)",
      "Cell \u001b[1;32mIn[10], line 5\u001b[0m\n\u001b[0;32m      2\u001b[0m x \u001b[39m=\u001b[39m \u001b[39m-\u001b[39m\u001b[39m1\u001b[39m\n\u001b[0;32m      4\u001b[0m \u001b[39mif\u001b[39;00m x \u001b[39m<\u001b[39m \u001b[39m0\u001b[39m:\n\u001b[1;32m----> 5\u001b[0m   \u001b[39mraise\u001b[39;00m \u001b[39mException\u001b[39;00m(\u001b[39m\"\u001b[39m\u001b[39mSorry, no numbers below zero\u001b[39m\u001b[39m\"\u001b[39m)\n",
      "\u001b[1;31mException\u001b[0m: Sorry, no numbers below zero"
     ]
    }
   ],
   "source": [
    "#Genera un error y detiene el programa si x es menor que 0:\n",
    "x = -1\n",
    "\n",
    "if x < 0:\n",
    "  raise Exception(\"Sorry, no numbers below zero\")"
   ]
  },
  {
   "cell_type": "code",
   "execution_count": 11,
   "metadata": {},
   "outputs": [
    {
     "ename": "TypeError",
     "evalue": "Only integers are allowed",
     "output_type": "error",
     "traceback": [
      "\u001b[1;31m---------------------------------------------------------------------------\u001b[0m",
      "\u001b[1;31mTypeError\u001b[0m                                 Traceback (most recent call last)",
      "Cell \u001b[1;32mIn[11], line 5\u001b[0m\n\u001b[0;32m      2\u001b[0m x \u001b[39m=\u001b[39m \u001b[39m\"\u001b[39m\u001b[39mhello\u001b[39m\u001b[39m\"\u001b[39m\n\u001b[0;32m      4\u001b[0m \u001b[39mif\u001b[39;00m \u001b[39mnot\u001b[39;00m \u001b[39mtype\u001b[39m(x) \u001b[39mis\u001b[39;00m \u001b[39mint\u001b[39m:\n\u001b[1;32m----> 5\u001b[0m   \u001b[39mraise\u001b[39;00m \u001b[39mTypeError\u001b[39;00m(\u001b[39m\"\u001b[39m\u001b[39mOnly integers are allowed\u001b[39m\u001b[39m\"\u001b[39m)\n",
      "\u001b[1;31mTypeError\u001b[0m: Only integers are allowed"
     ]
    }
   ],
   "source": [
    "#Genera un TypeError si x no es un número entero\n",
    "x = \"hello\"\n",
    "\n",
    "if not type(x) is int:\n",
    "  raise TypeError(\"Only integers are allowed\")"
   ]
  }
 ],
 "metadata": {
  "kernelspec": {
   "display_name": "Python 3",
   "language": "python",
   "name": "python3"
  },
  "language_info": {
   "codemirror_mode": {
    "name": "ipython",
    "version": 3
   },
   "file_extension": ".py",
   "mimetype": "text/x-python",
   "name": "python",
   "nbconvert_exporter": "python",
   "pygments_lexer": "ipython3",
   "version": "3.11.2"
  },
  "orig_nbformat": 4
 },
 "nbformat": 4,
 "nbformat_minor": 2
}
