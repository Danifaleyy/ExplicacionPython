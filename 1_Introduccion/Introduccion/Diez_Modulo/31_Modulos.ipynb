{
 "cells": [
  {
   "attachments": {},
   "cell_type": "markdown",
   "metadata": {},
   "source": [
    "# ***Modulos***\n",
    "\n",
    "💡 ***¿Que es?*** *Es lo mismo que una biblioteca de código.*\n",
    "\n",
    "❓ ***Es un archivo que contiene un conjunto de funciones que desea incluir en su aplicación.***\n",
    "\n",
    "> ###  ⚠️ ***Como crear un modulo***\n",
    "\n",
    "💡 *Guarda el código que desee en un archivo con la extensión de archivo .py*"
   ]
  },
  {
   "attachments": {},
   "cell_type": "markdown",
   "metadata": {},
   "source": [
    "> ###  ⚠️ ***Como usar un modulo***\n",
    "\n",
    "❓ *Debemos de importarlo*\n",
    "\n",
    "💡***1- Usamos la declaracion:*** *import*\n",
    "\n",
    "💡***2- Llamamos a la funcion*** *nombre_modulo.nombre_función(Parametro1,Parametro2)*"
   ]
  },
  {
   "cell_type": "code",
   "execution_count": 7,
   "metadata": {},
   "outputs": [
    {
     "name": "stdout",
     "output_type": "stream",
     "text": [
      "Hello, Jonathan\n"
     ]
    }
   ],
   "source": [
    "#Importe el módulo llamado mymodule y llame a la función de saludo:\n",
    "\n",
    "import mymodule \n",
    "\n",
    "#nombre_modulo.nombre_función(Parametro)\n",
    "\n",
    "mymodule.greeting(\"Jonathan\") #Hizo la llamada la funcion y le ingreso un parametro"
   ]
  },
  {
   "attachments": {},
   "cell_type": "markdown",
   "metadata": {},
   "source": [
    "> ###  ⚠️ ***Variables en un modulo***\n",
    "\n",
    "❓ *En un modulo puede contener funciones, variables de todo tipo (matrices, diccionarios, objetos, etc.):*"
   ]
  },
  {
   "cell_type": "code",
   "execution_count": 12,
   "metadata": {},
   "outputs": [
    {
     "name": "stdout",
     "output_type": "stream",
     "text": [
      "36\n"
     ]
    }
   ],
   "source": [
    "#Importe el módulo llamado mymodule y acceda al diccionario person1:\n",
    "\n",
    "import mymodule2\n",
    "\n",
    "a = mymodule2.person1[\"age\"]\n",
    "print(a)"
   ]
  },
  {
   "attachments": {},
   "cell_type": "markdown",
   "metadata": {},
   "source": [
    "> ###  ⚠️ ***Como cambiar el nombre de un modulo***\n",
    "\n",
    "❓ ***Puede crear un alias cuando importa un módulo, utilizando la palabra clave:*** *as*"
   ]
  },
  {
   "cell_type": "code",
   "execution_count": 27,
   "metadata": {},
   "outputs": [
    {
     "name": "stdout",
     "output_type": "stream",
     "text": [
      "36\n"
     ]
    }
   ],
   "source": [
    "#Crea un alias para mymodule2 llamado mx:\n",
    "\n",
    "import mymodule2 as mx\n",
    "\n",
    "a = mx.person1[\"age\"] #Se refierio como mx\n",
    "print(a)"
   ]
  },
  {
   "attachments": {},
   "cell_type": "markdown",
   "metadata": {},
   "source": [
    "> ###  ⚠️ ***Modulos incorporados***\n",
    "\n",
    "❓ ***Hay varios módulos integrados en Python, que puede importar cuando lo desee***"
   ]
  },
  {
   "cell_type": "code",
   "execution_count": 19,
   "metadata": {},
   "outputs": [
    {
     "name": "stdout",
     "output_type": "stream",
     "text": [
      "Windows\n"
     ]
    }
   ],
   "source": [
    "#Importe: platform\n",
    "\n",
    "import platform\n",
    "\n",
    "x = platform.system()\n",
    "print(x)"
   ]
  },
  {
   "cell_type": "code",
   "execution_count": 21,
   "metadata": {},
   "outputs": [
    {
     "name": "stdout",
     "output_type": "stream",
     "text": [
      "Intel64 Family 6 Model 151 Stepping 5, GenuineIntel\n"
     ]
    }
   ],
   "source": [
    "#Importe: platform\n",
    "\n",
    "import platform\n",
    "\n",
    "x = platform.processor()\n",
    "print(x)"
   ]
  },
  {
   "attachments": {},
   "cell_type": "markdown",
   "metadata": {},
   "source": [
    "> ###  ⚠️ ***Usando la función dir()***\n",
    "\n",
    "💡 ***Sirve para enumerar todos los nombres de funciones o nombres de variables en un módulo.***\n",
    "\n",
    "❓ ***Nota:*** *La función dir() se puede utilizar en todos los módulos, también en los que cree usted mismo.*"
   ]
  },
  {
   "cell_type": "code",
   "execution_count": 20,
   "metadata": {},
   "outputs": [
    {
     "name": "stdout",
     "output_type": "stream",
     "text": [
      "['_Processor', '_WIN32_CLIENT_RELEASES', '_WIN32_SERVER_RELEASES', '__builtins__', '__cached__', '__copyright__', '__doc__', '__file__', '__loader__', '__name__', '__package__', '__spec__', '__version__', '_comparable_version', '_component_re', '_default_architecture', '_follow_symlinks', '_get_machine_win32', '_ironpython26_sys_version_parser', '_ironpython_sys_version_parser', '_java_getprop', '_libc_search', '_mac_ver_xml', '_node', '_norm_version', '_os_release_cache', '_os_release_candidates', '_os_release_line', '_os_release_unescape', '_parse_os_release', '_platform', '_platform_cache', '_pypy_sys_version_parser', '_sys_version', '_sys_version_cache', '_sys_version_parser', '_syscmd_file', '_syscmd_ver', '_uname_cache', '_unknown_as_blank', '_ver_output', '_ver_stages', 'architecture', 'collections', 'freedesktop_os_release', 'functools', 'itertools', 'java_ver', 'libc_ver', 'mac_ver', 'machine', 'node', 'os', 'platform', 'processor', 'python_branch', 'python_build', 'python_compiler', 'python_implementation', 'python_revision', 'python_version', 'python_version_tuple', 're', 'release', 'sys', 'system', 'system_alias', 'uname', 'uname_result', 'version', 'win32_edition', 'win32_is_iot', 'win32_ver']\n"
     ]
    }
   ],
   "source": [
    "#Enumere todos los nombres definidos que pertenecen al módulo de la plataforma:\n",
    "\n",
    "import platform\n",
    "\n",
    "x = dir(platform)\n",
    "print(x)"
   ]
  },
  {
   "attachments": {},
   "cell_type": "markdown",
   "metadata": {},
   "source": [
    "> ###  ⚠️ ***Como importar solo una parte especifica de un modulo***\n",
    "\n",
    "💡 ***Utilizando la palabra clave:*** *from*\n",
    "\n",
    "❓ ***Al importar usando la from palabra clave, no use el nombre del módulo cuando se refiera a elementos en el módulo.***\n",
    "\n",
    "✅ *person1[\"age\"]*\n",
    "\n",
    "❌ *mymodule.person1[\"age\"]*"
   ]
  },
  {
   "cell_type": "code",
   "execution_count": 1,
   "metadata": {},
   "outputs": [
    {
     "name": "stdout",
     "output_type": "stream",
     "text": [
      "36\n"
     ]
    }
   ],
   "source": [
    "from mymodule2 import person1\n",
    "\n",
    "print (person1[\"age\"])"
   ]
  }
 ],
 "metadata": {
  "kernelspec": {
   "display_name": "Python 3",
   "language": "python",
   "name": "python3"
  },
  "language_info": {
   "codemirror_mode": {
    "name": "ipython",
    "version": 3
   },
   "file_extension": ".py",
   "mimetype": "text/x-python",
   "name": "python",
   "nbconvert_exporter": "python",
   "pygments_lexer": "ipython3",
   "version": "3.11.2"
  },
  "orig_nbformat": 4
 },
 "nbformat": 4,
 "nbformat_minor": 2
}
