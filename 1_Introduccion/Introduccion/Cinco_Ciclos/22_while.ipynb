{
 "cells": [
  {
   "attachments": {},
   "cell_type": "markdown",
   "metadata": {},
   "source": [
    "# ***Ciclo: While***"
   ]
  },
  {
   "attachments": {},
   "cell_type": "markdown",
   "metadata": {},
   "source": [
    "💡 ***El ciclo (while) solamente se ejecutara cuando la condicion sea verdadera -- Si es falsa, no se ejecutara.***\n",
    "\n",
    "> 💥 ***Estructura:***\n",
    "\n",
    "***while (condicion):***\n",
    "\n",
    "        *Codigo*\n",
    "        \n",
    "        *Codigo*\n"
   ]
  },
  {
   "cell_type": "code",
   "execution_count": 9,
   "metadata": {},
   "outputs": [
    {
     "name": "stdout",
     "output_type": "stream",
     "text": [
      "1\n",
      "2\n",
      "3\n",
      "4\n",
      "5\n"
     ]
    }
   ],
   "source": [
    "#Mientras que (i) sea menor a 6, se ejecutara el ciclo una y otra vez hasta que la condicion sea falsa\n",
    "i = 1\n",
    "while (i < 6):\n",
    "  print(i)\n",
    "  i += 1"
   ]
  },
  {
   "attachments": {},
   "cell_type": "markdown",
   "metadata": {},
   "source": [
    "> ### ⚠️ ***Declaracion: break***\n",
    "\n",
    "❓ *Con la declaracion (break) detenemos el ciclo (Se sale de el y pasa al codigo afuera del ciclo) cuando la condicion que tiene adentro (break) sea verdadera.*"
   ]
  },
  {
   "cell_type": "code",
   "execution_count": 11,
   "metadata": {},
   "outputs": [
    {
     "name": "stdout",
     "output_type": "stream",
     "text": [
      "1\n",
      "2\n",
      "3\n",
      "Termino el ciclo\n"
     ]
    }
   ],
   "source": [
    "#Salga del ciclo cuando sea 3:\n",
    "i = 1\n",
    "while i < 6:\n",
    "  print(i)\n",
    "  if i == 3:\n",
    "    break #Aqui sale del ciclo y se pasa al codigo de afuera del ciclo\n",
    "  i += 1\n",
    "print(\"Termino el ciclo\")"
   ]
  },
  {
   "attachments": {},
   "cell_type": "markdown",
   "metadata": {},
   "source": [
    "> ### ⚠️ ***Declaración: continue***\n",
    "\n",
    "❓ *Con la declaracion (continue) nos salimos de esa iteracion actual pero continuamos en el ciclo iterando hasta que sea falsa la condicion*"
   ]
  },
  {
   "cell_type": "code",
   "execution_count": 12,
   "metadata": {},
   "outputs": [
    {
     "name": "stdout",
     "output_type": "stream",
     "text": [
      "1\n",
      "2\n",
      "4\n",
      "5\n",
      "6\n",
      "Termino el ciclo\n"
     ]
    }
   ],
   "source": [
    "i = 0\n",
    "while i < 6: #Mientras que (i) sea menor a 6, se ejecutara el ciclo una y otra vez hasta que la condicion sea falsa\n",
    "  i += 1\n",
    "  if i == 3: #Cuando sea i == 3, se saldra de esa iteracion y ejecutara la linea siguiente del codigo dentro del ciclo (No imprimira el 3)\n",
    "    continue\n",
    "  print(i)\n",
    "print(\"Termino el ciclo\")"
   ]
  }
 ],
 "metadata": {
  "kernelspec": {
   "display_name": "Python 3",
   "language": "python",
   "name": "python3"
  },
  "language_info": {
   "codemirror_mode": {
    "name": "ipython",
    "version": 3
   },
   "file_extension": ".py",
   "mimetype": "text/x-python",
   "name": "python",
   "nbconvert_exporter": "python",
   "pygments_lexer": "ipython3",
   "version": "3.11.2"
  },
  "orig_nbformat": 4,
  "vscode": {
   "interpreter": {
    "hash": "7f7d0a7d2c388a63f360d96753a7e968c16eb21fbb4f37b5a755ce4cb5105011"
   }
  }
 },
 "nbformat": 4,
 "nbformat_minor": 2
}
