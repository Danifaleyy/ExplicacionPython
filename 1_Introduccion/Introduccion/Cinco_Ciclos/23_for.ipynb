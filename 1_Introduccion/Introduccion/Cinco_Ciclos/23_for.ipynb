{
 "cells": [
  {
   "attachments": {},
   "cell_type": "markdown",
   "metadata": {},
   "source": [
    "# ***Ciclo: for***\n",
    "\n",
    "💡 ***Se usa para iterar sobre una secuencia de un objeto itereble (Una lista, una tupla, un diccionario, un conjunto o una cadena).***\n",
    "\n",
    "💡 ***Un iterable es un objeto que se puede iterar sobre él, es decir, que permite recorrer sus elementos uno a uno.***\n",
    "\n",
    "💡 ***Con el bucle (for) podemos ejecutar un conjunto de sentencias, una vez por cada elemento de una lista, tupla, conjunto, etc.***\n",
    "\n",
    "> 💥 ***Estructura:***\n",
    "\n",
    "***for variable_nueva in iterable_a_recorrer:***\n",
    "\n",
    "        Codigo\n",
    "\n",
    "        Codigo"
   ]
  },
  {
   "cell_type": "code",
   "execution_count": 1,
   "metadata": {},
   "outputs": [
    {
     "name": "stdout",
     "output_type": "stream",
     "text": [
      "apple\n",
      "banana\n",
      "cherry\n"
     ]
    }
   ],
   "source": [
    "#Imprime cada fruta en una lista de frutas: Recorrio 1 a 1 cada elemento de la lista\n",
    "#(x) es el indice que va a recorrer todos los elementos de un objeto iterable\n",
    "fruits = [\"apple\", \"banana\", \"cherry\"]\n",
    "for x in fruits:\n",
    "  print(x)"
   ]
  },
  {
   "attachments": {},
   "cell_type": "markdown",
   "metadata": {},
   "source": [
    "> 💥 ***Bucle a través de una cadena de texto***"
   ]
  },
  {
   "attachments": {},
   "cell_type": "markdown",
   "metadata": {},
   "source": [
    "✅ *Incluso las cadenas son objetos iterables, contienen una secuencia de caracteres*"
   ]
  },
  {
   "cell_type": "code",
   "execution_count": 1,
   "metadata": {},
   "outputs": [
    {
     "name": "stdout",
     "output_type": "stream",
     "text": [
      "b\n",
      "a\n",
      "n\n",
      "a\n",
      "n\n",
      "a\n"
     ]
    }
   ],
   "source": [
    "#Repasa las letras de la palabra \"banana\":\n",
    "#Recorre 1 a 1 cada caracter de la palabra \"banana\"\n",
    "for x in \"banana\":\n",
    "  print(x)"
   ]
  },
  {
   "attachments": {},
   "cell_type": "markdown",
   "metadata": {},
   "source": [
    "> ### ⚠️ ***Declaracion: break***\n",
    "\n",
    "❓ *Con la declaracion (break) detenemos el ciclo (Se sale de el y pasa al codigo afuera del ciclo) cuando la condicion que tiene adentro (break) sea verdadera.*\n",
    "\n",
    "❓ *Podemos detener el bucle antes de que haya recorrido todos los elementos*"
   ]
  },
  {
   "cell_type": "code",
   "execution_count": 2,
   "metadata": {},
   "outputs": [
    {
     "name": "stdout",
     "output_type": "stream",
     "text": [
      "apple\n",
      "banana\n",
      "Se acabo el ciclo\n"
     ]
    }
   ],
   "source": [
    "#Se saldra del bucle cuando (x) sea \"banana\":\n",
    "fruits = [\"apple\", \"banana\", \"cherry\"]\n",
    "for x in fruits:\n",
    "  print(x)\n",
    "  if x == \"banana\":\n",
    "    break\n",
    "print(\"Se acabo el ciclo\")"
   ]
  },
  {
   "cell_type": "code",
   "execution_count": 3,
   "metadata": {},
   "outputs": [
    {
     "name": "stdout",
     "output_type": "stream",
     "text": [
      "apple\n"
     ]
    }
   ],
   "source": [
    "#Se saldra del ciclo cuando (x) sea \"banana\", pero esta vez primero se evaluara la condicion y luego se imprimira:\n",
    "fruits = [\"apple\", \"banana\", \"cherry\"]\n",
    "for x in fruits:\n",
    "  if x == \"banana\":\n",
    "    break\n",
    "  print(x)"
   ]
  },
  {
   "attachments": {},
   "cell_type": "markdown",
   "metadata": {},
   "source": [
    "> ### ⚠️ ***Declaración: continue***\n",
    "\n",
    "❓ *Con la declaracion (continue) nos salimos de esa iteracion actual pero continuamos en el ciclo iterando hasta que sea falsa la condicion*\n",
    "\n",
    "❓ *Podemos detener la iteración actual del ciclo y continuar con la siguiente*"
   ]
  },
  {
   "cell_type": "code",
   "execution_count": 4,
   "metadata": {},
   "outputs": [
    {
     "name": "stdout",
     "output_type": "stream",
     "text": [
      "apple\n",
      "cherry\n"
     ]
    }
   ],
   "source": [
    "#Se saldra de la iteracion cuando (x) sea \"banana\" y no lo alcanzara a imprimir y se pasara a la siguiente iteracion:\n",
    "fruits = [\"apple\", \"banana\", \"cherry\"]\n",
    "for x in fruits:\n",
    "  if x == \"banana\":\n",
    "    continue\n",
    "  print(x)"
   ]
  },
  {
   "cell_type": "code",
   "execution_count": 5,
   "metadata": {},
   "outputs": [
    {
     "name": "stdout",
     "output_type": "stream",
     "text": [
      "apple\n",
      "banana\n",
      "cherry\n"
     ]
    }
   ],
   "source": [
    "#Primero imprimira y luego evaluara la condicion\n",
    "fruits = [\"apple\", \"banana\", \"cherry\"]\n",
    "for x in fruits:\n",
    "    print(x)\n",
    "    if x == \"banana\":\n",
    "        continue"
   ]
  },
  {
   "attachments": {},
   "cell_type": "markdown",
   "metadata": {},
   "source": [
    "> ### ⚠️ ***Funcion: range()***\n",
    "\n",
    "❓ *La función range() devuelve una secuencia de números, comenzando desde 0 de forma predeterminada, se incrementa en 1 (de forma predeterminada) y termina en un número específico.*\n",
    "\n",
    "> 💥 ***Hay 3 casos:***\n",
    "\n",
    "✅ *1- Empieza en la posicicon 0 y termina el la posicion -1 (El ultimo elemento)*"
   ]
  },
  {
   "cell_type": "code",
   "execution_count": 7,
   "metadata": {},
   "outputs": [
    {
     "name": "stdout",
     "output_type": "stream",
     "text": [
      "0\n",
      "1\n",
      "2\n",
      "3\n",
      "4\n",
      "5\n"
     ]
    }
   ],
   "source": [
    "#Tenga en cuenta que range(6) no son los valores de 0 a 6, sino los valores de 0 a 5.\n",
    "for x in range(6): #Empieza en el 0 las posiciones\n",
    "  print(x)"
   ]
  },
  {
   "attachments": {},
   "cell_type": "markdown",
   "metadata": {},
   "source": [
    "✅ *2- Es posible especificar la posicion de inicio y la posicion del final: (valor_de_inicio , valor_final)*"
   ]
  },
  {
   "cell_type": "code",
   "execution_count": 9,
   "metadata": {},
   "outputs": [
    {
     "name": "stdout",
     "output_type": "stream",
     "text": [
      "2\n",
      "3\n",
      "4\n",
      "5\n"
     ]
    }
   ],
   "source": [
    "#Iniciara en la poscion 2 y terminara en la poscion 6, no imprimira la posicion 6\n",
    "for x in range(2, 6):\n",
    "  print(x)"
   ]
  },
  {
   "attachments": {},
   "cell_type": "markdown",
   "metadata": {},
   "source": [
    "✅ *3- Es posible especificar la posicion de inicio y la posicion del final y el incremento de la secuencia que por defecto es 1 pero lo especificamos agregando un 3er parametro: (valor_de_inicio , valor_final , incremento_dela_secuencia)*"
   ]
  },
  {
   "cell_type": "code",
   "execution_count": 10,
   "metadata": {},
   "outputs": [
    {
     "name": "stdout",
     "output_type": "stream",
     "text": [
      "2\n",
      "5\n",
      "8\n",
      "11\n",
      "14\n",
      "17\n",
      "20\n",
      "23\n",
      "26\n",
      "29\n"
     ]
    }
   ],
   "source": [
    "for x in range(2, 30, 3):\n",
    "  print(x)"
   ]
  },
  {
   "attachments": {},
   "cell_type": "markdown",
   "metadata": {},
   "source": [
    "> ### ⚠️ ***Condicional: Else***\n",
    "\n",
    "❓ *Especifica un bloque de código que se ejecutará cuando finalice el ciclo:*"
   ]
  },
  {
   "cell_type": "code",
   "execution_count": 11,
   "metadata": {},
   "outputs": [
    {
     "name": "stdout",
     "output_type": "stream",
     "text": [
      "0\n",
      "1\n",
      "2\n",
      "3\n",
      "4\n",
      "5\n",
      "Ciclo finalizado\n"
     ]
    }
   ],
   "source": [
    "#Imprime todos los números del 0 al 5 e imprime un mensaje cuando el ciclo haya terminado:\n",
    "for x in range(6):\n",
    "  print(x)\n",
    "else:\n",
    "  print(\"Ciclo finalizado\")"
   ]
  },
  {
   "attachments": {},
   "cell_type": "markdown",
   "metadata": {},
   "source": [
    "❌ ***Nota:*** *El condiconal (else) NO se ejecutará si el bucle se detiene mediante una declaracion (break)*"
   ]
  },
  {
   "cell_type": "code",
   "execution_count": 3,
   "metadata": {},
   "outputs": [
    {
     "name": "stdout",
     "output_type": "stream",
     "text": [
      "0\n",
      "1\n",
      "2\n"
     ]
    }
   ],
   "source": [
    "for x in range(6):\n",
    "  if x == 3: \n",
    "    break\n",
    "  print(x)\n",
    "else: #No se imprimio\n",
    "  print(\"Finally finished!\")"
   ]
  },
  {
   "attachments": {},
   "cell_type": "markdown",
   "metadata": {},
   "source": [
    "> ### ⚠️ ***Bucles anidados***\n",
    "\n",
    "💡  *Un bucle anidado es un bucle dentro de un bucle.*\n",
    "\n",
    "❓ *El \"bucle interno\" se ejecutará 1 vez por cada iteración del \"bucle externo\"*"
   ]
  },
  {
   "cell_type": "code",
   "execution_count": 12,
   "metadata": {},
   "outputs": [
    {
     "name": "stdout",
     "output_type": "stream",
     "text": [
      "red apple\n",
      "red banana\n",
      "red cherry\n",
      "big apple\n",
      "big banana\n",
      "big cherry\n",
      "tasty apple\n",
      "tasty banana\n",
      "tasty cherry\n"
     ]
    }
   ],
   "source": [
    "#Escriba cada adjetivo para cada fruta:\n",
    "adj = [\"red\", \"big\", \"tasty\"]\n",
    "fruits = [\"apple\", \"banana\", \"cherry\"]\n",
    "\n",
    "for x in adj:\n",
    "  for y in fruits:\n",
    "    print(x, y)"
   ]
  },
  {
   "attachments": {},
   "cell_type": "markdown",
   "metadata": {},
   "source": [
    "> ### ⚠️ ***Declaracion: pass***\n",
    "\n",
    "❓ *Los bucles no pueden estar vacíos, pero si por alguna razón tiene un bucle sin contenido, ingrese la declaracion (pass) para evitar recibir un error.*"
   ]
  },
  {
   "cell_type": "code",
   "execution_count": 13,
   "metadata": {},
   "outputs": [],
   "source": [
    "for x in [0, 1, 2]:\n",
    "  pass"
   ]
  },
  {
   "cell_type": "code",
   "execution_count": 14,
   "metadata": {},
   "outputs": [
    {
     "ename": "SyntaxError",
     "evalue": "incomplete input (3141620966.py, line 1)",
     "output_type": "error",
     "traceback": [
      "\u001b[1;36m  Cell \u001b[1;32mIn[14], line 1\u001b[1;36m\u001b[0m\n\u001b[1;33m    for x in [0, 1, 2]:\u001b[0m\n\u001b[1;37m                       ^\u001b[0m\n\u001b[1;31mSyntaxError\u001b[0m\u001b[1;31m:\u001b[0m incomplete input\n"
     ]
    }
   ],
   "source": [
    "for x in [0, 1, 2]:"
   ]
  }
 ],
 "metadata": {
  "kernelspec": {
   "display_name": "Python 3",
   "language": "python",
   "name": "python3"
  },
  "language_info": {
   "codemirror_mode": {
    "name": "ipython",
    "version": 3
   },
   "file_extension": ".py",
   "mimetype": "text/x-python",
   "name": "python",
   "nbconvert_exporter": "python",
   "pygments_lexer": "ipython3",
   "version": "3.11.2"
  },
  "orig_nbformat": 4,
  "vscode": {
   "interpreter": {
    "hash": "7f7d0a7d2c388a63f360d96753a7e968c16eb21fbb4f37b5a755ce4cb5105011"
   }
  }
 },
 "nbformat": 4,
 "nbformat_minor": 2
}
