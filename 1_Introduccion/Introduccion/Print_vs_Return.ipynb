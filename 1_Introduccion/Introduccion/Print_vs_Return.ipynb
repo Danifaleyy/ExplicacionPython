{
 "cells": [
  {
   "attachments": {},
   "cell_type": "markdown",
   "metadata": {},
   "source": [
    "# ***Funcion print() vs return***\n",
    "\n",
    "❓ ***¿Cual es la diferencia?***\n",
    "\n",
    "💡 *Print() -- Es una funcion*\n",
    "\n",
    "💡 *Return -- Es una palabra clave*\n",
    "\n",
    "✖️ *Print() -- Sirve para mostrar un mensaje o valor en la pantalla de una aplicación de consola.*\n",
    "\n",
    "✅ *Return -- Sirve para establecer el resultado (o valor de retorno) de una función.*\n",
    "\n",
    "✅ *Return -- Solo puede utilizarse dentro de funciones y no afuera de ellas*\n",
    "\n",
    "> ### ⚠️ ***Utilizando print()***\n",
    "\n",
    "✖️ *El valor (None) lo retornan por defecto todas las funciones al no utilizar (return)*\n",
    "\n",
    "✖️ *No le podemos almacenar el valor de una operacion con la funcion print() porque no te permite trabajar con el valor, al momento de imprimir nos dara como resultado (None)*\n",
    "\n",
    "✖️ *Al querer trabajar con el valor que supuestamente se le almaceno en la varibale, dara ERROR porque no se puede trabajar porque no se utilizo return*"
   ]
  },
  {
   "cell_type": "code",
   "execution_count": 28,
   "metadata": {},
   "outputs": [
    {
     "name": "stdout",
     "output_type": "stream",
     "text": [
      "9\n",
      "None\n"
     ]
    },
    {
     "ename": "TypeError",
     "evalue": "unsupported operand type(s) for +: 'int' and 'NoneType'",
     "output_type": "error",
     "traceback": [
      "\u001b[1;31m---------------------------------------------------------------------------\u001b[0m",
      "\u001b[1;31mTypeError\u001b[0m                                 Traceback (most recent call last)",
      "Cell \u001b[1;32mIn[28], line 6\u001b[0m\n\u001b[0;32m      4\u001b[0m resultado \u001b[39m=\u001b[39m suma(\u001b[39m4\u001b[39m, \u001b[39m5\u001b[39m) \u001b[39m#El resultado de la operacion se almacenara en esta variable = Dara (None)\u001b[39;00m\n\u001b[0;32m      5\u001b[0m \u001b[39mprint\u001b[39m(resultado)\n\u001b[1;32m----> 6\u001b[0m resultado2 \u001b[39m=\u001b[39m \u001b[39m10\u001b[39;49m \u001b[39m+\u001b[39;49m resultado\n\u001b[0;32m      7\u001b[0m \u001b[39mprint\u001b[39m(resultado2)\n",
      "\u001b[1;31mTypeError\u001b[0m: unsupported operand type(s) for +: 'int' and 'NoneType'"
     ]
    }
   ],
   "source": [
    "def suma(a, b):\n",
    "    print(a+b)\n",
    "\n",
    "resultado = suma(4, 5) #El resultado de la operacion se almacenara en esta variable = Dara (None)\n",
    "print(resultado)\n",
    "resultado2 = 10 + resultado #No se puede trabajar con ella\n",
    "print(resultado2)"
   ]
  },
  {
   "attachments": {},
   "cell_type": "markdown",
   "metadata": {},
   "source": [
    "> ### ⚠️ ***Utilizando return***\n",
    "\n",
    "✅ *Cuando utilizamos retunr podemos almacenar el resultado de una operacion a una neuva variable y asi, si podemos trabajar con ella*\n",
    "\n",
    "✅ *Podemos sacar el valor de la funcion y podemos almacenarlo en una variable fuera de la funcion*"
   ]
  },
  {
   "cell_type": "code",
   "execution_count": 1,
   "metadata": {},
   "outputs": [
    {
     "name": "stdout",
     "output_type": "stream",
     "text": [
      "9\n",
      "19\n"
     ]
    }
   ],
   "source": [
    "def suma(a, b):\n",
    "    return (a+b)\n",
    "\n",
    "resultado = suma(4, 5) #El resultado de la operacion se almacenara en esta variable\n",
    "print(resultado)\n",
    "resultado2 = 10 + resultado\n",
    "print(resultado2)"
   ]
  }
 ],
 "metadata": {
  "kernelspec": {
   "display_name": "Python 3",
   "language": "python",
   "name": "python3"
  },
  "language_info": {
   "codemirror_mode": {
    "name": "ipython",
    "version": 3
   },
   "file_extension": ".py",
   "mimetype": "text/x-python",
   "name": "python",
   "nbconvert_exporter": "python",
   "pygments_lexer": "ipython3",
   "version": "3.11.2"
  },
  "orig_nbformat": 4
 },
 "nbformat": 4,
 "nbformat_minor": 2
}
