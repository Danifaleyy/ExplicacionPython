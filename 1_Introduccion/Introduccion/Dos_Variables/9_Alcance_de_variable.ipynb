{
 "cells": [
  {
   "attachments": {},
   "cell_type": "markdown",
   "metadata": {},
   "source": [
    "# ***Alcance de una variable***"
   ]
  },
  {
   "attachments": {},
   "cell_type": "markdown",
   "metadata": {},
   "source": [
    "> ### ⚠️ ***Variables locales***"
   ]
  },
  {
   "attachments": {},
   "cell_type": "markdown",
   "metadata": {},
   "source": [
    "❓ **¿Que es una variable local?** *Son las variables que se crean dentro de una función.*\n",
    "\n",
    "⚠️ *Las variables locales solamente se pueden utilizar dentro de la función creada y no por fuera.*\n",
    "\n",
    "⚠️ *Las variables locales no existen afuera de la funcion donde fueron creadas, puedes crear una variable con el mismo nombre en otra funcion*"
   ]
  },
  {
   "cell_type": "code",
   "execution_count": 1,
   "metadata": {},
   "outputs": [
    {
     "name": "stdout",
     "output_type": "stream",
     "text": [
      "300\n"
     ]
    }
   ],
   "source": [
    "def myfunc():\n",
    "  x = 300 #Variable local\n",
    "  print(x)\n",
    "\n",
    "myfunc()"
   ]
  },
  {
   "cell_type": "code",
   "execution_count": 2,
   "metadata": {},
   "outputs": [
    {
     "name": "stdout",
     "output_type": "stream",
     "text": [
      "300\n"
     ]
    },
    {
     "ename": "NameError",
     "evalue": "name 'x' is not defined",
     "output_type": "error",
     "traceback": [
      "\u001b[1;31m---------------------------------------------------------------------------\u001b[0m",
      "\u001b[1;31mNameError\u001b[0m                                 Traceback (most recent call last)",
      "Cell \u001b[1;32mIn[2], line 7\u001b[0m\n\u001b[0;32m      4\u001b[0m   \u001b[39mprint\u001b[39m(x)\n\u001b[0;32m      6\u001b[0m myfunc()\n\u001b[1;32m----> 7\u001b[0m \u001b[39mprint\u001b[39m(x)\n",
      "\u001b[1;31mNameError\u001b[0m: name 'x' is not defined"
     ]
    }
   ],
   "source": [
    "#La variable (x) no está disponible fuera de la función, pero está disponible para cualquier función dentro de la función:\n",
    "def myfunc():\n",
    "  x = 300 #Variable local\n",
    "  print(x)\n",
    "\n",
    "myfunc()\n",
    "print(x)"
   ]
  },
  {
   "attachments": {},
   "cell_type": "markdown",
   "metadata": {},
   "source": [
    "> ### ⚠️ ***Variable global***"
   ]
  },
  {
   "attachments": {},
   "cell_type": "markdown",
   "metadata": {},
   "source": [
    "❓ ***¿Que es una variable global?** Las variables que se crean fuera de una función.*\n",
    "\n",
    "⚠️ *Las variables globales pueden ser utilizadas dentro y por fuera de la funcion donde se creo.*\n",
    "\n",
    "⚠️ *Solo se puede crear una variable en todo el progrtama con ese nombre porque es una variable global, osea que existe en todo el programa.*"
   ]
  },
  {
   "cell_type": "code",
   "execution_count": 2,
   "metadata": {},
   "outputs": [
    {
     "name": "stdout",
     "output_type": "stream",
     "text": [
      "Python is awesome\n"
     ]
    }
   ],
   "source": [
    "x = \"awesome\" #Variable global\n",
    "\n",
    "def myfunc():\n",
    "  print(\"Python is \" + x)\n",
    "\n",
    "myfunc() #Llamada a la funcion"
   ]
  },
  {
   "cell_type": "code",
   "execution_count": 4,
   "metadata": {},
   "outputs": [
    {
     "name": "stdout",
     "output_type": "stream",
     "text": [
      "300\n",
      "300\n"
     ]
    }
   ],
   "source": [
    "#Una variable creada fuera de una función es global y cualquiera puede usarla:\n",
    "\n",
    "x = 300 #Variable global\n",
    "\n",
    "def myfunc():\n",
    "  print(x)\n",
    "\n",
    "myfunc()\n",
    "\n",
    "print(x)"
   ]
  },
  {
   "attachments": {},
   "cell_type": "markdown",
   "metadata": {},
   "source": [
    "🤔 ***¿Que pasa si...Si se crea una variable local con el mismo nombre de una global?*** *Si opera con el mismo nombre de variable dentro y fuera de una función, Python las tratará como dos variables separadas, una disponible en el ámbito global (fuera de la función) y otra disponible en el ámbito local (dentro de la función).*"
   ]
  },
  {
   "cell_type": "code",
   "execution_count": 5,
   "metadata": {},
   "outputs": [
    {
     "name": "stdout",
     "output_type": "stream",
     "text": [
      "Python is fantastic\n",
      "Python is awesome\n"
     ]
    }
   ],
   "source": [
    "x = \"awesome\" #Variable global\n",
    "\n",
    "def myfunc():\n",
    "  x = \"fantastic\" #Variable local\n",
    "  print(\"Python is \" + x)\n",
    "\n",
    "myfunc() #Llamada a la funcion\n",
    "\n",
    "print(\"Python is \" + x)"
   ]
  },
  {
   "attachments": {},
   "cell_type": "markdown",
   "metadata": {},
   "source": [
    "> ### ⚠️ ***La palabra clave (global)***"
   ]
  },
  {
   "attachments": {},
   "cell_type": "markdown",
   "metadata": {},
   "source": [
    "⚠️ ***¿Como crear una variable global dentro de una funcion?*** *La variables creadas dentro de una funcion son de tipo local, entonces si queremos utilizarlas fuera de esa funcion necesitamos hacer a la variable de tipo global, entonces usamos la palabra clave (global) dentro de una funcion para convertir esa variable que se creo dentro de una funcion a tipo global para poderla utilizar fuera de la funcion.*"
   ]
  },
  {
   "cell_type": "code",
   "execution_count": 8,
   "metadata": {},
   "outputs": [
    {
     "name": "stdout",
     "output_type": "stream",
     "text": [
      "Python is fantastic\n"
     ]
    }
   ],
   "source": [
    "def myfunc():\n",
    "  global x #Variable global\n",
    "  x = \"fantastic\"\n",
    "\n",
    "print(\"Python is \" + x)"
   ]
  },
  {
   "attachments": {},
   "cell_type": "markdown",
   "metadata": {},
   "source": [
    "⚠️ ***¿Como cambiar el valor de una variable de tipo global dentro de una funcion?*** *Consulte la variable usando la palabra clave (global).*"
   ]
  },
  {
   "cell_type": "code",
   "execution_count": 9,
   "metadata": {},
   "outputs": [
    {
     "name": "stdout",
     "output_type": "stream",
     "text": [
      "Python is awesome\n",
      "Python is fantastic\n"
     ]
    }
   ],
   "source": [
    "x = \"awesome\"\n",
    "print(\"Python is \" + x) #Variable\n",
    "\n",
    "def myfunc():\n",
    "  global x #Variable global\n",
    "  x = \"fantastic\"\n",
    "  print(\"Python is \" + x)\n",
    "\n",
    "myfunc() #Llamada a la funcion"
   ]
  }
 ],
 "metadata": {
  "kernelspec": {
   "display_name": "Python 3",
   "language": "python",
   "name": "python3"
  },
  "language_info": {
   "codemirror_mode": {
    "name": "ipython",
    "version": 3
   },
   "file_extension": ".py",
   "mimetype": "text/x-python",
   "name": "python",
   "nbconvert_exporter": "python",
   "pygments_lexer": "ipython3",
   "version": "3.11.2"
  },
  "orig_nbformat": 4,
  "vscode": {
   "interpreter": {
    "hash": "7f7d0a7d2c388a63f360d96753a7e968c16eb21fbb4f37b5a755ce4cb5105011"
   }
  }
 },
 "nbformat": 4,
 "nbformat_minor": 2
}
