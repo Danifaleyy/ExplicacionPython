{
 "cells": [
  {
   "attachments": {},
   "cell_type": "markdown",
   "metadata": {},
   "source": [
    "# ***Variables***"
   ]
  },
  {
   "attachments": {},
   "cell_type": "markdown",
   "metadata": {},
   "source": [
    "💡 *El objetivo de declarar una variable es reservar espacio de memoria para almacenar el valor de esa variable*"
   ]
  },
  {
   "attachments": {},
   "cell_type": "markdown",
   "metadata": {},
   "source": [
    "💡 *Una variable se crea en el momento en que le asigna un valor por primera vez.*"
   ]
  },
  {
   "attachments": {},
   "cell_type": "markdown",
   "metadata": {},
   "source": [
    "🕒*El valor de una variable puede variar o cambiar con el tiempo.*"
   ]
  },
  {
   "cell_type": "code",
   "execution_count": 5,
   "metadata": {},
   "outputs": [
    {
     "name": "stdout",
     "output_type": "stream",
     "text": [
      "Valor:  10\n",
      "Valor:  200\n"
     ]
    }
   ],
   "source": [
    "valor = 10\n",
    "print(\"Valor: \", valor)\n",
    "valor = 200\n",
    "print(\"Valor: \", valor)"
   ]
  },
  {
   "attachments": {},
   "cell_type": "markdown",
   "metadata": {},
   "source": [
    "✅*En Python, el tipo de datos se establece cuando asigna un valor a una variable, Python identifica el tipo de dato que es automaticamente*"
   ]
  },
  {
   "cell_type": "code",
   "execution_count": 6,
   "metadata": {},
   "outputs": [
    {
     "name": "stdout",
     "output_type": "stream",
     "text": [
      "<class 'int'>\n",
      "<class 'float'>\n",
      "<class 'str'>\n",
      "<class 'bool'>\n"
     ]
    }
   ],
   "source": [
    "x = 1\n",
    "y = 1.1\n",
    "z = \"Hola\"\n",
    "a = True\n",
    "print(type(x))\n",
    "print(type(y))\n",
    "print(type(z))\n",
    "print(type(a))"
   ]
  }
 ],
 "metadata": {
  "kernelspec": {
   "display_name": "Python 3",
   "language": "python",
   "name": "python3"
  },
  "language_info": {
   "codemirror_mode": {
    "name": "ipython",
    "version": 3
   },
   "file_extension": ".py",
   "mimetype": "text/x-python",
   "name": "python",
   "nbconvert_exporter": "python",
   "pygments_lexer": "ipython3",
   "version": "3.11.2"
  },
  "orig_nbformat": 4,
  "vscode": {
   "interpreter": {
    "hash": "7f7d0a7d2c388a63f360d96753a7e968c16eb21fbb4f37b5a755ce4cb5105011"
   }
  }
 },
 "nbformat": 4,
 "nbformat_minor": 2
}
