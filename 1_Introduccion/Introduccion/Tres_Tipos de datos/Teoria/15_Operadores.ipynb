{
 "cells": [
  {
   "attachments": {},
   "cell_type": "markdown",
   "metadata": {},
   "source": [
    "# ***Operadores***"
   ]
  },
  {
   "attachments": {},
   "cell_type": "markdown",
   "metadata": {},
   "source": [
    "💡 ***Los operadores se utilizan para realizar operaciones en variables y valores.***"
   ]
  },
  {
   "attachments": {},
   "cell_type": "markdown",
   "metadata": {},
   "source": [
    "💥 ***Existe un orden de prioridad en la ejecucion de los operadores, igual que en las matematicas.***"
   ]
  },
  {
   "attachments": {},
   "cell_type": "markdown",
   "metadata": {},
   "source": [
    "![Imagen](https://lh5.googleusercontent.com/-RV4ZNzB5qvU/TeSJEIHEeSI/AAAAAAAAAJ0/-JVpFJBnxHs/CU00133A_1.png)"
   ]
  },
  {
   "attachments": {},
   "cell_type": "markdown",
   "metadata": {},
   "source": [
    "> ### ⚙ ***Operadores aritméticos***"
   ]
  },
  {
   "attachments": {},
   "cell_type": "markdown",
   "metadata": {},
   "source": [
    "💡 ***Los operadores aritméticos se utilizan con valores numéricos para realizar operaciones matemáticas***"
   ]
  },
  {
   "attachments": {},
   "cell_type": "markdown",
   "metadata": {},
   "source": [
    "✅ *Suma (+)*"
   ]
  },
  {
   "cell_type": "code",
   "execution_count": 4,
   "metadata": {},
   "outputs": [
    {
     "name": "stdout",
     "output_type": "stream",
     "text": [
      "15\n"
     ]
    }
   ],
   "source": [
    "x = 10\n",
    "y = 5\n",
    "z = x + y\n",
    "print(z)"
   ]
  },
  {
   "attachments": {},
   "cell_type": "markdown",
   "metadata": {},
   "source": [
    "✅ *Resta (-)*"
   ]
  },
  {
   "cell_type": "code",
   "execution_count": 5,
   "metadata": {},
   "outputs": [
    {
     "name": "stdout",
     "output_type": "stream",
     "text": [
      "5\n"
     ]
    }
   ],
   "source": [
    "x = 10\n",
    "y = 5\n",
    "z = x - y\n",
    "print(z)"
   ]
  },
  {
   "attachments": {},
   "cell_type": "markdown",
   "metadata": {},
   "source": [
    "✅ Multiplicacion (*)"
   ]
  },
  {
   "cell_type": "code",
   "execution_count": 6,
   "metadata": {},
   "outputs": [
    {
     "name": "stdout",
     "output_type": "stream",
     "text": [
      "50\n"
     ]
    }
   ],
   "source": [
    "x = 10\n",
    "y = 5\n",
    "z = x * y\n",
    "print(z)"
   ]
  },
  {
   "attachments": {},
   "cell_type": "markdown",
   "metadata": {},
   "source": [
    "✅ *Expotencial (**)*"
   ]
  },
  {
   "cell_type": "code",
   "execution_count": 8,
   "metadata": {},
   "outputs": [
    {
     "name": "stdout",
     "output_type": "stream",
     "text": [
      "100000\n"
     ]
    }
   ],
   "source": [
    "x = 10\n",
    "y = 5\n",
    "z = x ** y\n",
    "print(z)"
   ]
  },
  {
   "attachments": {},
   "cell_type": "markdown",
   "metadata": {},
   "source": [
    "✅ *Division (/)*"
   ]
  },
  {
   "cell_type": "code",
   "execution_count": 7,
   "metadata": {},
   "outputs": [
    {
     "name": "stdout",
     "output_type": "stream",
     "text": [
      "2.0\n"
     ]
    }
   ],
   "source": [
    "x = 10\n",
    "y = 5\n",
    "z = x / y\n",
    "print(z)"
   ]
  },
  {
   "attachments": {},
   "cell_type": "markdown",
   "metadata": {},
   "source": [
    "✅ *Division pero devuelve un numero entero (//)*"
   ]
  },
  {
   "cell_type": "code",
   "execution_count": 34,
   "metadata": {},
   "outputs": [
    {
     "name": "stdout",
     "output_type": "stream",
     "text": [
      "2\n"
     ]
    }
   ],
   "source": [
    "x = 10\n",
    "y = 5\n",
    "z = x // y\n",
    "print(z)"
   ]
  },
  {
   "attachments": {},
   "cell_type": "markdown",
   "metadata": {},
   "source": [
    "✅ *Residuo de una division (%)*"
   ]
  },
  {
   "cell_type": "code",
   "execution_count": 1,
   "metadata": {},
   "outputs": [
    {
     "name": "stdout",
     "output_type": "stream",
     "text": [
      "1\n"
     ]
    }
   ],
   "source": [
    "x = 10\n",
    "y = 3\n",
    "z = x % y\n",
    "print(z)"
   ]
  },
  {
   "attachments": {},
   "cell_type": "markdown",
   "metadata": {},
   "source": [
    "> ### ⚙ ***Operadores de comparación***"
   ]
  },
  {
   "attachments": {},
   "cell_type": "markdown",
   "metadata": {},
   "source": [
    "💡 ***Los operadores de comparación se utilizan para comparar dos valores***"
   ]
  },
  {
   "attachments": {},
   "cell_type": "markdown",
   "metadata": {},
   "source": [
    "💥 ***Los operadores de comparación nos devuelven únicamente 2 valores: True or False***"
   ]
  },
  {
   "attachments": {},
   "cell_type": "markdown",
   "metadata": {},
   "source": [
    "✅ ***=***\n",
    "\n",
    "💡 *Sirve para asignarle o darle un valor a una variable*\n"
   ]
  },
  {
   "cell_type": "code",
   "execution_count": 25,
   "metadata": {},
   "outputs": [
    {
     "name": "stdout",
     "output_type": "stream",
     "text": [
      "10\n"
     ]
    }
   ],
   "source": [
    "a = 10\n",
    "print(a)"
   ]
  },
  {
   "attachments": {},
   "cell_type": "markdown",
   "metadata": {},
   "source": [
    "✅ ***==***\n",
    "\n",
    "❓ *Es igual que*\n",
    "\n",
    "💡 *Estas comparando los valores de las 2 variables para saber si son iguales los valores*\n"
   ]
  },
  {
   "cell_type": "code",
   "execution_count": 11,
   "metadata": {},
   "outputs": [
    {
     "name": "stdout",
     "output_type": "stream",
     "text": [
      "False\n"
     ]
    }
   ],
   "source": [
    "x = 10\n",
    "y = 5\n",
    "z = x == y\n",
    "print(z) #El valor de x es igual que el de y"
   ]
  },
  {
   "attachments": {},
   "cell_type": "markdown",
   "metadata": {},
   "source": [
    "✅ ***!=***\n",
    "\n",
    "❓ *Es distinto de*\n",
    "\n",
    "💡 *Estas comparando los valores de las 2 variables para saber si son distintos los valores*\n"
   ]
  },
  {
   "cell_type": "code",
   "execution_count": 12,
   "metadata": {},
   "outputs": [
    {
     "name": "stdout",
     "output_type": "stream",
     "text": [
      "True\n"
     ]
    }
   ],
   "source": [
    "x = 10\n",
    "y = 5\n",
    "z = x != y\n",
    "print(z) #El valor de x es distinto que el de y"
   ]
  },
  {
   "attachments": {},
   "cell_type": "markdown",
   "metadata": {},
   "source": [
    "✅ ***>***\n",
    "\n",
    "❓ *Es mayor que*"
   ]
  },
  {
   "cell_type": "code",
   "execution_count": 13,
   "metadata": {},
   "outputs": [
    {
     "name": "stdout",
     "output_type": "stream",
     "text": [
      "True\n"
     ]
    }
   ],
   "source": [
    "x = 10\n",
    "y = 5\n",
    "z = x > y\n",
    "print(z)"
   ]
  },
  {
   "attachments": {},
   "cell_type": "markdown",
   "metadata": {},
   "source": [
    "✅ ***>=***\n",
    "\n",
    "💡 *Es mayor o igual que*"
   ]
  },
  {
   "cell_type": "code",
   "execution_count": 14,
   "metadata": {},
   "outputs": [
    {
     "name": "stdout",
     "output_type": "stream",
     "text": [
      "True\n"
     ]
    }
   ],
   "source": [
    "x = 10\n",
    "y = 5\n",
    "z = x >= y\n",
    "print(z)"
   ]
  },
  {
   "attachments": {},
   "cell_type": "markdown",
   "metadata": {},
   "source": [
    "✅ ***<***\n",
    "\n",
    "💡 *Es menor que*"
   ]
  },
  {
   "cell_type": "code",
   "execution_count": 15,
   "metadata": {},
   "outputs": [
    {
     "name": "stdout",
     "output_type": "stream",
     "text": [
      "False\n"
     ]
    }
   ],
   "source": [
    "x = 10\n",
    "y = 5\n",
    "z = x < y\n",
    "print(z)"
   ]
  },
  {
   "attachments": {},
   "cell_type": "markdown",
   "metadata": {},
   "source": [
    "✅ ***<=***\n",
    "\n",
    "💡 *Es menor o igual que*\n"
   ]
  },
  {
   "cell_type": "code",
   "execution_count": 16,
   "metadata": {},
   "outputs": [
    {
     "name": "stdout",
     "output_type": "stream",
     "text": [
      "False\n"
     ]
    }
   ],
   "source": [
    "x = 10\n",
    "y = 5\n",
    "z = x <= y\n",
    "print(z)"
   ]
  },
  {
   "attachments": {},
   "cell_type": "markdown",
   "metadata": {},
   "source": [
    "> ### ⚙ ***Operadores lógicos***"
   ]
  },
  {
   "attachments": {},
   "cell_type": "markdown",
   "metadata": {},
   "source": [
    "💡 ***Los operadores lógicos se utilizan para combinar sentencias condicionales***"
   ]
  },
  {
   "attachments": {},
   "cell_type": "markdown",
   "metadata": {},
   "source": [
    "⚠️ ***and (&)***\n",
    "\n",
    "✅ *Las 2 condiciones deben se ser True para que sea verdadero*\n",
    "\n",
    "❌ *Con 1 condición que sea False, ya es falsa*\n"
   ]
  },
  {
   "cell_type": "code",
   "execution_count": 36,
   "metadata": {},
   "outputs": [
    {
     "name": "stdout",
     "output_type": "stream",
     "text": [
      "True\n",
      "False\n",
      "False\n",
      "False\n"
     ]
    }
   ],
   "source": [
    "#AND\n",
    "#Las 2 condiciones deben se ser True para que sea verdadero\n",
    "#Con 1 condicion que sea False, ya es falsa\n",
    "resultado1 = True & True #Devolvera True\n",
    "resultado2 = True & False #Devolvera False\n",
    "resultado3 = False & True #Devolvera False\n",
    "resultado4 = False & False #Devolvera False\n",
    "print(resultado1)\n",
    "print(resultado2)\n",
    "print(resultado3)\n",
    "print(resultado4)"
   ]
  },
  {
   "cell_type": "code",
   "execution_count": 37,
   "metadata": {},
   "outputs": [
    {
     "name": "stdout",
     "output_type": "stream",
     "text": [
      "True\n"
     ]
    }
   ],
   "source": [
    "x = 5\n",
    "print(x > 3 and x < 10)\n",
    "# returns True because 5 is greater than 3 AND 5 is less than 10"
   ]
  },
  {
   "attachments": {},
   "cell_type": "markdown",
   "metadata": {},
   "source": [
    "⚠️ ***or ( | )***\n",
    "\n",
    "✅ *Con 1 condición que se cumpla ya es True (verdadera)*\n",
    "\n",
    "❌ *Solamente es False cuando las 2 condiciones son False*"
   ]
  },
  {
   "cell_type": "code",
   "execution_count": 39,
   "metadata": {},
   "outputs": [
    {
     "name": "stdout",
     "output_type": "stream",
     "text": [
      "True\n",
      "True\n",
      "True\n",
      "False\n"
     ]
    }
   ],
   "source": [
    "#OR\n",
    "#Si una de las 2 condiciones es True ya es verdadera\n",
    "#Solamente es False cuando las 2 condicones son False\n",
    "#Con 1 condicion que se cumpla ya es True (verdadera)\n",
    "resultado5 = True | True #Devolvera True\n",
    "resultado6 = True | False #Devolvera True\n",
    "resultado7 = False | True #Devolvera True\n",
    "resultado8 = False | False #Devolvera False\n",
    "print(resultado5)\n",
    "print(resultado6)\n",
    "print(resultado7)\n",
    "print(resultado8)"
   ]
  },
  {
   "cell_type": "code",
   "execution_count": 40,
   "metadata": {},
   "outputs": [
    {
     "name": "stdout",
     "output_type": "stream",
     "text": [
      "True\n"
     ]
    }
   ],
   "source": [
    "x = 5\n",
    "\n",
    "print(x > 3 or x < 4)\n",
    "# returns True because one of the conditions are true (5 is greater than 3, but 5 is not less than 4)"
   ]
  },
  {
   "attachments": {},
   "cell_type": "markdown",
   "metadata": {},
   "source": [
    "⚠️ ***not (not)***\n",
    "\n",
    "✅ *Nos invierte el valor: Si le damos o asignamos un valor a la variable False nos devuelve True*\n",
    "\n",
    "❌ *Nos invierte el valor: Si le damos o asignamos un valor a la variable True nos devuelve False*\n"
   ]
  },
  {
   "cell_type": "code",
   "execution_count": 28,
   "metadata": {},
   "outputs": [
    {
     "name": "stdout",
     "output_type": "stream",
     "text": [
      "False\n",
      "True\n",
      "False\n"
     ]
    }
   ],
   "source": [
    "# %%\n",
    "#NOT\n",
    "#Nos invierte el valor: Si le damos un valor True nos devuelve False y viceversa\n",
    "resultado9 = not True #Devolvera False\n",
    "resultado10 = not False #Devolvera True\n",
    "resultado11 = not 2 == 2 #Como 2 si es lo mismo que 2, es verdadero (True) entonces lo invierte a False\n",
    "print(resultado9)\n",
    "print(resultado10)\n",
    "print(resultado11)"
   ]
  },
  {
   "cell_type": "code",
   "execution_count": 19,
   "metadata": {},
   "outputs": [
    {
     "name": "stdout",
     "output_type": "stream",
     "text": [
      "False\n"
     ]
    }
   ],
   "source": [
    "x = 5\n",
    "\n",
    "print(not(x > 3 and x < 10))\n",
    "# returns False because not is used to reverse the result"
   ]
  },
  {
   "attachments": {},
   "cell_type": "markdown",
   "metadata": {},
   "source": [
    "> ### ⚙ ***Operadores de identidad***"
   ]
  },
  {
   "attachments": {},
   "cell_type": "markdown",
   "metadata": {},
   "source": [
    "💡 ***Los operadores de identidad se utilizan para comparar los objetos, no si son iguales, sino si en realidad son el mismo objeto, con la misma ubicación de memoria***"
   ]
  },
  {
   "attachments": {},
   "cell_type": "markdown",
   "metadata": {},
   "source": [
    "❓ *Comprueba si dos variables hacen referencia a el mismo objeto.*"
   ]
  },
  {
   "attachments": {},
   "cell_type": "markdown",
   "metadata": {},
   "source": [
    "> ⚠️ ***is***\n",
    "\n",
    "✅ *Devuelve True si ambas variables son el mismo objeto*"
   ]
  },
  {
   "cell_type": "code",
   "execution_count": 4,
   "metadata": {},
   "outputs": [
    {
     "name": "stdout",
     "output_type": "stream",
     "text": [
      "True\n",
      "False\n",
      "True\n",
      "True\n",
      "1963979718528\n",
      "1963978918400\n",
      "1963979718528\n"
     ]
    }
   ],
   "source": [
    "x = [\"apple\", \"banana\"]\n",
    "y = [\"apple\", \"banana\"]\n",
    "z = x\n",
    "\n",
    "print(x is z) #Devuelve True porque z es el mismo objeto que x, z almacena a x\n",
    "print(x is y) #Devuelve False porque x no es el mismo objeto que y, incluso si tienen el mismo contenido, y no alamacena a x\n",
    "print(x == y) #Para demostrar la diferencia entre \"is\" y \"==\": esta comparación devuelve True porque x es igual a y, compara el contenido de las 2 variables\n",
    "\n",
    "#La funcion: id(variable)\n",
    "#Te indica el objeto\n",
    "print(id(x))\n",
    "print(id(y))\n",
    "print(id(z))"
   ]
  },
  {
   "attachments": {},
   "cell_type": "markdown",
   "metadata": {},
   "source": [
    "❌ *Aunque haya los mismos valores, si no es el mismo objeto donde se almacenan te dara False*\n",
    "\n",
    "✅ *Solamente te dara True si hacen referencia al mismo objeto*"
   ]
  },
  {
   "cell_type": "code",
   "execution_count": 5,
   "metadata": {},
   "outputs": [
    {
     "name": "stdout",
     "output_type": "stream",
     "text": [
      "True\n",
      "False\n",
      "True\n",
      "1963979719744\n",
      "1963979718720\n",
      "1963979719744\n"
     ]
    }
   ],
   "source": [
    "a = [1, 2, 3]\n",
    "b = [1, 2, 3]\n",
    "c = a\n",
    "\n",
    "print(a == b) # Compara el contenido de la variable a y b, si el contenido es el mismo dara True\n",
    "print(a is b) # (b almacena a) Dara False porque no son el mismo objeto\n",
    "print(a is c) # (c almacena a) Dara True porque a la varibale c se le asigno como valor la variable a\n",
    "#La funcion: id(variable)\n",
    "#Te indica el objeto\n",
    "print(id(a))\n",
    "print(id(b)) \n",
    "print(id(c))"
   ]
  },
  {
   "attachments": {},
   "cell_type": "markdown",
   "metadata": {},
   "source": [
    "> ⚠️ ***is not***"
   ]
  },
  {
   "attachments": {},
   "cell_type": "markdown",
   "metadata": {},
   "source": [
    "✅ *Devuelve True si ambas variables no son el mismo objeto*\n",
    "\n",
    "❌ *Devuelve True cuando ambas variables no hacen referencia al mismo objeto.*"
   ]
  },
  {
   "cell_type": "code",
   "execution_count": 48,
   "metadata": {},
   "outputs": [
    {
     "name": "stdout",
     "output_type": "stream",
     "text": [
      "False\n",
      "True\n",
      "False\n",
      "3018655119296\n",
      "3018655069888\n",
      "3018655119296\n"
     ]
    }
   ],
   "source": [
    "x = [\"apple\", \"banana\"]\n",
    "y = [\"apple\", \"banana\"]\n",
    "z = x\n",
    "\n",
    "print(x is not z) #Devuelve False porque z es el mismo objeto que x\n",
    "print(x is not y) #Devuelve True porque x no es el mismo objeto que y, incluso si tienen el mismo contenido\n",
    "print(x != y) #Para demostrar la diferencia entre \"is\" y \"!=\": esta comparación devuelve Falso porque x es igual a y\n",
    "#La funcion: id(variable)\n",
    "#Te indica el objeto\n",
    "print(id(x))\n",
    "print(id(y))\n",
    "print(id(z))"
   ]
  },
  {
   "cell_type": "code",
   "execution_count": 7,
   "metadata": {},
   "outputs": [
    {
     "name": "stdout",
     "output_type": "stream",
     "text": [
      "True\n",
      "False\n",
      "1963978889216\n",
      "1963978890304\n",
      "1963978889216\n"
     ]
    }
   ],
   "source": [
    "# Python crea dos objetos diferentes, uno para cada lista, Las listas son mutables.\n",
    "a = [1, 2, 3]\n",
    "b = [1, 2, 3]\n",
    "c = a\n",
    "\n",
    "print(a is not b) # Devuelve True porque a no es el mismo objeto que b, incluso si tienen el mismo contenido\n",
    "print(a is not c) # Devuelve False porque a es el mismo objeto que c\n",
    "\n",
    "#La funcion: id(variable)\n",
    "#Te indica el objeto\n",
    "print(id(a))\n",
    "print(id(b))\n",
    "print(id(c))"
   ]
  },
  {
   "cell_type": "code",
   "execution_count": 9,
   "metadata": {},
   "outputs": [
    {
     "name": "stdout",
     "output_type": "stream",
     "text": [
      "False\n",
      "False\n",
      "140734062588840\n",
      "140734062588840\n",
      "140734062588840\n"
     ]
    }
   ],
   "source": [
    "# Python reutiliza el objeto que almacena a 5, por lo que ambas variables apuntan a el mismo\n",
    "a = 5\n",
    "b = 5\n",
    "c = a\n",
    "print(a is not b) # Dara False porque es el mismo objeto\n",
    "print(a is not c) # Dara False porque es el mismo objeto\n",
    "\n",
    "#La funcion: id(variable)\n",
    "#Te indica el objeto\n",
    "print(id(a))\n",
    "print(id(b))\n",
    "print(id(c))"
   ]
  },
  {
   "attachments": {},
   "cell_type": "markdown",
   "metadata": {},
   "source": [
    "> ### ⚙ ***Operadores de membresía***"
   ]
  },
  {
   "attachments": {},
   "cell_type": "markdown",
   "metadata": {},
   "source": [
    "💡 ***Los operadores de membresía se utilizan para probar si una secuencia se presenta en un objeto***"
   ]
  },
  {
   "attachments": {},
   "cell_type": "markdown",
   "metadata": {},
   "source": [
    "> ⚠️ ***in***"
   ]
  },
  {
   "attachments": {},
   "cell_type": "markdown",
   "metadata": {},
   "source": [
    "✅ *Devuelve True si un valor especificado esta dentro del objeto*"
   ]
  },
  {
   "cell_type": "code",
   "execution_count": 23,
   "metadata": {},
   "outputs": [
    {
     "name": "stdout",
     "output_type": "stream",
     "text": [
      "True\n"
     ]
    }
   ],
   "source": [
    "x = [\"apple\", \"banana\"]\n",
    "\n",
    "print(\"banana\" in x)\n",
    "\n",
    "#Devuelve True porque una secuencia con el valor \"banana\" está en la lista"
   ]
  },
  {
   "attachments": {},
   "cell_type": "markdown",
   "metadata": {},
   "source": [
    "> ⚠️ ***not in***"
   ]
  },
  {
   "attachments": {},
   "cell_type": "markdown",
   "metadata": {},
   "source": [
    "✅ *Devuelve True si un valor especificado no esta dentro del objeto*"
   ]
  },
  {
   "cell_type": "code",
   "execution_count": 51,
   "metadata": {},
   "outputs": [
    {
     "name": "stdout",
     "output_type": "stream",
     "text": [
      "True\n"
     ]
    }
   ],
   "source": [
    "x = [\"apple\", \"banana\"]\n",
    "\n",
    "print(\"pineapple\" not in x)\n",
    "\n",
    "#Devuelve True porque una secuencia con el valor \"piña\" no está en la lista"
   ]
  }
 ],
 "metadata": {
  "kernelspec": {
   "display_name": "Python 3",
   "language": "python",
   "name": "python3"
  },
  "language_info": {
   "codemirror_mode": {
    "name": "ipython",
    "version": 3
   },
   "file_extension": ".py",
   "mimetype": "text/x-python",
   "name": "python",
   "nbconvert_exporter": "python",
   "pygments_lexer": "ipython3",
   "version": "3.11.2"
  },
  "orig_nbformat": 4,
  "vscode": {
   "interpreter": {
    "hash": "7f7d0a7d2c388a63f360d96753a7e968c16eb21fbb4f37b5a755ce4cb5105011"
   }
  }
 },
 "nbformat": 4,
 "nbformat_minor": 2
}
