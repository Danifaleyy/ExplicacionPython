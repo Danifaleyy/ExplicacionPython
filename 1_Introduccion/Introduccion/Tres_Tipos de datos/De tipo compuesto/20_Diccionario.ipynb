{
 "cells": [
  {
   "attachments": {},
   "cell_type": "markdown",
   "metadata": {},
   "source": [
    "# ***Diccionario { } ---- dict***"
   ]
  },
  {
   "cell_type": "markdown",
   "metadata": {},
   "source": [
    "💡 ***¿Que son los datos compuestos?*** *Dentro de los datos tienen otros datos de diferentes tipos. Los datos compuestos es una mezcla de datos simples y compuestos*"
   ]
  },
  {
   "attachments": {},
   "cell_type": "markdown",
   "metadata": {},
   "source": [
    "💡 ***¿Que es un diccionario?*** *Se utilizan para almacenar varios elementos o valores en una sola variable.*"
   ]
  },
  {
   "attachments": {},
   "cell_type": "markdown",
   "metadata": {},
   "source": [
    "***🏣 Estructura de un diccionario:*** \n",
    "\n",
    "💡 ***key (Clave --- Nombre unico):*** *Es el nombre de la variable que aguardara el valor (value), puede ser cualquiera que tu quieras*\n",
    "\n",
    "💡 ***value (Valor):*** *Es el valor de la variable (key)*\n",
    "\n",
    "                                        dict = { \n",
    "    \n",
    "                                        key:value,\n",
    "\n",
    "                                        key:value,\n",
    "    \n",
    "                                        key:value\n",
    "    \n",
    "                                        }\n",
    "\n"
   ]
  },
  {
   "attachments": {},
   "cell_type": "markdown",
   "metadata": {},
   "source": [
    "> ### ⚠️ ***Como crear un diccionario***"
   ]
  },
  {
   "attachments": {},
   "cell_type": "markdown",
   "metadata": {},
   "source": [
    "> 💥 ***Creando un diccionario con el constructor: dict()***"
   ]
  },
  {
   "cell_type": "code",
   "execution_count": 3,
   "metadata": {},
   "outputs": [
    {
     "name": "stdout",
     "output_type": "stream",
     "text": [
      "{'nombre': 'Daniel', 'apellido': 'Leyva', 'edad': 21}\n",
      "<class 'dict'>\n"
     ]
    }
   ],
   "source": [
    "diccionario = dict(nombre = \"Daniel\", apellido = \"Leyva\", edad = 21)\n",
    "print(diccionario)\n",
    "print(type(diccionario))"
   ]
  },
  {
   "attachments": {},
   "cell_type": "markdown",
   "metadata": {},
   "source": [
    ">  💥***Creando un diccionario sin el constructor: dict()***"
   ]
  },
  {
   "cell_type": "code",
   "execution_count": 4,
   "metadata": {},
   "outputs": [
    {
     "name": "stdout",
     "output_type": "stream",
     "text": [
      "{'brand': 'Ford', 'model': 'Mustang', 'year': 1964}\n",
      "<class 'dict'>\n"
     ]
    }
   ],
   "source": [
    "thisdict = {\n",
    "  \"brand\": \"Ford\",\n",
    "  \"model\": \"Mustang\",\n",
    "  \"year\": 1964\n",
    "}\n",
    "print(thisdict)\n",
    "print(type(thisdict))"
   ]
  },
  {
   "attachments": {},
   "cell_type": "markdown",
   "metadata": {},
   "source": [
    "> 💥 ***Como crear un diccionario con un elemento***"
   ]
  },
  {
   "cell_type": "markdown",
   "metadata": {},
   "source": [
    "❓ *Debes agregar una coma después del elemento, de lo contrario, Python no lo reconocerá como una tupla y lo reconocera como una cadeta de texto.*"
   ]
  },
  {
   "attachments": {},
   "cell_type": "markdown",
   "metadata": {},
   "source": [
    "✅ ***Con la funcion dict()***"
   ]
  },
  {
   "cell_type": "code",
   "execution_count": 4,
   "metadata": {},
   "outputs": [
    {
     "name": "stdout",
     "output_type": "stream",
     "text": [
      "{'nombre': 'Daniel'}\n",
      "<class 'dict'>\n"
     ]
    }
   ],
   "source": [
    "diccionario = dict(nombre = \"Daniel\",)\n",
    "print(diccionario)\n",
    "print(type(diccionario))"
   ]
  },
  {
   "attachments": {},
   "cell_type": "markdown",
   "metadata": {},
   "source": [
    "✅ ***Sin la funcion dict()***"
   ]
  },
  {
   "cell_type": "code",
   "execution_count": 5,
   "metadata": {},
   "outputs": [
    {
     "name": "stdout",
     "output_type": "stream",
     "text": [
      "{'brand': 'Ford'}\n",
      "<class 'dict'>\n"
     ]
    }
   ],
   "source": [
    "thisdict = {\n",
    "  \"brand\": \"Ford\",\n",
    "}\n",
    "print(thisdict)\n",
    "print(type(thisdict))"
   ]
  },
  {
   "attachments": {},
   "cell_type": "markdown",
   "metadata": {},
   "source": [
    "> 💥 ***Como crear un diccionario vacio***"
   ]
  },
  {
   "attachments": {},
   "cell_type": "markdown",
   "metadata": {},
   "source": [
    "💡 ***Debes de usar la funcion dict( ) sin valores***"
   ]
  },
  {
   "cell_type": "code",
   "execution_count": 1,
   "metadata": {},
   "outputs": [
    {
     "name": "stdout",
     "output_type": "stream",
     "text": [
      "{}\n",
      "<class 'dict'>\n"
     ]
    }
   ],
   "source": [
    "diccionario = dict()\n",
    "print(diccionario)\n",
    "print(type(diccionario))"
   ]
  },
  {
   "cell_type": "code",
   "execution_count": 5,
   "metadata": {},
   "outputs": [
    {
     "name": "stdout",
     "output_type": "stream",
     "text": [
      "{}\n",
      "<class 'dict'>\n"
     ]
    }
   ],
   "source": [
    "thisdict = {\n",
    "}\n",
    "print(thisdict)\n",
    "print(type(thisdict))"
   ]
  },
  {
   "attachments": {},
   "cell_type": "markdown",
   "metadata": {},
   "source": [
    "> 💥 ***Como crear un diccionario dentro de otro***\n",
    "\n",
    "❓ ***A esto se le llama diccionario anidados, cuando un diccionario tiene otros diccionarios dentro de el***"
   ]
  },
  {
   "attachments": {},
   "cell_type": "markdown",
   "metadata": {},
   "source": [
    "> ✅ ***Como crear un diccionario dentro de otro***"
   ]
  },
  {
   "cell_type": "code",
   "execution_count": 6,
   "metadata": {},
   "outputs": [
    {
     "name": "stdout",
     "output_type": "stream",
     "text": [
      "{'child1': {'name': 'Emil', 'year': 2004}, 'child2': {'name': 'Tobias', 'year': 2007}, 'child3': {'name': 'Linus', 'year': 2011}}\n"
     ]
    }
   ],
   "source": [
    "#El diccionario padre (myfamily) tendra dentro 3 diccionarios\n",
    "myfamily = {   #Dicionario padre\n",
    "  \"child1\" : { #Diccionario hijo 1\n",
    "    \"name\" : \"Emil\",\n",
    "    \"year\" : 2004\n",
    "  },\n",
    "  \"child2\" : {  #Diccionario hijo 2\n",
    "    \"name\" : \"Tobias\",\n",
    "    \"year\" : 2007\n",
    "  },\n",
    "  \"child3\" : {  #Diccionario hijo 3\n",
    "    \"name\" : \"Linus\",\n",
    "    \"year\" : 2011\n",
    "  }\n",
    "}\n",
    "print(myfamily)"
   ]
  },
  {
   "attachments": {},
   "cell_type": "markdown",
   "metadata": {},
   "source": [
    "> ✅ ***Como agregar 3 diccionario a un diccionario***"
   ]
  },
  {
   "cell_type": "code",
   "execution_count": 7,
   "metadata": {},
   "outputs": [
    {
     "name": "stdout",
     "output_type": "stream",
     "text": [
      "{'child1': {'name': 'Emil', 'year': 2004}, 'child2': {'name': 'Tobias', 'year': 2007}, 'child3': {'name': 'Linus', 'year': 2011}}\n"
     ]
    }
   ],
   "source": [
    "child1 = { #Diccionario hijo 1\n",
    "  \"name\" : \"Emil\",\n",
    "  \"year\" : 2004\n",
    "}\n",
    "child2 = { #Diccionario hijo 2\n",
    "  \"name\" : \"Tobias\",\n",
    "  \"year\" : 2007\n",
    "}\n",
    "child3 = { #Diccionario hijo 3\n",
    "  \"name\" : \"Linus\",\n",
    "  \"year\" : 2011\n",
    "}\n",
    "#El diccionario padre (myfamily) tendra dentro 3 diccionarios\n",
    "myfamily = { #Diccionario padre\n",
    "  \"child1\" : child1, #Les estas indicando: key:valores Le estas indicando de tal diccionario\n",
    "  \"child2\" : child2,\n",
    "  \"child3\" : child3\n",
    "}\n",
    "print(myfamily)"
   ]
  },
  {
   "attachments": {},
   "cell_type": "markdown",
   "metadata": {},
   "source": [
    "> ### ⚠️ ***Como acceder a los elementos de un diccionario.***"
   ]
  },
  {
   "attachments": {},
   "cell_type": "markdown",
   "metadata": {},
   "source": [
    "💥 ***Los diccionarios sigue un orden***\n",
    "\n",
    "> ✅ ***Accedemos a ellos por el nombre que le pusimos a cada elemento (key) entre corchetes***\n",
    "\n",
    "💡 ***nombre_del_diccionario[\"Key\"]***"
   ]
  },
  {
   "cell_type": "code",
   "execution_count": 8,
   "metadata": {},
   "outputs": [
    {
     "name": "stdout",
     "output_type": "stream",
     "text": [
      "Ford\n"
     ]
    }
   ],
   "source": [
    "thisdict = {\n",
    "  \"brand\": \"Ford\",\n",
    "  \"model\": \"Mustang\",\n",
    "  \"year\": 1964\n",
    "}\n",
    "print(thisdict[\"brand\"]) #Aqui accedemos al valor de key (brand)"
   ]
  },
  {
   "cell_type": "code",
   "execution_count": 9,
   "metadata": {},
   "outputs": [
    {
     "name": "stdout",
     "output_type": "stream",
     "text": [
      "{'nombre': 'Daniel Leyva', 'profesion': 'Un millonario sexy', 'novia': 'Lana Del Rey', 'altura': 1.75, 'esta_emocionado': True, 'dato_duplicado': 'Daniel Leyva'}\n",
      "Daniel Leyva\n",
      "Taylor Swift\n"
     ]
    }
   ],
   "source": [
    "dict = {\n",
    "    \"nombre\": \"Daniel Leyva\",\n",
    "    \"profesion\":\"Un millonario sexy\",\n",
    "    \"novia\":\"Lana Del Rey\",\n",
    "    \"altura\":1.75,\n",
    "    \"esta_emocionado\":True,\n",
    "    \"dato_duplicado\":\"Daniel Leyva\"\n",
    "}\n",
    "print(dict)\n",
    "#Asi accedemos a los elementos, en vez de acceder por la posicion como en la lista, aqui accedemos mendiante en nombre que le pongamos al dato del valor que queramos acceder\n",
    "print(dict[\"nombre\"]) #La clave es \"nombre\" y su valor es \"Daniel Leyva\"\n",
    "#Cambiado un valor de un elemento\n",
    "dict[\"novia\"] = \"Taylor Swift\"\n",
    "print(dict[\"novia\"])"
   ]
  },
  {
   "attachments": {},
   "cell_type": "markdown",
   "metadata": {},
   "source": [
    ">  ✅ ***Accedemos a ellos con un metodo: get( )***\n",
    "\n",
    "💡 ***nueva_variable = nombre_del_diccionario.get(\"Key\")***"
   ]
  },
  {
   "cell_type": "code",
   "execution_count": 10,
   "metadata": {},
   "outputs": [
    {
     "name": "stdout",
     "output_type": "stream",
     "text": [
      "Mustang\n"
     ]
    }
   ],
   "source": [
    "thisdict = {\n",
    "  \"brand\": \"Ford\",\n",
    "  \"model\": \"Mustang\",\n",
    "  \"year\": 1964\n",
    "}\n",
    "x = thisdict.get(\"model\") #Le asignamos el valor del valor que accedemos usadno el metodo a una nueva variable\n",
    "print(x)"
   ]
  },
  {
   "attachments": {},
   "cell_type": "markdown",
   "metadata": {},
   "source": [
    "> 💥 ***Como acceder a elementos en diccionarios anidados***\n",
    "\n",
    "❓ ***Para acceder a los elementos de un diccionario anidado, use el nombre de los diccionarios: (diccionario_padre[diccionario_hijo][key])***"
   ]
  },
  {
   "cell_type": "code",
   "execution_count": 11,
   "metadata": {},
   "outputs": [
    {
     "name": "stdout",
     "output_type": "stream",
     "text": [
      "Tobias\n"
     ]
    }
   ],
   "source": [
    "myfamily = {\n",
    "  \"child1\" : {\n",
    "    \"name\" : \"Emil\",\n",
    "    \"year\" : 2004\n",
    "  },\n",
    "  \"child2\" : {\n",
    "    \"name\" : \"Tobias\",\n",
    "    \"year\" : 2007\n",
    "  },\n",
    "  \"child3\" : {\n",
    "    \"name\" : \"Linus\",\n",
    "    \"year\" : 2011\n",
    "  }\n",
    "}\n",
    "\n",
    "print(myfamily[\"child2\"][\"name\"])"
   ]
  },
  {
   "cell_type": "code",
   "execution_count": 12,
   "metadata": {},
   "outputs": [
    {
     "name": "stdout",
     "output_type": "stream",
     "text": [
      "Tobias\n"
     ]
    }
   ],
   "source": [
    "child1 = {\n",
    "  \"name\" : \"Emil\",\n",
    "  \"year\" : 2004\n",
    "}\n",
    "child2 = {\n",
    "  \"name\" : \"Tobias\",\n",
    "  \"year\" : 2007\n",
    "}\n",
    "child3 = {\n",
    "  \"name\" : \"Linus\",\n",
    "  \"year\" : 2011\n",
    "}\n",
    "\n",
    "myfamily = {\n",
    "  \"child1\" : child1,\n",
    "  \"child2\" : child2,\n",
    "  \"child3\" : child3\n",
    "}\n",
    "print(myfamily[\"child2\"][\"name\"])"
   ]
  },
  {
   "attachments": {},
   "cell_type": "markdown",
   "metadata": {},
   "source": [
    "> ### ⚠️ ***Obtener la longitud de un conjunto***\n",
    "\n",
    "💡 *Usamos la funcion:* ***len()***\n",
    "\n",
    "❓ ***La longitud de un diccionario es la cantidad de elementos que tiene un diccionario***"
   ]
  },
  {
   "cell_type": "code",
   "execution_count": 13,
   "metadata": {},
   "outputs": [
    {
     "name": "stdout",
     "output_type": "stream",
     "text": [
      "3\n"
     ]
    }
   ],
   "source": [
    "thisdict = {\n",
    "  \"brand\": \"Ford\",\n",
    "  \"model\": \"Mustang\",\n",
    "  \"year\": 1964\n",
    "}\n",
    "print(len(thisdict))"
   ]
  },
  {
   "attachments": {},
   "cell_type": "markdown",
   "metadata": {},
   "source": [
    "> ### ⚠️ ***No permite key duplicadas pero si valores duplicados***"
   ]
  },
  {
   "attachments": {},
   "cell_type": "markdown",
   "metadata": {},
   "source": [
    "❌ ***No permite key duplicadas, cada key debe de tener un nombre unico***\n",
    "\n",
    "❓ *Solamente lo imprimira 1 vez*"
   ]
  },
  {
   "cell_type": "code",
   "execution_count": 14,
   "metadata": {},
   "outputs": [
    {
     "name": "stdout",
     "output_type": "stream",
     "text": [
      "{'brand': 'Ford', 'model': 'Mustang', 'year': 2020}\n"
     ]
    }
   ],
   "source": [
    "thisdict = {\n",
    "  \"brand\": \"Ford\",\n",
    "  \"model\": \"Mustang\",\n",
    "  \"year\": 1964,\n",
    "  \"year\": 2020\n",
    "}\n",
    "print(thisdict)"
   ]
  },
  {
   "attachments": {},
   "cell_type": "markdown",
   "metadata": {},
   "source": [
    "✅ ***Si permite valores de las key duplicados pero no permite nombre de key duplicados***"
   ]
  },
  {
   "cell_type": "code",
   "execution_count": 15,
   "metadata": {},
   "outputs": [
    {
     "name": "stdout",
     "output_type": "stream",
     "text": [
      "{'brand': 'Ford', 'model': 'Mustang', 'year1': 2020, 'year2': 2020}\n"
     ]
    }
   ],
   "source": [
    "thisdict = {\n",
    "  \"brand\": \"Ford\",\n",
    "  \"model\": \"Mustang\",\n",
    "  \"year1\": 2020,\n",
    "  \"year2\": 2020\n",
    "}\n",
    "print(thisdict)"
   ]
  },
  {
   "attachments": {},
   "cell_type": "markdown",
   "metadata": {},
   "source": [
    "> ### ⚠️ ***Como obtener todas las keys de un diccionario***\n",
    "\n",
    "💡 *Usamos el metodo:* ***keys( )***\n",
    "\n",
    "❓ *Nos da todas las keys que tiene un diccionario*"
   ]
  },
  {
   "cell_type": "code",
   "execution_count": 16,
   "metadata": {},
   "outputs": [
    {
     "name": "stdout",
     "output_type": "stream",
     "text": [
      "dict_keys(['brand', 'model', 'year'])\n",
      "<class 'dict_keys'>\n"
     ]
    }
   ],
   "source": [
    "thisdict = {\n",
    "  \"brand\": \"Ford\",\n",
    "  \"model\": \"Mustang\",\n",
    "  \"year\": 1964\n",
    "}\n",
    "x = thisdict.keys()\n",
    "print(x)\n",
    "print(type(x))"
   ]
  },
  {
   "attachments": {},
   "cell_type": "markdown",
   "metadata": {},
   "source": [
    "> ### ⚠️ ***Como obtener todos los valores (values) de un diccionario***\n",
    "\n",
    "💡 *Usamos el metodo:* ***values( )***\n",
    "\n",
    "❓ *Nos da todas los valores de las keys que tiene un diccionario*"
   ]
  },
  {
   "cell_type": "code",
   "execution_count": 17,
   "metadata": {},
   "outputs": [
    {
     "name": "stdout",
     "output_type": "stream",
     "text": [
      "dict_values(['Ford', 'Mustang', 1964])\n",
      "<class 'dict_values'>\n"
     ]
    }
   ],
   "source": [
    "thisdict = {\n",
    "  \"brand\": \"Ford\",\n",
    "  \"model\": \"Mustang\",\n",
    "  \"year\": 1964\n",
    "}\n",
    "x = thisdict.values()\n",
    "print(x)\n",
    "print(type(x))"
   ]
  },
  {
   "attachments": {},
   "cell_type": "markdown",
   "metadata": {},
   "source": [
    "> ### ⚠️ ***Como obtener los articulos (items) de un diccionario***\n",
    "\n",
    "💡 *Usamos el metodo:* ***items( )***\n",
    "\n",
    "❓ *Este metodo devolverá cada elemento en un diccionario, como tuplas en una lista.*"
   ]
  },
  {
   "cell_type": "code",
   "execution_count": 18,
   "metadata": {},
   "outputs": [
    {
     "name": "stdout",
     "output_type": "stream",
     "text": [
      "dict_items([('brand', 'Ford'), ('model', 'Mustang'), ('year', 1964)])\n",
      "<class 'dict_items'>\n"
     ]
    }
   ],
   "source": [
    "thisdict = {\n",
    "  \"brand\": \"Ford\",\n",
    "  \"model\": \"Mustang\",\n",
    "  \"year\": 1964\n",
    "}\n",
    "x = thisdict.items()\n",
    "print(x)\n",
    "print(type(x))"
   ]
  },
  {
   "attachments": {},
   "cell_type": "markdown",
   "metadata": {},
   "source": [
    "> ### ⚠️ ***Como saber si ya existe una key (clave)***\n",
    "\n",
    "✅ ***Podemos preguntar si un elemento en especifico esta en un conjunto con la palabra clave*** ***(in)***"
   ]
  },
  {
   "cell_type": "code",
   "execution_count": 19,
   "metadata": {},
   "outputs": [
    {
     "name": "stdout",
     "output_type": "stream",
     "text": [
      "Si existe\n"
     ]
    }
   ],
   "source": [
    "thisdict = {\n",
    "  \"brand\": \"Ford\",\n",
    "  \"model\": \"Mustang\",\n",
    "  \"year\": 1964\n",
    "}\n",
    "if \"model\" in thisdict:\n",
    "  print(\"Si existe\")\n",
    "else:\n",
    "    print(\"No existe\")"
   ]
  },
  {
   "cell_type": "code",
   "execution_count": 20,
   "metadata": {},
   "outputs": [
    {
     "name": "stdout",
     "output_type": "stream",
     "text": [
      "No existe\n"
     ]
    }
   ],
   "source": [
    "thisdict = {\n",
    "  \"brand\": \"Ford\",\n",
    "  \"model\": \"Mustang\",\n",
    "  \"year\": 1964\n",
    "}\n",
    "if \"CR7\" in thisdict:\n",
    "  print(\"Si existe\")\n",
    "else:\n",
    "    print(\"No existe\")"
   ]
  },
  {
   "attachments": {},
   "cell_type": "markdown",
   "metadata": {},
   "source": [
    "> ### ⚠️ ***Cambiar elementos de un diccionario***"
   ]
  },
  {
   "attachments": {},
   "cell_type": "markdown",
   "metadata": {},
   "source": [
    "> ✅ ***Cambiando el valor de una key en especifico***\n",
    "\n",
    "❓ ***Lo hacemos haciendo referencia a su nombre de la key: nombre_del_diccionario[\"Key\"] = nuevo_valor***"
   ]
  },
  {
   "cell_type": "code",
   "execution_count": 21,
   "metadata": {},
   "outputs": [
    {
     "name": "stdout",
     "output_type": "stream",
     "text": [
      "{'brand': 'Ford', 'model': 'Mustang', 'year': 1964}\n",
      "{'brand': 'Ford', 'model': 'Mustang', 'year': 2018}\n"
     ]
    }
   ],
   "source": [
    "thisdict = {\n",
    "  \"brand\": \"Ford\",\n",
    "  \"model\": \"Mustang\",\n",
    "  \"year\": 1964\n",
    "}\n",
    "print(thisdict) #No se a cambiado\n",
    "thisdict[\"year\"] = 2018\n",
    "print(thisdict) #Ya se cambio"
   ]
  },
  {
   "attachments": {},
   "cell_type": "markdown",
   "metadata": {},
   "source": [
    "> ✅ ***Como cambiar el valor de una key en especifico***\n",
    "\n",
    "💡 *Usamos el metodo:* ***update()***\n",
    "\n",
    "❓ ***Este metodo cambiara el valor de la key especificada***\n"
   ]
  },
  {
   "cell_type": "code",
   "execution_count": 22,
   "metadata": {},
   "outputs": [
    {
     "name": "stdout",
     "output_type": "stream",
     "text": [
      "{'brand': 'Ford', 'model': 'Mustang', 'year': 1964}\n",
      "{'brand': 'Ford', 'model': 'Mustang', 'year': 2020}\n"
     ]
    }
   ],
   "source": [
    "thisdict = {\n",
    "  \"brand\": \"Ford\",\n",
    "  \"model\": \"Mustang\",\n",
    "  \"year\": 1964\n",
    "}\n",
    "print(thisdict) #No se a cambiado\n",
    "thisdict.update({\"year\":2020})\n",
    "print(thisdict) #Ya se cambio"
   ]
  },
  {
   "attachments": {},
   "cell_type": "markdown",
   "metadata": {},
   "source": [
    "> ### ⚠️ ***Como agregar elementos a un diccionario***"
   ]
  },
  {
   "attachments": {},
   "cell_type": "markdown",
   "metadata": {},
   "source": [
    "> ✅ ***Como agregar un elemento***\n",
    "\n",
    "❓ ***Creamos una nueva key con su valor: nombre_del_diccionario[\"nueva_key\"] = valor***\n"
   ]
  },
  {
   "cell_type": "code",
   "execution_count": 24,
   "metadata": {},
   "outputs": [
    {
     "name": "stdout",
     "output_type": "stream",
     "text": [
      "{'brand': 'Ford', 'model': 'Mustang', 'year': 1964, 'color': 'red'}\n"
     ]
    }
   ],
   "source": [
    "thisdict = {\n",
    "  \"brand\": \"Ford\",\n",
    "  \"model\": \"Mustang\",\n",
    "  \"year\": 1964\n",
    "}\n",
    "thisdict[\"color\"] = \"red\"\n",
    "print(thisdict)"
   ]
  },
  {
   "attachments": {},
   "cell_type": "markdown",
   "metadata": {},
   "source": [
    "> ✅ ***Como agregar un elemento***\n",
    "\n",
    "💡 *Usamos el metodo:* ***update()***\n",
    "\n",
    "❓ ***Creamos una nueva key con su valor***\n"
   ]
  },
  {
   "cell_type": "code",
   "execution_count": 25,
   "metadata": {},
   "outputs": [
    {
     "name": "stdout",
     "output_type": "stream",
     "text": [
      "{'brand': 'Ford', 'model': 'Mustang', 'year': 1964, 'color': 'red'}\n"
     ]
    }
   ],
   "source": [
    "thisdict = {\n",
    "  \"brand\": \"Ford\",\n",
    "  \"model\": \"Mustang\",\n",
    "  \"year\": 1964\n",
    "}\n",
    "thisdict.update({\"color\": \"red\"})\n",
    "print(thisdict)"
   ]
  },
  {
   "attachments": {},
   "cell_type": "markdown",
   "metadata": {},
   "source": [
    "> ### ⚠️ ***Como eliminar elemento en un diccionario***"
   ]
  },
  {
   "attachments": {},
   "cell_type": "markdown",
   "metadata": {},
   "source": [
    "> ✅ ***Como eliminar un elemento o key***\n",
    "\n",
    "💡 *Usamos el metodo:* ***pop()***\n",
    "\n",
    "❓ ***Este metodo elimina el elemento con el nombre de clave especificado y tambien elimina su valor***\n"
   ]
  },
  {
   "cell_type": "code",
   "execution_count": 26,
   "metadata": {},
   "outputs": [
    {
     "name": "stdout",
     "output_type": "stream",
     "text": [
      "{'brand': 'Ford', 'model': 'Mustang', 'year': 1964}\n",
      "{'brand': 'Ford', 'year': 1964}\n"
     ]
    }
   ],
   "source": [
    "thisdict = {\n",
    "  \"brand\": \"Ford\",\n",
    "  \"model\": \"Mustang\",\n",
    "  \"year\": 1964\n",
    "}\n",
    "print(thisdict) #Todavia no se elimino\n",
    "thisdict.pop(\"model\")\n",
    "print(thisdict) #Ya se elimino"
   ]
  },
  {
   "attachments": {},
   "cell_type": "markdown",
   "metadata": {},
   "source": [
    "> ✅ ***Como eliminar un elemento o key***\n",
    "\n",
    "💡 *Usamos el metodo:* ***popitem()***\n",
    "\n",
    "❓ ***Este metodo elimina el último elemento insertado***\n"
   ]
  },
  {
   "cell_type": "code",
   "execution_count": 27,
   "metadata": {},
   "outputs": [
    {
     "name": "stdout",
     "output_type": "stream",
     "text": [
      "{'brand': 'Ford', 'model': 'Mustang', 'year': 1964}\n",
      "{'brand': 'Ford', 'model': 'Mustang'}\n"
     ]
    }
   ],
   "source": [
    "thisdict = {\n",
    "  \"brand\": \"Ford\",\n",
    "  \"model\": \"Mustang\",\n",
    "  \"year\": 1964\n",
    "}\n",
    "print(thisdict) #Todavia no se elimino\n",
    "thisdict.popitem()\n",
    "print(thisdict) #Ya se elimino"
   ]
  },
  {
   "attachments": {},
   "cell_type": "markdown",
   "metadata": {},
   "source": [
    "> ✅ ***Como vaciar un diccionario***\n",
    "\n",
    "💡 *Usamos el metodo:* ***clear()***\n",
    "\n",
    "❓ ***Este metodo eliminara todas key o elementos del diccionario -- Pero todavia existira el diccionario pero estara vacio***\n"
   ]
  },
  {
   "cell_type": "code",
   "execution_count": 28,
   "metadata": {},
   "outputs": [
    {
     "name": "stdout",
     "output_type": "stream",
     "text": [
      "{'brand': 'Ford', 'model': 'Mustang', 'year': 1964}\n",
      "{}\n"
     ]
    }
   ],
   "source": [
    "thisdict = {\n",
    "  \"brand\": \"Ford\",\n",
    "  \"model\": \"Mustang\",\n",
    "  \"year\": 1964\n",
    "}\n",
    "print(thisdict) #Todavia no se eliminaron todos sus elementos\n",
    "thisdict.clear()\n",
    "print(thisdict) #Ya se eliminaron todos - Quedo vacio"
   ]
  },
  {
   "attachments": {},
   "cell_type": "markdown",
   "metadata": {},
   "source": [
    "> ✅ ***Como eliminar un diccionario por completo***\n",
    "\n",
    "💡 *Usamos la palabra clave:* ***del***\n",
    "\n",
    "❓ ***Esta palabra clave eliminara por completo el diccionario -- Te dara error luego de que utilices la palabra clave porque ya no existira el diccionario***\n"
   ]
  },
  {
   "cell_type": "code",
   "execution_count": 29,
   "metadata": {},
   "outputs": [
    {
     "name": "stdout",
     "output_type": "stream",
     "text": [
      "{'brand': 'Ford', 'model': 'Mustang', 'year': 1964}\n"
     ]
    },
    {
     "ename": "NameError",
     "evalue": "name 'thisdict' is not defined",
     "output_type": "error",
     "traceback": [
      "\u001b[1;31m---------------------------------------------------------------------------\u001b[0m",
      "\u001b[1;31mNameError\u001b[0m                                 Traceback (most recent call last)",
      "Cell \u001b[1;32mIn[29], line 8\u001b[0m\n\u001b[0;32m      6\u001b[0m \u001b[39mprint\u001b[39m(thisdict)\n\u001b[0;32m      7\u001b[0m \u001b[39mdel\u001b[39;00m thisdict\n\u001b[1;32m----> 8\u001b[0m \u001b[39mprint\u001b[39m(thisdict) \u001b[39m#this will cause an error because \"thisdict\" no longer exists.\u001b[39;00m\n",
      "\u001b[1;31mNameError\u001b[0m: name 'thisdict' is not defined"
     ]
    }
   ],
   "source": [
    "thisdict = {\n",
    "  \"brand\": \"Ford\",\n",
    "  \"model\": \"Mustang\",\n",
    "  \"year\": 1964\n",
    "}\n",
    "print(thisdict) #Todavia existe el diccionario\n",
    "del thisdict\n",
    "print(thisdict) #Ya no existe "
   ]
  },
  {
   "attachments": {},
   "cell_type": "markdown",
   "metadata": {},
   "source": [
    "> ### ⚠️ ***Como copiar un diccionario***\n",
    "\n",
    "> ✅ ***Como hacer una copia de un diccionario***\n",
    "\n",
    "💡 *Usamos el metodo:* ***copy()***\n",
    "\n",
    "❓ ***Este metodo hara una copia del diccionario pero lo almacenara en una nueva variable***\n"
   ]
  },
  {
   "cell_type": "code",
   "execution_count": 30,
   "metadata": {},
   "outputs": [
    {
     "name": "stdout",
     "output_type": "stream",
     "text": [
      "{'brand': 'Ford', 'model': 'Mustang', 'year': 1964}\n",
      "{'brand': 'Ford', 'model': 'Mustang', 'year': 1964}\n"
     ]
    }
   ],
   "source": [
    "thisdict = {\n",
    "  \"brand\": \"Ford\",\n",
    "  \"model\": \"Mustang\",\n",
    "  \"year\": 1964\n",
    "}\n",
    "mydict = thisdict.copy()\n",
    "print(thisdict)\n",
    "print(mydict)"
   ]
  },
  {
   "attachments": {},
   "cell_type": "markdown",
   "metadata": {},
   "source": [
    "> ✅ ***Como hacer una copia de un diccionario***\n",
    "\n",
    "💡 *Usamos la funcion:* ***dict()***\n",
    "\n",
    "❓ ***Esta funcion hara una copia del diccionario pero lo almacenara en otra variable diferente que al diccionario original***"
   ]
  },
  {
   "cell_type": "code",
   "execution_count": null,
   "metadata": {},
   "outputs": [],
   "source": [
    "thisdict = {\n",
    "  \"brand\": \"Ford\",\n",
    "  \"model\": \"Mustang\",\n",
    "  \"year\": 1964\n",
    "}\n",
    "mydict = dict(thisdict)\n",
    "print(thisdict)\n",
    "print(mydict)"
   ]
  },
  {
   "attachments": {},
   "cell_type": "markdown",
   "metadata": {},
   "source": [
    "[Lista de metodos de un diccionario](https://www.w3schools.com/python/python_dictionaries_methods.asp)"
   ]
  }
 ],
 "metadata": {
  "kernelspec": {
   "display_name": "Python 3",
   "language": "python",
   "name": "python3"
  },
  "language_info": {
   "codemirror_mode": {
    "name": "ipython",
    "version": 3
   },
   "file_extension": ".py",
   "mimetype": "text/x-python",
   "name": "python",
   "nbconvert_exporter": "python",
   "pygments_lexer": "ipython3",
   "version": "3.11.2"
  },
  "orig_nbformat": 4,
  "vscode": {
   "interpreter": {
    "hash": "7f7d0a7d2c388a63f360d96753a7e968c16eb21fbb4f37b5a755ce4cb5105011"
   }
  }
 },
 "nbformat": 4,
 "nbformat_minor": 2
}
