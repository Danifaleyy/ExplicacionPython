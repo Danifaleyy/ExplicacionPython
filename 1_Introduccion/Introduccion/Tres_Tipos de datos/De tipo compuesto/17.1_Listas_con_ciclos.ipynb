{
 "cells": [
  {
   "attachments": {},
   "cell_type": "markdown",
   "metadata": {},
   "source": [
    "# ***Listas usando ciclos***\n",
    "\n",
    "> ### ⚠️ ***Con: for***\n",
    "\n",
    "💡 *Se utiliza el ciclo for para recorrer 1 por 1 los elementos de una lista*"
   ]
  },
  {
   "cell_type": "code",
   "execution_count": 1,
   "metadata": {},
   "outputs": [
    {
     "name": "stdout",
     "output_type": "stream",
     "text": [
      "apple\n",
      "banana\n",
      "cherry\n"
     ]
    }
   ],
   "source": [
    "thislist = [\"apple\", \"banana\", \"cherry\"]\n",
    "for x in thislist:\n",
    "  print(x)"
   ]
  },
  {
   "attachments": {},
   "cell_type": "markdown",
   "metadata": {},
   "source": [
    "> ### ⚠️ ***Ciclo (for) a través de los números de índice***\n",
    "\n",
    "💡 *También podemos recorrer los elementos de la lista consultando su número de índice.*\n",
    "\n",
    "💡 *Utilice las funciones range()y len() para crear un iterable que los recorra.*"
   ]
  },
  {
   "cell_type": "code",
   "execution_count": 3,
   "metadata": {},
   "outputs": [
    {
     "name": "stdout",
     "output_type": "stream",
     "text": [
      "apple\n",
      "banana\n",
      "cherry\n"
     ]
    }
   ],
   "source": [
    "#Imprima todos los elementos haciendo referencia a su número de índice:\n",
    "#El iterable creado en el ejemplo anterior es [0, 1, 2].\n",
    "thislist = [\"apple\", \"banana\", \"cherry\"]\n",
    "for i in range(len(thislist)):\n",
    "  print(thislist[i])"
   ]
  },
  {
   "attachments": {},
   "cell_type": "markdown",
   "metadata": {},
   "source": [
    "> ### ⚠️ ***Con: while***\n",
    "\n",
    "💡 *Podemos recorrer los elementos de una lista mediante este ciclo.*\n",
    "\n",
    "💡 *Usamos la funcion len() para saber la cantidad de elementos que tiene la lista, luego comience en 0 y recorra los elementos de la lista consultando sus índices.*\n",
    "\n",
    "💡 *Recuerde aumentar el índice en 1 después de cada iteración.*"
   ]
  },
  {
   "cell_type": "code",
   "execution_count": 4,
   "metadata": {},
   "outputs": [
    {
     "name": "stdout",
     "output_type": "stream",
     "text": [
      "apple\n",
      "banana\n",
      "cherry\n"
     ]
    }
   ],
   "source": [
    "#Imprima todos los artículos, usando un while para pasar por todos los números de índice\n",
    "thislist = [\"apple\", \"banana\", \"cherry\"]\n",
    "i = 0\n",
    "while i < len(thislist):\n",
    "  print(thislist[i])\n",
    "  i = i + 1"
   ]
  }
 ],
 "metadata": {
  "kernelspec": {
   "display_name": "Python 3",
   "language": "python",
   "name": "python3"
  },
  "language_info": {
   "codemirror_mode": {
    "name": "ipython",
    "version": 3
   },
   "file_extension": ".py",
   "mimetype": "text/x-python",
   "name": "python",
   "nbconvert_exporter": "python",
   "pygments_lexer": "ipython3",
   "version": "3.11.2"
  },
  "orig_nbformat": 4
 },
 "nbformat": 4,
 "nbformat_minor": 2
}
