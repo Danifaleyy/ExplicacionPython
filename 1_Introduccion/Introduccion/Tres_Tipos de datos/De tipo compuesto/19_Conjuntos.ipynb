{
 "cells": [
  {
   "attachments": {},
   "cell_type": "markdown",
   "metadata": {},
   "source": [
    "# ***Conjuntos { } --- Set***"
   ]
  },
  {
   "cell_type": "markdown",
   "metadata": {},
   "source": [
    "💡 ***¿Que son los datos compuestos?*** *Dentro de los datos tienen otros datos de diferentes tipos. Los datos compuestos es una mezcla de datos simples y compuestos*"
   ]
  },
  {
   "attachments": {},
   "cell_type": "markdown",
   "metadata": {},
   "source": [
    "💡 ***¿Que es un conjunto?*** *Se utilizan para almacenar varios elementos o valores en una sola variable.*"
   ]
  },
  {
   "attachments": {},
   "cell_type": "markdown",
   "metadata": {},
   "source": [
    "***🏣 Estructura de un conjunto:*** *set = {elemento,elemento,elemento}*"
   ]
  },
  {
   "attachments": {},
   "cell_type": "markdown",
   "metadata": {},
   "source": [
    "❓ ***¿Cual es la diferencia entre una lista y un conjunto?*** *Un conjunto una colección desordenada , inmutable * y no indexada, mientras que una lista tiene un orden y es mutable*"
   ]
  },
  {
   "attachments": {},
   "cell_type": "markdown",
   "metadata": {},
   "source": [
    "> ### ⚠️ ***Como crear un conjunto***"
   ]
  },
  {
   "attachments": {},
   "cell_type": "markdown",
   "metadata": {},
   "source": [
    "> 💥 ***Creando un conjunto con el constructor: set()***"
   ]
  },
  {
   "cell_type": "code",
   "execution_count": 5,
   "metadata": {},
   "outputs": [
    {
     "name": "stdout",
     "output_type": "stream",
     "text": [
      "{'apple', 'cherry', 'banana'}\n"
     ]
    }
   ],
   "source": [
    "thisset = set((\"apple\", \"banana\", \"cherry\")) # note the double round-brackets\n",
    "print(thisset)"
   ]
  },
  {
   "attachments": {},
   "cell_type": "markdown",
   "metadata": {},
   "source": [
    ">  💥***Creando un conjunto sin el constructor: set()***"
   ]
  },
  {
   "cell_type": "code",
   "execution_count": 2,
   "metadata": {},
   "outputs": [
    {
     "name": "stdout",
     "output_type": "stream",
     "text": [
      "{'apple', 'cherry', 'banana'}\n",
      "<class 'set'>\n"
     ]
    }
   ],
   "source": [
    "thisset = {\"apple\", \"banana\", \"cherry\"}\n",
    "print(thisset)\n",
    "print(type(thisset))"
   ]
  },
  {
   "attachments": {},
   "cell_type": "markdown",
   "metadata": {},
   "source": [
    "> 💥 ***Como crear un conjunto con un elemento***"
   ]
  },
  {
   "cell_type": "markdown",
   "metadata": {},
   "source": [
    "❓ *Debes agregar una coma después del elemento, de lo contrario, Python no lo reconocerá como una tupla y lo reconocera como una cadeta de texto.*"
   ]
  },
  {
   "attachments": {},
   "cell_type": "markdown",
   "metadata": {},
   "source": [
    "✅ ***Con la funcion set()***"
   ]
  },
  {
   "cell_type": "code",
   "execution_count": 10,
   "metadata": {},
   "outputs": [
    {
     "name": "stdout",
     "output_type": "stream",
     "text": [
      "{'apple'}\n",
      "<class 'set'>\n"
     ]
    }
   ],
   "source": [
    "thisset = set((\"apple\",)) # note the double round-brackets\n",
    "print(thisset)\n",
    "print(type(thisset))"
   ]
  },
  {
   "attachments": {},
   "cell_type": "markdown",
   "metadata": {},
   "source": [
    "✅ ***Sin la funcion set()***"
   ]
  },
  {
   "cell_type": "code",
   "execution_count": 8,
   "metadata": {},
   "outputs": [
    {
     "name": "stdout",
     "output_type": "stream",
     "text": [
      "{'apple'}\n",
      "<class 'set'>\n"
     ]
    }
   ],
   "source": [
    "thisset = {\"apple\",}\n",
    "print(thisset)\n",
    "print(type(thisset))"
   ]
  },
  {
   "cell_type": "markdown",
   "metadata": {},
   "source": [
    "> ### ⚠️ ***Como acceder a los elementos de una tupla.***"
   ]
  },
  {
   "attachments": {},
   "cell_type": "markdown",
   "metadata": {},
   "source": [
    "❌ ***En un conjunto no se puede acceder a un elemento por su posición u índice como en la lista o tupla, porque un conjunto no tiene un orden, esta desordenado***\n",
    "\n",
    "❌ ***Como en un conjunto los elementos no tienen un orden en especifico: Los elementos establecidos pueden aparecer en un orden diferente cada vez que los usa y no se puede hacer referencia a ellos por índice o clave.***\n",
    "\n",
    "> ✅ ***Por medio de ciclos como accedemos a los elementos de un conjunto***"
   ]
  },
  {
   "cell_type": "code",
   "execution_count": 11,
   "metadata": {},
   "outputs": [
    {
     "name": "stdout",
     "output_type": "stream",
     "text": [
      "apple\n",
      "cherry\n",
      "banana\n"
     ]
    }
   ],
   "source": [
    "thisset = {\"apple\", \"banana\", \"cherry\"}\n",
    "\n",
    "for x in thisset:\n",
    "  print(x)"
   ]
  },
  {
   "attachments": {},
   "cell_type": "markdown",
   "metadata": {},
   "source": [
    "> ✅ ***Podemos preguntar si un elemento en especifico esta en un conjunto con la palabra clave*** ***(in)***"
   ]
  },
  {
   "cell_type": "code",
   "execution_count": 12,
   "metadata": {},
   "outputs": [
    {
     "name": "stdout",
     "output_type": "stream",
     "text": [
      "True\n"
     ]
    }
   ],
   "source": [
    "thisset = {\"apple\", \"banana\", \"cherry\"}\n",
    "\n",
    "print(\"banana\" in thisset)"
   ]
  },
  {
   "attachments": {},
   "cell_type": "markdown",
   "metadata": {},
   "source": [
    "> ### ⚠️ ***Como agregar elementos a un conjunto***"
   ]
  },
  {
   "attachments": {},
   "cell_type": "markdown",
   "metadata": {},
   "source": [
    "💡 ***Una vez que se crea un conjunto, no puede cambiar sus elementos, pero puede eliminar elementos y agregar elementos nuevos.***"
   ]
  },
  {
   "attachments": {},
   "cell_type": "markdown",
   "metadata": {},
   "source": [
    "> 💥 ***Como agregar un elemento a un conjunto*** \n",
    "\n",
    "💡 *Usamos el metodo:* ***add()***"
   ]
  },
  {
   "cell_type": "code",
   "execution_count": 17,
   "metadata": {},
   "outputs": [
    {
     "name": "stdout",
     "output_type": "stream",
     "text": [
      "{'apple', 'cherry', 'banana'}\n",
      "{'apple', 'orange', 'cherry', 'banana'}\n"
     ]
    }
   ],
   "source": [
    "thisset = {\"apple\", \"banana\", \"cherry\"} #Conjunto original\n",
    "print(thisset) #Todavia no se ha agregado el elemento\n",
    "thisset.add(\"orange\") #Usamos el metodo para agregar un nuevo elemento\n",
    "print(thisset) #Ya se agrego el nuevo elemento"
   ]
  },
  {
   "attachments": {},
   "cell_type": "markdown",
   "metadata": {},
   "source": [
    "> 💥 ***Como agregar los elementos de un conjunto al conjunto actual***\n",
    "\n",
    "💡 *Usamos el metodo:* ***update()***"
   ]
  },
  {
   "cell_type": "code",
   "execution_count": 18,
   "metadata": {},
   "outputs": [
    {
     "name": "stdout",
     "output_type": "stream",
     "text": [
      "{'mango', 'pineapple', 'papaya', 'apple', 'cherry', 'banana'}\n"
     ]
    }
   ],
   "source": [
    "#Añadir elementos de tropical en thisset\n",
    "thisset = {\"apple\", \"banana\", \"cherry\"}\n",
    "tropical = {\"pineapple\", \"mango\", \"papaya\"}\n",
    "thisset.update(tropical) #Usamos el metodo para agregar los elementos del conjunto (tropical) en el conjunto (thisset)\n",
    "print(thisset)"
   ]
  },
  {
   "attachments": {},
   "cell_type": "markdown",
   "metadata": {},
   "source": [
    "> 💥 ***Como agregar cualquier iterable (Lista, tupla, diccionarios, etc.) a un conjunto***\n",
    "\n",
    "💡 *Usamos el metodo:* ***update()***\n",
    "\n",
    "❓ *Sirve para agregar los elementos de cualquier iterable al conjunto actual*"
   ]
  },
  {
   "cell_type": "code",
   "execution_count": 20,
   "metadata": {},
   "outputs": [
    {
     "name": "stdout",
     "output_type": "stream",
     "text": [
      "{'kiwi', 'cherry', 'banana', 'orange', 'apple'}\n"
     ]
    }
   ],
   "source": [
    "#Agregar los elementos de una lista a un conjunto:\n",
    "\n",
    "thisset = {\"apple\", \"banana\", \"cherry\"}\n",
    "mylist = [\"kiwi\", \"orange\"]\n",
    "thisset.update(mylist) #Usamos el metodo para agregar los elementos de la lista (mylist) al conjunto (thisset)\n",
    "print(thisset)"
   ]
  },
  {
   "cell_type": "code",
   "execution_count": 22,
   "metadata": {},
   "outputs": [
    {
     "name": "stdout",
     "output_type": "stream",
     "text": [
      "{'kiwi', 'cherry', 'banana', 'orange', 'apple'}\n"
     ]
    }
   ],
   "source": [
    "#Agregar los elementos de una tupla a un conjunto:\n",
    "\n",
    "thisset = {\"apple\", \"banana\", \"cherry\"}\n",
    "mytuple= (\"kiwi\", \"orange\")\n",
    "thisset.update(mytuple) #Usamos el metodo para agregar los elementos de la tupla (mytuple) al conjunto (thisset)\n",
    "print(thisset)"
   ]
  },
  {
   "attachments": {},
   "cell_type": "markdown",
   "metadata": {},
   "source": [
    "> ### ⚠️ ***Cambiar elementos***"
   ]
  },
  {
   "attachments": {},
   "cell_type": "markdown",
   "metadata": {},
   "source": [
    "❌ ***Una vez que se crea un conjunto, no puede cambiar sus elementos, pero puede agregar nuevos elementos o eliminarlos.***"
   ]
  },
  {
   "attachments": {},
   "cell_type": "markdown",
   "metadata": {},
   "source": [
    "> ### ⚠️ ***Como eliminar elemento en un conjunto***"
   ]
  },
  {
   "cell_type": "markdown",
   "metadata": {},
   "source": [
    "❌ ***Una vez que se crea un conjunto, no puede cambiar sus elementos, pero puede agregar nuevos elementos o eliminarlos.***"
   ]
  },
  {
   "attachments": {},
   "cell_type": "markdown",
   "metadata": {},
   "source": [
    "> 💥 ***Para eliminar un elemento de un conjunto***\n",
    "\n",
    "💡 *Usamos el método:* ***remove( )***\n",
    "\n",
    "❌ ***Nota:*** *Si el elemento a eliminar no existe, remove() generará un error.*"
   ]
  },
  {
   "cell_type": "code",
   "execution_count": 23,
   "metadata": {},
   "outputs": [
    {
     "name": "stdout",
     "output_type": "stream",
     "text": [
      "{'apple', 'cherry', 'banana'}\n",
      "{'apple', 'cherry'}\n"
     ]
    }
   ],
   "source": [
    "thisset = {\"apple\", \"banana\", \"cherry\"}\n",
    "print(thisset) #Todavia no se ha eliminado\n",
    "thisset.remove(\"banana\") #Usando el metodo\n",
    "print(thisset) #Ya se elimino"
   ]
  },
  {
   "cell_type": "code",
   "execution_count": 1,
   "metadata": {},
   "outputs": [
    {
     "name": "stdout",
     "output_type": "stream",
     "text": [
      "{'apple', 'cherry', 'banana'}\n"
     ]
    },
    {
     "ename": "KeyError",
     "evalue": "'DANIEL'",
     "output_type": "error",
     "traceback": [
      "\u001b[1;31m---------------------------------------------------------------------------\u001b[0m",
      "\u001b[1;31mKeyError\u001b[0m                                  Traceback (most recent call last)",
      "Cell \u001b[1;32mIn[1], line 3\u001b[0m\n\u001b[0;32m      1\u001b[0m thisset \u001b[39m=\u001b[39m {\u001b[39m\"\u001b[39m\u001b[39mapple\u001b[39m\u001b[39m\"\u001b[39m, \u001b[39m\"\u001b[39m\u001b[39mbanana\u001b[39m\u001b[39m\"\u001b[39m, \u001b[39m\"\u001b[39m\u001b[39mcherry\u001b[39m\u001b[39m\"\u001b[39m}\n\u001b[0;32m      2\u001b[0m \u001b[39mprint\u001b[39m(thisset) \u001b[39m#Todavia no se ha eliminado\u001b[39;00m\n\u001b[1;32m----> 3\u001b[0m thisset\u001b[39m.\u001b[39;49mremove(\u001b[39m\"\u001b[39;49m\u001b[39mDANIEL\u001b[39;49m\u001b[39m\"\u001b[39;49m) \u001b[39m#Usando el metodo\u001b[39;00m\n\u001b[0;32m      4\u001b[0m \u001b[39mprint\u001b[39m(thisset) \u001b[39m#Ya se elimino\u001b[39;00m\n",
      "\u001b[1;31mKeyError\u001b[0m: 'DANIEL'"
     ]
    }
   ],
   "source": [
    "thisset = {\"apple\", \"banana\", \"cherry\"}\n",
    "print(thisset) #Todavia no se ha eliminado\n",
    "thisset.remove(\"DANIEL\") #Usando el metodo\n",
    "print(thisset)"
   ]
  },
  {
   "attachments": {},
   "cell_type": "markdown",
   "metadata": {},
   "source": [
    "> 💥 ***Para eliminar un elemento de un conjunto***\n",
    "\n",
    "💡 *Usamos el método:* ***discard()***\n",
    "\n",
    "❌ ***Nota:*** *Si el elemento a eliminar no existe, discard() generará un error.*"
   ]
  },
  {
   "cell_type": "code",
   "execution_count": 2,
   "metadata": {},
   "outputs": [
    {
     "name": "stdout",
     "output_type": "stream",
     "text": [
      "{'cherry', 'banana', 'apple'}\n",
      "{'cherry', 'apple'}\n"
     ]
    }
   ],
   "source": [
    "thisset = {\"apple\", \"banana\", \"cherry\"}\n",
    "print(thisset) #Todavia no se ha eliminado\n",
    "thisset.discard(\"banana\") #Usando el metodo\n",
    "print(thisset) #Ya se elimino"
   ]
  },
  {
   "attachments": {},
   "cell_type": "markdown",
   "metadata": {},
   "source": [
    "> 💥 ***Para eliminar un elemento de un conjunto: De froma aleatoria***\n",
    "\n",
    "💡 *Usamos el método:* ***pop()***\n",
    "\n",
    "✅ ***Nota:*** *El valor de retorno del metodo pop() es el elemento eliminado.*\n",
    "\n",
    "❌ ***Nota:*** *Como los conjuntos no tienen un orden, al usar el metodo pop() sera un elemento aleatorio el que se eliminara.*"
   ]
  },
  {
   "cell_type": "code",
   "execution_count": 29,
   "metadata": {},
   "outputs": [
    {
     "name": "stdout",
     "output_type": "stream",
     "text": [
      "apple\n",
      "{'cherry', 'banana'}\n"
     ]
    }
   ],
   "source": [
    "thisset = {\"apple\", \"banana\", \"cherry\"}\n",
    "x = thisset.pop()\n",
    "print(x)\n",
    "print(thisset)"
   ]
  },
  {
   "attachments": {},
   "cell_type": "markdown",
   "metadata": {},
   "source": [
    "> 💥 ***Para eliminar todos los elementos de un conjunto y dejar al conjunto vacio***\n",
    "\n",
    "💡 *Usamos el método:* ***clear()***"
   ]
  },
  {
   "cell_type": "code",
   "execution_count": 4,
   "metadata": {},
   "outputs": [
    {
     "name": "stdout",
     "output_type": "stream",
     "text": [
      "{'apple', 'banana', 'cherry'}\n",
      "set()\n"
     ]
    }
   ],
   "source": [
    "thisset = {\"apple\", \"banana\", \"cherry\"}\n",
    "print(thisset) #Lista completa\n",
    "thisset.clear() #Usando el metodo\n",
    "print(thisset) #Lista vacia"
   ]
  },
  {
   "attachments": {},
   "cell_type": "markdown",
   "metadata": {},
   "source": [
    "> 💥 ***Para eliminar por completo un conjunto -- Ya no existira por eso te saldra ERROR***\n",
    "\n",
    "💡 *Usamos la palabra clave:* ***del***"
   ]
  },
  {
   "cell_type": "code",
   "execution_count": 5,
   "metadata": {},
   "outputs": [
    {
     "name": "stdout",
     "output_type": "stream",
     "text": [
      "{'apple', 'banana', 'cherry'}\n"
     ]
    },
    {
     "ename": "NameError",
     "evalue": "name 'thisset' is not defined",
     "output_type": "error",
     "traceback": [
      "\u001b[1;31m---------------------------------------------------------------------------\u001b[0m",
      "\u001b[1;31mNameError\u001b[0m                                 Traceback (most recent call last)",
      "Cell \u001b[1;32mIn[5], line 4\u001b[0m\n\u001b[0;32m      2\u001b[0m \u001b[39mprint\u001b[39m(thisset) \u001b[39m#Aqui si existe\u001b[39;00m\n\u001b[0;32m      3\u001b[0m \u001b[39mdel\u001b[39;00m thisset\n\u001b[1;32m----> 4\u001b[0m \u001b[39mprint\u001b[39m(thisset) \u001b[39m#Aqui ya se elimino por completo -- Ya no existe por eso te marca ERROR\u001b[39;00m\n",
      "\u001b[1;31mNameError\u001b[0m: name 'thisset' is not defined"
     ]
    }
   ],
   "source": [
    "thisset = {\"apple\", \"banana\", \"cherry\"}\n",
    "print(thisset) #Aqui si existe\n",
    "del thisset\n",
    "print(thisset) #Aqui ya se elimino por completo -- Ya no existe por eso te marca ERROR"
   ]
  },
  {
   "attachments": {},
   "cell_type": "markdown",
   "metadata": {},
   "source": [
    "> ### ⚠️ ***Como unir conjuntos***"
   ]
  },
  {
   "attachments": {},
   "cell_type": "markdown",
   "metadata": {},
   "source": [
    "> 💥 ***Como unir 2 conjuntos***\n",
    "\n",
    "💡 *Usamos el metodo:* ***union()***\n",
    "\n",
    "❓ *Este metodo devuleve un nuevo conjunto que contiene los elementos de los 2 conjuntos*\n",
    "\n",
    "❌ ***Nota:*** *Este metodo excluira cualquier elemento duplicado* "
   ]
  },
  {
   "cell_type": "code",
   "execution_count": 8,
   "metadata": {},
   "outputs": [
    {
     "name": "stdout",
     "output_type": "stream",
     "text": [
      "{1, 'a', 2, 3, 'b', 'c'}\n"
     ]
    }
   ],
   "source": [
    "set1 = {\"a\", \"b\" , \"c\"}\n",
    "set2 = {1, 2, 3}\n",
    "set3 = set1.union(set2) #Creamos una nueva variable de tipo conjunto que almacenara la union de los lementos de los 2 conjuntos\n",
    "print(set3)"
   ]
  },
  {
   "attachments": {},
   "cell_type": "markdown",
   "metadata": {},
   "source": [
    "> 💥 ***Como unir 2 conjuntos***\n",
    "\n",
    "💡 *Usamos el metodo:* ***update()***\n",
    "\n",
    "❓ *Este metodo inserta los elementos de un conjunto en el otro conjunto*\n",
    "\n",
    "❌ ***Nota:*** *Este metodo excluira cualquier elemento duplicado* "
   ]
  },
  {
   "cell_type": "code",
   "execution_count": 3,
   "metadata": {},
   "outputs": [
    {
     "name": "stdout",
     "output_type": "stream",
     "text": [
      "{1, 2, 'c', 3, 'a', 'b'}\n"
     ]
    }
   ],
   "source": [
    "set1 = {\"a\", \"b\" , \"c\"}\n",
    "set2 = {1, 2, 3}\n",
    "set1.update(set2) #Aqui el los elementos del conjunto (set2) se uniran al conjunto (set1)\n",
    "print(set1)"
   ]
  },
  {
   "attachments": {},
   "cell_type": "markdown",
   "metadata": {},
   "source": [
    "> ### ⚠️ ***Como aguardar solamente elementos duplicados***\n",
    "\n",
    "💡 *Usamos el metodo:* ***.intersection_update( )***\n",
    "\n",
    "❓ *Aguardara los elementos en comun o qu eestan en los 2 conjuntos*"
   ]
  },
  {
   "cell_type": "code",
   "execution_count": 11,
   "metadata": {},
   "outputs": [
    {
     "name": "stdout",
     "output_type": "stream",
     "text": [
      "{'apple'}\n"
     ]
    }
   ],
   "source": [
    "#Aguardara los elementos en comun o qu eestan en los 2 conjuntos: (x) y (y)\n",
    "x = {\"apple\", \"banana\", \"cherry\"}\n",
    "y = {\"google\", \"microsoft\", \"apple\"}\n",
    "x.intersection_update(y) #Usando el metodo\n",
    "print(x) #Aguardo en la variable (x) el elemento en comun"
   ]
  },
  {
   "attachments": {},
   "cell_type": "markdown",
   "metadata": {},
   "source": [
    "💡 *Usamos el metodo:* ***.intersection( )***\n",
    "\n",
    "❓ *Este metodo Aguardara los elementos en comun o que estan en los 2 conjuntos en un nuevo conjunto*"
   ]
  },
  {
   "cell_type": "code",
   "execution_count": 13,
   "metadata": {},
   "outputs": [
    {
     "name": "stdout",
     "output_type": "stream",
     "text": [
      "{'apple'}\n"
     ]
    }
   ],
   "source": [
    "#Devuelve un conjunto que contiene los elementos que existen tanto en conjunto (x) como en conjunto (y):\n",
    "x = {\"apple\", \"banana\", \"cherry\"}\n",
    "y = {\"google\", \"microsoft\", \"apple\"}\n",
    "z = x.intersection(y) #Se le asigna a una nueva variable el elemento en comun entre los 2 conjuntos\n",
    "print(z)"
   ]
  },
  {
   "attachments": {},
   "cell_type": "markdown",
   "metadata": {},
   "source": [
    "> ### ⚠️ ***Como aguardar solamente elementos NO duplicados, sin elementos duplicados***\n",
    "\n",
    "💡 *Usamos el metodo:* ***.symmetric_difference_update( )***\n",
    "\n",
    "❓ *Aguardara los elementos que NO están presentes en ambos conjuntos o que no tienen en comun.*"
   ]
  },
  {
   "cell_type": "code",
   "execution_count": 7,
   "metadata": {},
   "outputs": [
    {
     "name": "stdout",
     "output_type": "stream",
     "text": [
      "{'microsoft', 'google', 'cherry', 'banana'}\n"
     ]
    }
   ],
   "source": [
    "#Quédese con los elementos que no están presentes en ambos conjuntos:\n",
    "x = {\"apple\", \"banana\", \"cherry\"}\n",
    "y = {\"google\", \"microsoft\", \"apple\"}\n",
    "x.symmetric_difference_update(y) #Usamos el metodo\n",
    "print(x)"
   ]
  },
  {
   "attachments": {},
   "cell_type": "markdown",
   "metadata": {},
   "source": [
    "💡 *Usamos el metodo:* ***.symmetric_difference( )**\n",
    "\n",
    "❓ *Aguardara en un nuevo conjunto los elementos que NO estan presentes en ambos conjuntos o que no tienen en comun*"
   ]
  },
  {
   "cell_type": "code",
   "execution_count": 14,
   "metadata": {},
   "outputs": [
    {
     "name": "stdout",
     "output_type": "stream",
     "text": [
      "{'google', 'cherry', 'microsoft', 'banana'}\n"
     ]
    }
   ],
   "source": [
    "#Devuelve un conjunto que contiene todos los elementos de ambos conjuntos, excepto los elementos que están presentes en ambos:\n",
    "x = {\"apple\", \"banana\", \"cherry\"}\n",
    "y = {\"google\", \"microsoft\", \"apple\"}\n",
    "z = x.symmetric_difference(y) #Se le asigno a una nueva variable los elementos que no tienen en comun los 2 conjuntos\n",
    "print(z)"
   ]
  },
  {
   "attachments": {},
   "cell_type": "markdown",
   "metadata": {},
   "source": [
    "> ### ⚠️ ***No permite elementos duplicados***\n",
    "\n",
    "❌ *Si en un conjunto hay un elemento duplicado, Python solamente toma que existe un elemento, aunque haya mas y solo lo imprime 1 vez*"
   ]
  },
  {
   "cell_type": "code",
   "execution_count": 16,
   "metadata": {},
   "outputs": [
    {
     "name": "stdout",
     "output_type": "stream",
     "text": [
      "{'google', 'cherry', 'microsoft', 'banana'}\n"
     ]
    }
   ],
   "source": [
    "#Quédese con los elementos que no están presentes en ambos conjuntos:\n",
    "#Solo imprimio 1 vez el elemento duplicado \"apple\"\n",
    "x = {\"apple\", \"banana\", \"cherry\"}\n",
    "y = {\"google\", \"microsoft\", \"apple\"}\n",
    "x.symmetric_difference_update(y)\n",
    "print(x)"
   ]
  },
  {
   "cell_type": "code",
   "execution_count": 17,
   "metadata": {},
   "outputs": [
    {
     "name": "stdout",
     "output_type": "stream",
     "text": [
      "{'cherry', 'banana', 'apple'}\n"
     ]
    }
   ],
   "source": [
    "#Solo imprimio 1 vez el elemento duplicado \"apple\"\n",
    "thisset = {\"apple\", \"banana\", \"cherry\", \"apple\"}\n",
    "print(thisset)"
   ]
  },
  {
   "attachments": {},
   "cell_type": "markdown",
   "metadata": {},
   "source": [
    "✅ ***Nota:*** *Los valores True y 1 se consideran el mismo valor en conjuntos y se tratan como duplicados*"
   ]
  },
  {
   "cell_type": "code",
   "execution_count": 18,
   "metadata": {},
   "outputs": [
    {
     "name": "stdout",
     "output_type": "stream",
     "text": [
      "{True, 2, 'banana', 'cherry', 'apple'}\n"
     ]
    }
   ],
   "source": [
    "thisset = {\"apple\", \"banana\", \"cherry\", True, 1, 2}\n",
    "print(thisset)"
   ]
  },
  {
   "attachments": {},
   "cell_type": "markdown",
   "metadata": {},
   "source": [
    "> ### ⚠️ ***Obtener la longitud de un conjunto***\n",
    "\n",
    "💡 *Usamos la funcion:* ***len()***\n",
    "\n",
    "❓ ***La longitud de un conjunto es la cantidad de elementos que tiene un conjunto***"
   ]
  },
  {
   "cell_type": "code",
   "execution_count": 21,
   "metadata": {},
   "outputs": [
    {
     "name": "stdout",
     "output_type": "stream",
     "text": [
      "{'cherry', 'banana', 'apple'}\n",
      "3\n"
     ]
    }
   ],
   "source": [
    "thisset = {\"apple\", \"banana\", \"cherry\"}\n",
    "print(thisset)\n",
    "print(len(thisset))"
   ]
  },
  {
   "attachments": {},
   "cell_type": "markdown",
   "metadata": {},
   "source": [
    "❌ ***Nota:*** *Cuando hay un elmeento duplicado lo toma como si fuera solamente 1 elemento ese elemento duplicado, los demas no existen.*"
   ]
  },
  {
   "cell_type": "code",
   "execution_count": 23,
   "metadata": {},
   "outputs": [
    {
     "name": "stdout",
     "output_type": "stream",
     "text": [
      "{'cherry', 'banana', 'apple'}\n",
      "3\n"
     ]
    }
   ],
   "source": [
    "#Elemtno duplicado \"apple\"\n",
    "thisset = {\"apple\", \"banana\", \"cherry\", \"apple\"}\n",
    "print(thisset)\n",
    "print(len(thisset))"
   ]
  },
  {
   "attachments": {},
   "cell_type": "markdown",
   "metadata": {},
   "source": [
    "[Lista de metodos](https://www.w3schools.com/python/python_sets_methods.asp)"
   ]
  }
 ],
 "metadata": {
  "kernelspec": {
   "display_name": "Python 3",
   "language": "python",
   "name": "python3"
  },
  "language_info": {
   "codemirror_mode": {
    "name": "ipython",
    "version": 3
   },
   "file_extension": ".py",
   "mimetype": "text/x-python",
   "name": "python",
   "nbconvert_exporter": "python",
   "pygments_lexer": "ipython3",
   "version": "3.11.2"
  },
  "orig_nbformat": 4,
  "vscode": {
   "interpreter": {
    "hash": "7f7d0a7d2c388a63f360d96753a7e968c16eb21fbb4f37b5a755ce4cb5105011"
   }
  }
 },
 "nbformat": 4,
 "nbformat_minor": 2
}
