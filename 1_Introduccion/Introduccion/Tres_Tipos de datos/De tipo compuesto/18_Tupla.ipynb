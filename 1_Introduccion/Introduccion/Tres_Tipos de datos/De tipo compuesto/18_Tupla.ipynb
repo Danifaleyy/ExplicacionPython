{
 "cells": [
  {
   "attachments": {},
   "cell_type": "markdown",
   "metadata": {},
   "source": [
    "# ***Tuplas ( ) ---- Tuple***"
   ]
  },
  {
   "attachments": {},
   "cell_type": "markdown",
   "metadata": {},
   "source": [
    "💡 ***¿Que son los datos compuestos?*** *Dentro de los datos tienen otros datos de diferentes tipos. Los datos compuestos es una mezcla de datos simples y compuestos*"
   ]
  },
  {
   "attachments": {},
   "cell_type": "markdown",
   "metadata": {},
   "source": [
    "💡 ***¿Que es una tupla?*** *Se utilizan para almacenar varios elementos o valores en una sola variable.*"
   ]
  },
  {
   "attachments": {},
   "cell_type": "markdown",
   "metadata": {},
   "source": [
    "***🏣 Estructura de una tupla:*** *tuple = (elemento,elemento,elemento)*"
   ]
  },
  {
   "attachments": {},
   "cell_type": "markdown",
   "metadata": {},
   "source": [
    "❓ ***¿Cual es la diferencia entre una lista y tupla?*** *Que en la lista si puedes modificar los elementos y en la tupla no, la tupla es inmutable y la lista es mutable*"
   ]
  },
  {
   "attachments": {},
   "cell_type": "markdown",
   "metadata": {},
   "source": [
    "> ### ⚠️ ***Como crear una tupla***"
   ]
  },
  {
   "attachments": {},
   "cell_type": "markdown",
   "metadata": {},
   "source": [
    "> 💥 ***Creando una tupla con el constructor: tuple()***"
   ]
  },
  {
   "cell_type": "code",
   "execution_count": 15,
   "metadata": {},
   "outputs": [
    {
     "name": "stdout",
     "output_type": "stream",
     "text": [
      "('apple', 'banana', 'cherry')\n"
     ]
    }
   ],
   "source": [
    "thistuple = tuple((\"apple\", \"banana\", \"cherry\")) # note the double round-brackets\n",
    "print(thistuple)"
   ]
  },
  {
   "attachments": {},
   "cell_type": "markdown",
   "metadata": {},
   "source": [
    ">  💥***Creando una tupla sin el constructor: tuple()***"
   ]
  },
  {
   "cell_type": "code",
   "execution_count": 14,
   "metadata": {},
   "outputs": [
    {
     "name": "stdout",
     "output_type": "stream",
     "text": [
      "('Hola', 8, 'C', 1.5, True)\n",
      "<class 'tuple'>\n"
     ]
    }
   ],
   "source": [
    "tupla = (\"Hola\",8,\"C\", 1.5,True)\n",
    "print(tupla)\n",
    "print(type(tupla))"
   ]
  },
  {
   "attachments": {},
   "cell_type": "markdown",
   "metadata": {},
   "source": [
    "> 💥 ***Como crear tupla con un elemento***"
   ]
  },
  {
   "attachments": {},
   "cell_type": "markdown",
   "metadata": {},
   "source": [
    "❓ *Debes agregar una coma después del elemento, de lo contrario, Python no lo reconocerá como una tupla y lo reconocera como una cadeta de texto.*"
   ]
  },
  {
   "cell_type": "code",
   "execution_count": 11,
   "metadata": {},
   "outputs": [
    {
     "name": "stdout",
     "output_type": "stream",
     "text": [
      "<class 'tuple'>\n",
      "<class 'str'>\n"
     ]
    }
   ],
   "source": [
    "thistuple = (\"apple\",)\n",
    "print(type(thistuple))\n",
    "\n",
    "#NOT a tuple\n",
    "thistuple = (\"apple\")\n",
    "print(type(thistuple))"
   ]
  },
  {
   "cell_type": "code",
   "execution_count": 1,
   "metadata": {},
   "outputs": [
    {
     "name": "stdout",
     "output_type": "stream",
     "text": [
      "('apple',)\n",
      "<class 'tuple'>\n"
     ]
    }
   ],
   "source": [
    "thistuple = tuple((\"apple\",)) # note the double round-brackets\n",
    "print(thistuple)\n",
    "print(type(thistuple))"
   ]
  },
  {
   "attachments": {},
   "cell_type": "markdown",
   "metadata": {},
   "source": [
    "> ### ⚠️ ***Como acceder a los elementos de una tupla.***"
   ]
  },
  {
   "attachments": {},
   "cell_type": "markdown",
   "metadata": {},
   "source": [
    "> ⚠️ ***Se pueden acceder a los elementos mediante la posición (Numero de la posición) del elemento deseado.***"
   ]
  },
  {
   "attachments": {},
   "cell_type": "markdown",
   "metadata": {},
   "source": [
    "💥 *Los elementos SI tienen un orden: Es por posicion o indice, cada elemento tiene una posicion, inicia desde el 0*\n",
    "\n",
    "💥 *Significa que los elementos tienen un orden definido y ese orden no cambiará -- Si agrega nuevos elementos a una lista, los nuevos elementos se colocarán al final de la lista.*\n",
    "\n",
    "❓ ***Puedes acceder al elemento consultando el número de índice, entre corchetes[ ]***"
   ]
  },
  {
   "cell_type": "code",
   "execution_count": 6,
   "metadata": {},
   "outputs": [
    {
     "name": "stdout",
     "output_type": "stream",
     "text": [
      "('Hola', 8, 'C', 1.5, True)\n",
      "<class 'tuple'>\n",
      "Accediendo al elemento de la posicion seleccionada:  8\n"
     ]
    }
   ],
   "source": [
    "tupla = (\"Hola\",8,\"C\", 1.5,True)\n",
    "print(tupla)\n",
    "print(type(tupla))\n",
    "print(\"Accediendo al elemento de la posicion seleccionada: \", tupla[1])"
   ]
  },
  {
   "attachments": {},
   "cell_type": "markdown",
   "metadata": {},
   "source": [
    "💥 ***Ultima posicion: -1 se refiere al último elemento, -2 se refiere al penúltimo elemento, etc.***"
   ]
  },
  {
   "cell_type": "code",
   "execution_count": 16,
   "metadata": {},
   "outputs": [
    {
     "name": "stdout",
     "output_type": "stream",
     "text": [
      "('Hola', 8, 'C', 1.5, True)\n",
      "<class 'tuple'>\n",
      "Accediendo al elemento de la posicion seleccionada:  True\n"
     ]
    }
   ],
   "source": [
    "tupla = (\"Hola\",8,\"C\", 1.5,True)\n",
    "print(tupla)\n",
    "print(type(tupla))\n",
    "print(\"Accediendo al elemento de la posicion seleccionada: \", tupla[-1])"
   ]
  },
  {
   "attachments": {},
   "cell_type": "markdown",
   "metadata": {},
   "source": [
    "> ### ⚠️ ***Como especificar un rango de indices***\n",
    "\n",
    "💡 *Al especificar un rango, el valor devuelto será una nueva tupla con los elementos especificados.*\n",
    "\n",
    "💥 *El rango incluye el valor donde comienza pero no incluye co el que termina.*"
   ]
  },
  {
   "cell_type": "code",
   "execution_count": 19,
   "metadata": {},
   "outputs": [
    {
     "name": "stdout",
     "output_type": "stream",
     "text": [
      "('cherry', 'orange', 'kiwi')\n",
      "<class 'tuple'>\n"
     ]
    }
   ],
   "source": [
    "thistuple = (\"apple\", \"banana\", \"cherry\", \"orange\", \"kiwi\", \"melon\", \"mango\")\n",
    "print(thistuple[2:5])\n",
    "print(type(thistuple))"
   ]
  },
  {
   "attachments": {},
   "cell_type": "markdown",
   "metadata": {},
   "source": [
    "💥 *Al omitir el valor inicial, el rango comenzará en el primer elemento*"
   ]
  },
  {
   "cell_type": "code",
   "execution_count": 20,
   "metadata": {},
   "outputs": [
    {
     "name": "stdout",
     "output_type": "stream",
     "text": [
      "('apple', 'banana', 'cherry', 'orange')\n"
     ]
    }
   ],
   "source": [
    "thistuple = (\"apple\", \"banana\", \"cherry\", \"orange\", \"kiwi\", \"melon\", \"mango\")\n",
    "print(thistuple[:4])"
   ]
  },
  {
   "attachments": {},
   "cell_type": "markdown",
   "metadata": {},
   "source": [
    "💥 *Al omitir el valor final, el rango pasará al final de la lista*"
   ]
  },
  {
   "cell_type": "code",
   "execution_count": 21,
   "metadata": {},
   "outputs": [
    {
     "name": "stdout",
     "output_type": "stream",
     "text": [
      "('cherry', 'orange', 'kiwi', 'melon', 'mango')\n"
     ]
    }
   ],
   "source": [
    "thistuple = (\"apple\", \"banana\", \"cherry\", \"orange\", \"kiwi\", \"melon\", \"mango\")\n",
    "print(thistuple[2:])"
   ]
  },
  {
   "attachments": {},
   "cell_type": "markdown",
   "metadata": {},
   "source": [
    "> ### ⚠️ ***No se puede modificar o cambiar el valor de solamente 1 elemento----ERROR.***"
   ]
  },
  {
   "attachments": {},
   "cell_type": "markdown",
   "metadata": {},
   "source": [
    "💥 ***El orden de los elementos de una tupla no cambia es inmutable***"
   ]
  },
  {
   "attachments": {},
   "cell_type": "markdown",
   "metadata": {},
   "source": [
    "⚠️ ***Las tuplas no se pueden cambiar, lo que significa que no podemos cambiar, agregar o eliminar elementos después de que se haya creado la tupla.***"
   ]
  },
  {
   "cell_type": "code",
   "execution_count": 1,
   "metadata": {},
   "outputs": [
    {
     "ename": "NameError",
     "evalue": "name 'tupla' is not defined",
     "output_type": "error",
     "traceback": [
      "\u001b[1;31m---------------------------------------------------------------------------\u001b[0m",
      "\u001b[1;31mNameError\u001b[0m                                 Traceback (most recent call last)",
      "Cell \u001b[1;32mIn[1], line 3\u001b[0m\n\u001b[0;32m      1\u001b[0m \u001b[39m#Intentamos cambiar el elemento \"Hola\" por el elemento \"Adios\" --- Error\u001b[39;00m\n\u001b[0;32m      2\u001b[0m thistuple \u001b[39m=\u001b[39m (\u001b[39m\"\u001b[39m\u001b[39mapple\u001b[39m\u001b[39m\"\u001b[39m, \u001b[39m\"\u001b[39m\u001b[39mbanana\u001b[39m\u001b[39m\"\u001b[39m, \u001b[39m\"\u001b[39m\u001b[39mcherry\u001b[39m\u001b[39m\"\u001b[39m, \u001b[39m\"\u001b[39m\u001b[39morange\u001b[39m\u001b[39m\"\u001b[39m, \u001b[39m\"\u001b[39m\u001b[39mkiwi\u001b[39m\u001b[39m\"\u001b[39m, \u001b[39m\"\u001b[39m\u001b[39mmelon\u001b[39m\u001b[39m\"\u001b[39m, \u001b[39m\"\u001b[39m\u001b[39mmango\u001b[39m\u001b[39m\"\u001b[39m)\n\u001b[1;32m----> 3\u001b[0m tupla[\u001b[39m0\u001b[39m] \u001b[39m=\u001b[39m \u001b[39m\"\u001b[39m\u001b[39mAdios\u001b[39m\u001b[39m\"\u001b[39m\n\u001b[0;32m      4\u001b[0m \u001b[39mprint\u001b[39m(tupla)\n",
      "\u001b[1;31mNameError\u001b[0m: name 'tupla' is not defined"
     ]
    }
   ],
   "source": [
    "#Intentamos cambiar el elemento \"Hola\" por el elemento \"Adios\" --- Error\n",
    "thistuple = (\"apple\", \"banana\", \"cherry\", \"orange\", \"kiwi\", \"melon\", \"mango\")\n",
    "tupla[0] = \"Adios\"\n",
    "print(tupla)"
   ]
  },
  {
   "attachments": {},
   "cell_type": "markdown",
   "metadata": {},
   "source": [
    "> ### ⚠️ ***En una tupla no se puede modificar a solamente 1 elemento pero si se puede reconstruir toda la tupla (Todos los elementos deben de ser nuevos)***"
   ]
  },
  {
   "attachments": {},
   "cell_type": "markdown",
   "metadata": {},
   "source": [
    "❓ *Renconstruir una tupla me refiero a que la variable va a seguir existiendo pero con nuevos elementos sin cambiar accediendo a un elemento solamanete*"
   ]
  },
  {
   "cell_type": "code",
   "execution_count": 2,
   "metadata": {},
   "outputs": [
    {
     "name": "stdout",
     "output_type": "stream",
     "text": [
      "('Hola', 8, 'C', 1.5, True)\n",
      "(10, 2.3, False)\n"
     ]
    }
   ],
   "source": [
    "tupla = (\"Hola\",8,\"C\", 1.5,True)\n",
    "print(tupla)\n",
    "tupla = (10,2.3,False)\n",
    "print(tupla)"
   ]
  },
  {
   "cell_type": "markdown",
   "metadata": {},
   "source": [
    "> ### ⚠️ ***Si puede haber elementos duplicados u iguales***"
   ]
  },
  {
   "cell_type": "code",
   "execution_count": 9,
   "metadata": {},
   "outputs": [
    {
     "name": "stdout",
     "output_type": "stream",
     "text": [
      "('Hola', 8, 'C', 1.5, True, 'Hola')\n",
      "<class 'tuple'>\n"
     ]
    }
   ],
   "source": [
    "tupla = (\"Hola\",8,\"C\", 1.5,True,\"Hola\")\n",
    "print(tupla)\n",
    "print(type(tupla))"
   ]
  },
  {
   "attachments": {},
   "cell_type": "markdown",
   "metadata": {},
   "source": [
    "> ### ⚠️ ***Longitud de una tupla***"
   ]
  },
  {
   "attachments": {},
   "cell_type": "markdown",
   "metadata": {},
   "source": [
    "💡 *Usamos la funcion:* ***len()***\n",
    "\n",
    "❓ *Sirve para saber la cantidad de elementos que tiene una lista*"
   ]
  },
  {
   "cell_type": "code",
   "execution_count": 10,
   "metadata": {},
   "outputs": [
    {
     "name": "stdout",
     "output_type": "stream",
     "text": [
      "('Hola', 8, 'C', 1.5, True, 'Hola')\n",
      "6\n"
     ]
    }
   ],
   "source": [
    "tupla = (\"Hola\",8,\"C\", 1.5,True,\"Hola\")\n",
    "print(tupla)\n",
    "print(len(tupla))"
   ]
  },
  {
   "attachments": {},
   "cell_type": "markdown",
   "metadata": {},
   "source": [
    "> ### ⚠️ ***Como comprobar si un elemento existe dentro de una tupla***"
   ]
  },
  {
   "cell_type": "markdown",
   "metadata": {},
   "source": [
    "💡 *Se utiliza el operador* ***(in)***"
   ]
  },
  {
   "cell_type": "code",
   "execution_count": 23,
   "metadata": {},
   "outputs": [
    {
     "name": "stdout",
     "output_type": "stream",
     "text": [
      "Si esta\n"
     ]
    }
   ],
   "source": [
    "thistuple = (\"apple\", \"banana\", \"cherry\")\n",
    "if \"apple\" in thistuple:\n",
    "  print(\"Si esta\")\n",
    "else:\n",
    "    print(\"No esta\")"
   ]
  },
  {
   "cell_type": "code",
   "execution_count": 24,
   "metadata": {},
   "outputs": [
    {
     "name": "stdout",
     "output_type": "stream",
     "text": [
      "No esta\n"
     ]
    }
   ],
   "source": [
    "thistuple = (\"apple\", \"banana\", \"cherry\")\n",
    "if \"orange\" in thistuple:\n",
    "  print(\"Si esta\")\n",
    "else:\n",
    "    print(\"No esta\")"
   ]
  },
  {
   "attachments": {},
   "cell_type": "markdown",
   "metadata": {},
   "source": [
    "> ### ⚠️ ***Actualizar tuplas***"
   ]
  },
  {
   "attachments": {},
   "cell_type": "markdown",
   "metadata": {},
   "source": [
    "> 💥 ***Una vez que se crea una tupla, no puede cambiar sus valores. Las tuplas son inmutables pero hay soluciones.***\n",
    "\n",
    "💡 *1 - Puede convertir la tupla en una lista, cambiar la lista y volver a convertir la lista en una tupla.*"
   ]
  },
  {
   "cell_type": "code",
   "execution_count": 3,
   "metadata": {},
   "outputs": [
    {
     "name": "stdout",
     "output_type": "stream",
     "text": [
      "('apple', 'banana', 'cherry')\n",
      "('apple', 'kiwi', 'cherry')\n"
     ]
    }
   ],
   "source": [
    "x = (\"apple\", \"banana\", \"cherry\")\n",
    "print(x)\n",
    "y = list(x) #Convirtinedo la tupla a lista con la funcion: list()\n",
    "y[1] = \"kiwi\"\n",
    "x = tuple(y) #Conviritiendo la lista a tupla ya con el nuevo elementos\n",
    "\n",
    "print(x)"
   ]
  },
  {
   "attachments": {},
   "cell_type": "markdown",
   "metadata": {},
   "source": [
    "> 💥 ***Como agregar elementos a una tupla***"
   ]
  },
  {
   "attachments": {},
   "cell_type": "markdown",
   "metadata": {},
   "source": [
    "❓ ***Dado que las tuplas son inmutables, no tienen un método incorporado append(), pero hay otras formas de agregar elementos a una tupla.***\n",
    "\n",
    "💡 ***1- Convertir la tupla en una lista:*** *Al igual que la solución alternativa para cambiar una tupla, puede convertirla en una lista, agregar sus elementos y volver a convertirla en una tupla.*"
   ]
  },
  {
   "cell_type": "code",
   "execution_count": 32,
   "metadata": {},
   "outputs": [
    {
     "name": "stdout",
     "output_type": "stream",
     "text": [
      "('apple', 'banana', 'cherry')\n",
      "('apple', 'banana', 'cherry', 'orange')\n"
     ]
    }
   ],
   "source": [
    "thistuple = (\"apple\", \"banana\", \"cherry\")\n",
    "print(thistuple)\n",
    "y = list(thistuple) #Convirtiendo la tupla a lista con la funcion: list()\n",
    "y.append(\"orange\") #Usando el metodo: .append() sirve para agregar un elemento al final de la lista\n",
    "thistuple = tuple(y) #Conviritiendo la lista a tupla ya con el nuevo elementos\n",
    "print(thistuple)"
   ]
  },
  {
   "attachments": {},
   "cell_type": "markdown",
   "metadata": {},
   "source": [
    "💡 ***2 - Agregue una tupla a una tupla:*** *Puede agregar tuplas a tuplas, por lo que si desea agregar un elemento (o muchos), cree una nueva tupla con los elementos y agréguela a la tupla existente.*\n",
    "\n",
    "✅ *Sumando las tuplas con el operador de suma (+)*"
   ]
  },
  {
   "cell_type": "code",
   "execution_count": 34,
   "metadata": {},
   "outputs": [
    {
     "name": "stdout",
     "output_type": "stream",
     "text": [
      "('apple', 'banana', 'cherry')\n",
      "('apple', 'banana', 'cherry', 'orange')\n"
     ]
    }
   ],
   "source": [
    "thistuple = (\"apple\", \"banana\", \"cherry\")\n",
    "print(thistuple)\n",
    "y = (\"orange\",)\n",
    "thistuple = thistuple + y #Aqui creamos una tupla dentro de otra\n",
    "print(thistuple)"
   ]
  },
  {
   "attachments": {},
   "cell_type": "markdown",
   "metadata": {},
   "source": [
    "> 💥 ***Eliminar elementos***"
   ]
  },
  {
   "attachments": {},
   "cell_type": "markdown",
   "metadata": {},
   "source": [
    "❓ ***Las tuplas no se pueden modificar , por lo que no puede eliminar elementos, pero puede usar la misma solución alternativa que usamos para cambiar y agregar elementos de tupla***\n",
    "\n",
    "💡 ***1 - Eliminando un elemento: Primero convertimos la tupla en lista y luego eliminamos el elemento y luego convertimos la lista a tupla***"
   ]
  },
  {
   "cell_type": "code",
   "execution_count": 35,
   "metadata": {},
   "outputs": [
    {
     "name": "stdout",
     "output_type": "stream",
     "text": [
      "('apple', 'banana', 'cherry')\n",
      "('banana', 'cherry')\n"
     ]
    }
   ],
   "source": [
    "thistuple = (\"apple\", \"banana\", \"cherry\")\n",
    "print(thistuple)\n",
    "y = list(thistuple) #Convirtiendo la tupla a lista\n",
    "y.remove(\"apple\") #Eliminando el elemento \"apple\"\n",
    "thistuple = tuple(y) #Convirtiendo la lista a tupla, ya con el elemento eliminado\n",
    "print(thistuple)"
   ]
  },
  {
   "attachments": {},
   "cell_type": "markdown",
   "metadata": {},
   "source": [
    "💡 ***2 -Eliminar la tupla por completo***"
   ]
  },
  {
   "cell_type": "code",
   "execution_count": 38,
   "metadata": {},
   "outputs": [
    {
     "name": "stdout",
     "output_type": "stream",
     "text": [
      "('apple', 'banana', 'cherry')\n"
     ]
    },
    {
     "ename": "NameError",
     "evalue": "name 'thistuple' is not defined",
     "output_type": "error",
     "traceback": [
      "\u001b[1;31m---------------------------------------------------------------------------\u001b[0m",
      "\u001b[1;31mNameError\u001b[0m                                 Traceback (most recent call last)",
      "Cell \u001b[1;32mIn[38], line 4\u001b[0m\n\u001b[0;32m      2\u001b[0m \u001b[39mprint\u001b[39m(thistuple) \u001b[39m#Aqui si existe\u001b[39;00m\n\u001b[0;32m      3\u001b[0m \u001b[39mdel\u001b[39;00m thistuple\n\u001b[1;32m----> 4\u001b[0m \u001b[39mprint\u001b[39m(thistuple) \u001b[39m#Aqui ya no existe, se eilimno por completo\u001b[39;00m\n",
      "\u001b[1;31mNameError\u001b[0m: name 'thistuple' is not defined"
     ]
    }
   ],
   "source": [
    "thistuple = (\"apple\", \"banana\", \"cherry\")\n",
    "print(thistuple) #Aqui si existe\n",
    "del thistuple\n",
    "print(thistuple) #Aqui ya no existe, se eilimno por completo"
   ]
  },
  {
   "attachments": {},
   "cell_type": "markdown",
   "metadata": {},
   "source": [
    "> ### ⚠️ ***Unir tuplas***"
   ]
  },
  {
   "attachments": {},
   "cell_type": "markdown",
   "metadata": {},
   "source": [
    "> 💥 ***Como unir 2 tuplas***\n",
    "\n",
    "💡 *Usamos el operador* ***(+)***\n",
    "\n",
    "❓ *Las sumamos*"
   ]
  },
  {
   "cell_type": "code",
   "execution_count": 46,
   "metadata": {},
   "outputs": [
    {
     "name": "stdout",
     "output_type": "stream",
     "text": [
      "('a', 'b', 'c', 1, 2, 3)\n"
     ]
    }
   ],
   "source": [
    "tuple1 = (\"a\", \"b\" , \"c\")\n",
    "tuple2 = (1, 2, 3)\n",
    "\n",
    "tuple3 = tuple1 + tuple2\n",
    "print(tuple3)"
   ]
  },
  {
   "attachments": {},
   "cell_type": "markdown",
   "metadata": {},
   "source": [
    "> 💥 ***Como multiplicar tuplas***\n",
    "\n",
    "💡 *Usamos el operador* (*)"
   ]
  },
  {
   "cell_type": "code",
   "execution_count": 47,
   "metadata": {},
   "outputs": [
    {
     "name": "stdout",
     "output_type": "stream",
     "text": [
      "('apple', 'banana', 'cherry', 'apple', 'banana', 'cherry')\n"
     ]
    }
   ],
   "source": [
    "fruits = (\"apple\", \"banana\", \"cherry\")\n",
    "mytuple = fruits * 2\n",
    "\n",
    "print(mytuple)"
   ]
  },
  {
   "attachments": {},
   "cell_type": "markdown",
   "metadata": {},
   "source": [
    "> ### ⚠️ ***Desempaquetar tuplas***"
   ]
  },
  {
   "attachments": {},
   "cell_type": "markdown",
   "metadata": {},
   "source": [
    "> 💥 ***Empaquetar***\n",
    "\n",
    "❓ *Cuando creamos una tupla, normalmente le asignamos valores. Esto se llama \"empaquetar\" una tupla*"
   ]
  },
  {
   "cell_type": "code",
   "execution_count": 48,
   "metadata": {},
   "outputs": [
    {
     "name": "stdout",
     "output_type": "stream",
     "text": [
      "('apple', 'banana', 'cherry')\n"
     ]
    }
   ],
   "source": [
    "fruits = (\"apple\", \"banana\", \"cherry\")\n",
    "print(fruits)"
   ]
  },
  {
   "attachments": {},
   "cell_type": "markdown",
   "metadata": {},
   "source": [
    "> 💥 ***Desempaquetar***\n",
    "\n",
    "❓ En Python, también podemos volver a extraer los valores en variables. Esto se llama \"desempacar\""
   ]
  },
  {
   "cell_type": "code",
   "execution_count": 43,
   "metadata": {},
   "outputs": [
    {
     "name": "stdout",
     "output_type": "stream",
     "text": [
      "apple\n",
      "banana\n",
      "cherry\n"
     ]
    }
   ],
   "source": [
    "fruits = (\"apple\", \"banana\", \"cherry\")\n",
    "#Son las variables que se le asignara cada elemento\n",
    "(green, yellow, red) = fruits\n",
    "#A cada variable se le asignara un valor al que corresponde la posicion del indice\n",
    "print(green)\n",
    "print(yellow)\n",
    "print(red)"
   ]
  },
  {
   "attachments": {},
   "cell_type": "markdown",
   "metadata": {},
   "source": [
    "✅ ***Nota:*** *El número de variables debe coincidir con el número de valores en la tupla, de lo contrario, debe usar un asterisco para recopilar los valores restantes como una lista.*"
   ]
  },
  {
   "attachments": {},
   "cell_type": "markdown",
   "metadata": {},
   "source": [
    "💥 ***Usando un asterisco***\n",
    "\n",
    "❓ *Si el número de variables es menor que el número de valores, puede agregar un al nombre de la variable y los valores se asignarán a la variable como una lista*"
   ]
  },
  {
   "cell_type": "code",
   "execution_count": 44,
   "metadata": {},
   "outputs": [
    {
     "name": "stdout",
     "output_type": "stream",
     "text": [
      "apple\n",
      "banana\n",
      "['cherry', 'strawberry', 'raspberry']\n"
     ]
    }
   ],
   "source": [
    "#Asigne el resto de los valores como una lista llamada \"red\":\n",
    "\n",
    "fruits = (\"apple\", \"banana\", \"cherry\", \"strawberry\", \"raspberry\")\n",
    "#Son las variables que se le asignara cada elemento\n",
    "(green, yellow, *red) = fruits\n",
    "\n",
    "print(green)\n",
    "print(yellow)\n",
    "print(red)"
   ]
  },
  {
   "attachments": {},
   "cell_type": "markdown",
   "metadata": {},
   "source": [
    "❓ *Si el asterisco se agrega a otro nombre de variable que no sea el último, Python asignará valores a la variable hasta que la cantidad de valores restantes coincida con la cantidad de variables restantes.*"
   ]
  },
  {
   "cell_type": "code",
   "execution_count": 45,
   "metadata": {},
   "outputs": [
    {
     "name": "stdout",
     "output_type": "stream",
     "text": [
      "apple\n",
      "['mango', 'papaya', 'pineapple']\n",
      "cherry\n"
     ]
    }
   ],
   "source": [
    "fruits = (\"apple\", \"mango\", \"papaya\", \"pineapple\", \"cherry\")\n",
    "\n",
    "(green, *tropic, red) = fruits\n",
    "\n",
    "print(green)\n",
    "print(tropic)\n",
    "print(red)"
   ]
  },
  {
   "attachments": {},
   "cell_type": "markdown",
   "metadata": {},
   "source": [
    "[Lista de metodos que se pueden utilizar con las tuplas](https://www.w3schools.com/python/python_tuples_methods.asp)"
   ]
  }
 ],
 "metadata": {
  "kernelspec": {
   "display_name": "Python 3",
   "language": "python",
   "name": "python3"
  },
  "language_info": {
   "codemirror_mode": {
    "name": "ipython",
    "version": 3
   },
   "file_extension": ".py",
   "mimetype": "text/x-python",
   "name": "python",
   "nbconvert_exporter": "python",
   "pygments_lexer": "ipython3",
   "version": "3.11.2"
  },
  "orig_nbformat": 4,
  "vscode": {
   "interpreter": {
    "hash": "7f7d0a7d2c388a63f360d96753a7e968c16eb21fbb4f37b5a755ce4cb5105011"
   }
  }
 },
 "nbformat": 4,
 "nbformat_minor": 2
}
