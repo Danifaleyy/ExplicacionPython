{
 "cells": [
  {
   "attachments": {},
   "cell_type": "markdown",
   "metadata": {},
   "source": [
    "# ***Tipo de dato String***\n",
    "\n",
    "> ### ⚙ ***Asignar una cadena texto a una variable***"
   ]
  },
  {
   "cell_type": "code",
   "execution_count": 3,
   "metadata": {},
   "outputs": [
    {
     "name": "stdout",
     "output_type": "stream",
     "text": [
      "Hello\n"
     ]
    }
   ],
   "source": [
    "a = \"Hello\"\n",
    "print(a)"
   ]
  },
  {
   "attachments": {},
   "cell_type": "markdown",
   "metadata": {},
   "source": [
    "> ### ⚙ ***Cadenas de texto multilínea***"
   ]
  },
  {
   "attachments": {},
   "cell_type": "markdown",
   "metadata": {},
   "source": [
    "⚠️ *Se usa la triple comilla, en el resultado, los saltos de línea se insertan en la misma posición que en el código.*"
   ]
  },
  {
   "cell_type": "code",
   "execution_count": 4,
   "metadata": {},
   "outputs": [
    {
     "name": "stdout",
     "output_type": "stream",
     "text": [
      "Lorem ipsum dolor sit amet,\n",
      "consectetur adipiscing elit,\n",
      "sed do eiusmod tempor incididunt\n",
      "ut labore et dolore magna aliqua.\n"
     ]
    }
   ],
   "source": [
    "a = \"\"\"Lorem ipsum dolor sit amet,\n",
    "consectetur adipiscing elit,\n",
    "sed do eiusmod tempor incididunt\n",
    "ut labore et dolore magna aliqua.\"\"\"\n",
    "print(a)"
   ]
  },
  {
   "attachments": {},
   "cell_type": "markdown",
   "metadata": {},
   "source": [
    "> ### ⚙ ***Las cadenas son matrices***"
   ]
  },
  {
   "attachments": {},
   "cell_type": "markdown",
   "metadata": {},
   "source": [
    "💡 *Las cadenas en Python son matrices de bytes que representan caracteres Unicode: Sin embargo, Python no tiene un tipo de datos de caracteres, un solo carácter es simplemente una cadena con una longitud de 1.*\n",
    "\n",
    "⚠️ *Se pueden usar corchetes para acceder a elementos de la cadena.*\n",
    "\n",
    "⚠️ *Se inicia el conteo desde la posicion 0 en adelante*"
   ]
  },
  {
   "cell_type": "code",
   "execution_count": 8,
   "metadata": {},
   "outputs": [
    {
     "name": "stdout",
     "output_type": "stream",
     "text": [
      "a\n"
     ]
    }
   ],
   "source": [
    "x = \"Daniel\"\n",
    "print(x[1])"
   ]
  },
  {
   "attachments": {},
   "cell_type": "markdown",
   "metadata": {},
   "source": [
    "> ### ⚙ ***Longitud de una cadena de texto***"
   ]
  },
  {
   "attachments": {},
   "cell_type": "markdown",
   "metadata": {},
   "source": [
    "⚠️ *Usamos la funcion:* ***len()***"
   ]
  },
  {
   "attachments": {},
   "cell_type": "markdown",
   "metadata": {},
   "source": [
    "💡 *La función devuelve la cantidad de caracteres de una cadena de texto*"
   ]
  },
  {
   "cell_type": "code",
   "execution_count": 10,
   "metadata": {},
   "outputs": [
    {
     "name": "stdout",
     "output_type": "stream",
     "text": [
      "13\n"
     ]
    }
   ],
   "source": [
    "a = \"Hello, World!\" #El espacio tambien cuenta como un caracter\n",
    "print(len(a))"
   ]
  },
  {
   "attachments": {},
   "cell_type": "markdown",
   "metadata": {},
   "source": [
    "> ### ⚙ ***Como comprabar si una palabra o cadena de texto o caracter esta dentro de una cadeta de texto***"
   ]
  },
  {
   "attachments": {},
   "cell_type": "markdown",
   "metadata": {},
   "source": [
    "> ####  ⚠️ ***Usamos la palabra clave (in)***\n",
    "\n",
    "✅ *Si el valor se encuentra te regresara el valor booleano True*\n",
    "\n",
    "❌ *Si el valor no se encuentra te regresara el valor booleano False*"
   ]
  },
  {
   "cell_type": "code",
   "execution_count": 24,
   "metadata": {},
   "outputs": [
    {
     "name": "stdout",
     "output_type": "stream",
     "text": [
      "True\n"
     ]
    }
   ],
   "source": [
    "saludo = \"Hola guapa, como estas\"\n",
    "print(\"H\" in saludo)"
   ]
  },
  {
   "cell_type": "code",
   "execution_count": 14,
   "metadata": {},
   "outputs": [
    {
     "name": "stdout",
     "output_type": "stream",
     "text": [
      "False\n"
     ]
    }
   ],
   "source": [
    "saludo = \"Hola guapa, como estas\"\n",
    "print(\"Holas\" in saludo)"
   ]
  },
  {
   "cell_type": "code",
   "execution_count": 27,
   "metadata": {},
   "outputs": [
    {
     "name": "stdout",
     "output_type": "stream",
     "text": [
      "False\n"
     ]
    }
   ],
   "source": [
    "saludo = \"Hola guapa, como estas\"\n",
    "print(\"h\" in saludo)"
   ]
  },
  {
   "attachments": {},
   "cell_type": "markdown",
   "metadata": {},
   "source": [
    "⚠️ ***En un condicional if***"
   ]
  },
  {
   "cell_type": "code",
   "execution_count": 37,
   "metadata": {},
   "outputs": [
    {
     "name": "stdout",
     "output_type": "stream",
     "text": [
      "La palabra guapa SI esta en la cadena de texto (saludo)\n"
     ]
    }
   ],
   "source": [
    "saludo = \"Hola guapa, como estas\"\n",
    "if(\"guapa\" in saludo):\n",
    "    print(\"La palabra guapa SI esta en la cadena de texto (saludo)\")\n",
    "else:\n",
    "    print(\"La palabra guapa NO esta en la cadena de texto (saludo)\")"
   ]
  },
  {
   "cell_type": "code",
   "execution_count": 36,
   "metadata": {},
   "outputs": [
    {
     "name": "stdout",
     "output_type": "stream",
     "text": [
      "La palabra guapa NO esta en la cadena de texto (saludo)\n"
     ]
    }
   ],
   "source": [
    "saludo = \"Hola, como estas\"\n",
    "if(\"guapa\" in saludo):\n",
    "    print(\"La palabra guapa SI esta en la cadena de texto (saludo)\")\n",
    "else:\n",
    "    print(\"La palabra guapa NO esta en la cadena de texto (saludo)\")"
   ]
  },
  {
   "attachments": {},
   "cell_type": "markdown",
   "metadata": {},
   "source": [
    "> ### ⚙ ***Como comprabar si una palabra o cadena de texto o caracter NO esta dentro de una cadeta de texto***"
   ]
  },
  {
   "attachments": {},
   "cell_type": "markdown",
   "metadata": {},
   "source": [
    "> ####  ⚠️ ***Usamos la palabra clave (not in)***\n",
    "\n",
    "✅ *Si el valor NO se encuentra te regresara el valor booleano True*\n",
    "\n",
    "❌ *Si  el valor  SI se encuentra te regresara el valor booleano False*"
   ]
  },
  {
   "cell_type": "code",
   "execution_count": 25,
   "metadata": {},
   "outputs": [
    {
     "name": "stdout",
     "output_type": "stream",
     "text": [
      "False\n"
     ]
    }
   ],
   "source": [
    "saludo = \"Hola guapa, como estas\"\n",
    "print(\"H\" not in saludo)"
   ]
  },
  {
   "cell_type": "code",
   "execution_count": 26,
   "metadata": {},
   "outputs": [
    {
     "name": "stdout",
     "output_type": "stream",
     "text": [
      "True\n"
     ]
    }
   ],
   "source": [
    "saludo = \"Hola guapa, como estas\"\n",
    "print(\"Holas\" not in saludo)"
   ]
  },
  {
   "cell_type": "code",
   "execution_count": 29,
   "metadata": {},
   "outputs": [
    {
     "name": "stdout",
     "output_type": "stream",
     "text": [
      "True\n"
     ]
    }
   ],
   "source": [
    "saludo = \"Hola guapa, como estas\"\n",
    "print(\"h\" not in saludo)"
   ]
  },
  {
   "attachments": {},
   "cell_type": "markdown",
   "metadata": {},
   "source": [
    "⚠️ ***En un condicional if***"
   ]
  },
  {
   "cell_type": "code",
   "execution_count": 33,
   "metadata": {},
   "outputs": [
    {
     "name": "stdout",
     "output_type": "stream",
     "text": [
      "La palabra guapa SI esta en la cadena de texto (saludo)\n"
     ]
    }
   ],
   "source": [
    "saludo = \"Hola guapa, como estas\"\n",
    "if(\"guapa\" not in saludo):\n",
    "    print(\"La palabra guapa NO esta en la cadena de texto (saludo)\")\n",
    "else:\n",
    "    print(\"La palabra guapa SI esta en la cadena de texto (saludo)\")"
   ]
  },
  {
   "cell_type": "code",
   "execution_count": 34,
   "metadata": {},
   "outputs": [
    {
     "name": "stdout",
     "output_type": "stream",
     "text": [
      "La palabra guapa NO esta en la cadena de texto (saludo)\n"
     ]
    }
   ],
   "source": [
    "saludo = \"Hola, como estas\"\n",
    "if(\"guapa\" not in saludo):\n",
    "    print(\"La palabra guapa NO esta en la cadena de texto (saludo)\")\n",
    "else:\n",
    "    print(\"La palabra guapa SI esta en la cadena de texto (saludo)\")"
   ]
  },
  {
   "attachments": {},
   "cell_type": "markdown",
   "metadata": {},
   "source": [
    "> ### ⚙ ***Slicing string***\n",
    "\n",
    "💡 ***¿Que es slicing?*** *Es la operación por medio de la cual se extraen elementos de una secuencia, tal como una lista o una cadena de caracteres.*\n",
    "\n",
    "💡 ***Formula:*** *print(variable[índice inicial : índice final])*\n",
    "\n",
    "💡 *La posicion inica desde el 0*"
   ]
  },
  {
   "cell_type": "code",
   "execution_count": 1,
   "metadata": {},
   "outputs": [
    {
     "name": "stdout",
     "output_type": "stream",
     "text": [
      "co\n"
     ]
    }
   ],
   "source": [
    "b = \"Hola, como estas?\"\n",
    "x = (b[6:8])\n",
    "print(x)"
   ]
  },
  {
   "attachments": {},
   "cell_type": "markdown",
   "metadata": {},
   "source": [
    "> ⚠️ ***Cortar desde el principio***\n",
    "\n",
    "❓ *Al omitir el índice de inicio, el rango comenzará en el primer carácter (0):*"
   ]
  },
  {
   "cell_type": "code",
   "execution_count": 4,
   "metadata": {},
   "outputs": [
    {
     "name": "stdout",
     "output_type": "stream",
     "text": [
      "Hola\n"
     ]
    }
   ],
   "source": [
    "b = \"Hola, como estas?\"\n",
    "x = (b[:4]) #(b[0:4])\n",
    "print(x)"
   ]
  },
  {
   "attachments": {},
   "cell_type": "markdown",
   "metadata": {},
   "source": [
    "> ⚠️ ***Cortar hasta el final***\n",
    "\n",
    "❓ *Al omitir el índice final , el rango irá hasta el final:*"
   ]
  },
  {
   "cell_type": "code",
   "execution_count": 5,
   "metadata": {},
   "outputs": [
    {
     "name": "stdout",
     "output_type": "stream",
     "text": [
      "como estas?\n"
     ]
    }
   ],
   "source": [
    "b = \"Hola, como estas?\"\n",
    "x = (b[6:]) #(b[6:final])\n",
    "print(x)"
   ]
  },
  {
   "attachments": {},
   "cell_type": "markdown",
   "metadata": {},
   "source": [
    "> ### ⚙ ***Modificar cadenas***\n",
    "\n",
    "> ⚠️ ***Cambiar una cadena de texto a todos sus caracteres a mayusculas***\n",
    "\n",
    "💡 *Se usa el metodo:* ***.upper()***"
   ]
  },
  {
   "cell_type": "code",
   "execution_count": 51,
   "metadata": {},
   "outputs": [
    {
     "name": "stdout",
     "output_type": "stream",
     "text": [
      "HOLA LANA, COMO ESTAS?\n"
     ]
    }
   ],
   "source": [
    "x = \"hola Lana, como estas?\"\n",
    "print(x.upper())\n"
   ]
  },
  {
   "attachments": {},
   "cell_type": "markdown",
   "metadata": {},
   "source": [
    "> ⚠️ ***Cambiar una cadena de texto a todos sus caracteres a minusculas***\n",
    "\n",
    "💡 *Se usa el metodo:* ***.lower()***"
   ]
  },
  {
   "cell_type": "code",
   "execution_count": 7,
   "metadata": {},
   "outputs": [
    {
     "name": "stdout",
     "output_type": "stream",
     "text": [
      "hola lana, como estas?\n"
     ]
    }
   ],
   "source": [
    "x = \"Hola LANA, COMO ESTAS?\"\n",
    "y = (x.lower())\n",
    "print(y)"
   ]
  },
  {
   "attachments": {},
   "cell_type": "markdown",
   "metadata": {},
   "source": [
    "> ⚠️ ***Eliminar espacios en blanco al principio y al final de la cadena de texto***\n",
    "\n",
    "💡 *Se usa el metodo:* ***.strip()***"
   ]
  },
  {
   "cell_type": "code",
   "execution_count": 8,
   "metadata": {},
   "outputs": [
    {
     "name": "stdout",
     "output_type": "stream",
     "text": [
      "Hola LANA, COMO ESTAS?\n"
     ]
    }
   ],
   "source": [
    "x = \" Hola LANA, COMO ESTAS? \"\n",
    "print(x.strip())"
   ]
  },
  {
   "attachments": {},
   "cell_type": "markdown",
   "metadata": {},
   "source": [
    "> ⚠️ ***Como reemplazar una cadena de texto por otra cadena de texto***\n",
    "\n",
    "💡 *Se usa el metodo:* ***.replace(cadena_a_cambiar,cadena_nueva)***"
   ]
  },
  {
   "cell_type": "code",
   "execution_count": 9,
   "metadata": {},
   "outputs": [
    {
     "name": "stdout",
     "output_type": "stream",
     "text": [
      "Bye, World!\n"
     ]
    }
   ],
   "source": [
    "a = \"Hello, World!\"\n",
    "print(a.replace(\"Hello\", \"Bye\"))"
   ]
  },
  {
   "attachments": {},
   "cell_type": "markdown",
   "metadata": {},
   "source": [
    "> ⚠️ ***Como dividir una cadena de texto***\n",
    "\n",
    "💡 *Se usa el metodo:* ***.split(\"separador\")***\n",
    "\n",
    "❓ *Este metodo devuelve una lista donde el texto entre el separador especificado se convierte en los elementos de la lista.*\n",
    "\n",
    "❓ *Cada espacio pondra el separador que escogiste y lo devolvera en una lista*"
   ]
  },
  {
   "cell_type": "code",
   "execution_count": 64,
   "metadata": {},
   "outputs": [
    {
     "name": "stdout",
     "output_type": "stream",
     "text": [
      "['Hello', ' World!']\n"
     ]
    }
   ],
   "source": [
    "a = \"Hello, World!\"\n",
    "print(a.split(\",\")) # returns ['Hello',' World!']"
   ]
  },
  {
   "attachments": {},
   "cell_type": "markdown",
   "metadata": {},
   "source": [
    "> ### ⚙ ***Como imprimir comillas dentro de una cadena de texto***\n",
    "\n",
    "> ⚠️ *Se utiliza las comillas simples dentro de la cadena de texto (\"texto 'hola' no\")*"
   ]
  },
  {
   "cell_type": "code",
   "execution_count": 68,
   "metadata": {},
   "outputs": [
    {
     "name": "stdout",
     "output_type": "stream",
     "text": [
      "We are the so-called 'Vikings' from the north.\n"
     ]
    }
   ],
   "source": [
    "txt = \"We are the so-called 'Vikings' from the north.\"\n",
    "print(txt)"
   ]
  },
  {
   "attachments": {},
   "cell_type": "markdown",
   "metadata": {},
   "source": [
    "> ### ⚙ ***Metodos de una cadena de texto***\n",
    "\n",
    "⚠️ ***Todos los métodos de cadena devuelven nuevos valores. No cambian la cadena original.***"
   ]
  },
  {
   "attachments": {},
   "cell_type": "markdown",
   "metadata": {},
   "source": [
    "💥 [Link de todos los metodos](https://www.w3schools.com/python/python_strings_methods.asp)"
   ]
  }
 ],
 "metadata": {
  "kernelspec": {
   "display_name": "Python 3",
   "language": "python",
   "name": "python3"
  },
  "language_info": {
   "codemirror_mode": {
    "name": "ipython",
    "version": 3
   },
   "file_extension": ".py",
   "mimetype": "text/x-python",
   "name": "python",
   "nbconvert_exporter": "python",
   "pygments_lexer": "ipython3",
   "version": "3.11.2"
  },
  "orig_nbformat": 4,
  "vscode": {
   "interpreter": {
    "hash": "459f1063a819f0a78eb85397fcab11adf6418b5db326af8939302d6d323a63f9"
   }
  }
 },
 "nbformat": 4,
 "nbformat_minor": 2
}
