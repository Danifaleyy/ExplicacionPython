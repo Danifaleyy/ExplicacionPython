{
 "cells": [
  {
   "cell_type": "markdown",
   "metadata": {},
   "source": [
    "# ***Abstraccion***\n",
    "\n",
    "❓ ***Que es?*** *Es la capacidad ocultar los detalles complejos (innecesarios) y mostrar solo la funcionalidad esencial de una entidad (como una clase, una función o un objeto) al usuario.*\n",
    "\n",
    "✅ *Al usuario le daras una interfaz simple que oculte la interfaz compleja*\n",
    "\n",
    "❗ *El usuario no debe de saber como funciona intenamente, si no como usarlo*\n",
    "\n",
    "💡 ***Ejemplo:*** *Cuando usas un celular el usuario no sabe como funciona las teclas y eso*"
   ]
  },
  {
   "cell_type": "code",
   "execution_count": 4,
   "metadata": {},
   "outputs": [
    {
     "name": "stdout",
     "output_type": "stream",
     "text": [
      "El auto esta encendido\n",
      "Conduciendo el auto\n"
     ]
    }
   ],
   "source": [
    "class Auto():\n",
    "    def __init__(self):\n",
    "        self._estado = \"Apagado\"\n",
    "    \n",
    "    def encender(self):\n",
    "        self._estado = \"Encendido\"\n",
    "        print(\"El auto esta encendido\")\n",
    "        \n",
    "    def conducir(self):\n",
    "        if self._estado == \"Apagado\":\n",
    "            self.encender()\n",
    "        print(\"Conduciendo el auto\") \n",
    "    \n",
    "mi_auto = Auto()\n",
    "mi_auto.conducir()"
   ]
  }
 ],
 "metadata": {
  "kernelspec": {
   "display_name": "Python 3",
   "language": "python",
   "name": "python3"
  },
  "language_info": {
   "codemirror_mode": {
    "name": "ipython",
    "version": 3
   },
   "file_extension": ".py",
   "mimetype": "text/x-python",
   "name": "python",
   "nbconvert_exporter": "python",
   "pygments_lexer": "ipython3",
   "version": "3.11.2"
  },
  "orig_nbformat": 4
 },
 "nbformat": 4,
 "nbformat_minor": 2
}
