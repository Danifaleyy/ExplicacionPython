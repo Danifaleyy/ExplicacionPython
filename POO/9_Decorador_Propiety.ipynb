{
 "cells": [
  {
   "cell_type": "markdown",
   "metadata": {},
   "source": [
    "# ***Decorador propierty***\n",
    "\n",
    "❓ ***Para que sirve?*** *Te permite acceder y manipular valores de atributos privados de una clase como si fueran atributos públicos, al tiempo que controla el comportamiento de lectura y escritura.*\n",
    "\n",
    "🟢 ***Te permite nos permite usar:***\n",
    "\n",
    "🟡 ***Getters:*** *Obtener el valor de un atributo*\n",
    "\n",
    "🟡 ***Setters:*** *Modificar o asignar un valor a un atributo*\n",
    "\n",
    "🟡 ***Delaters:*** *Eliminar un atributo*\n",
    "\n",
    "> ### ☢️ ***Getters***\n",
    "\n",
    "> ✅ ***Antes de usar Propierty***\n",
    "\n",
    "❗ *Aqui cuando quieres acceder al metodo usas ()*"
   ]
  },
  {
   "cell_type": "code",
   "execution_count": 5,
   "metadata": {},
   "outputs": [
    {
     "name": "stdout",
     "output_type": "stream",
     "text": [
      "Daniel\n"
     ]
    }
   ],
   "source": [
    "  #Creamos la clase\n",
    "class Persona:\n",
    "    def __init__(self, nombre, edad):\n",
    "        #Creando atributos muy privados\n",
    "        #Estructura: self.__nombreatributo = valor\n",
    "        self.__nombre = nombre\n",
    "        self.__edad = edad\n",
    "    \n",
    "    #Creando un metodo get: Para obetener el valor de un atributo\n",
    "    #Get: obtener el valor de una variable\n",
    "    #Estructura: def get_nombreatributo(self):\n",
    "    #return self._nombreatributo\n",
    "    def get_nombre(self):\n",
    "        return self.__nombre\n",
    "\n",
    "#Creamos un objeto de la clase\n",
    "daniel = Persona(\"Daniel\", 21)\n",
    "\n",
    "#Accediendo al atributo del objeto\n",
    "#Para obtener el valor de la variable se crea una varibale donde se almacenara el varlo para poder verlo\n",
    "#Estructura: nueva_variable = objeto.get_atributo()\n",
    "nombre_almacenado = daniel.get_nombre()\n",
    "print(nombre_almacenado)"
   ]
  },
  {
   "cell_type": "markdown",
   "metadata": {},
   "source": [
    "> ✅ ***Usando Propierty***\n",
    "\n",
    "💡 *Cuando la utilizas estas indicando que crearas un getter*\n",
    "\n",
    "❗ ***IMPORTANTE:*** *Cuando quieras acceder a ese metodo, ya no ocupas acceder a el como si fuera un metodo, ahora accedes a el como si fuera un atributo, osea le quitas el ()*"
   ]
  },
  {
   "cell_type": "code",
   "execution_count": 4,
   "metadata": {},
   "outputs": [
    {
     "name": "stdout",
     "output_type": "stream",
     "text": [
      "Daniel\n",
      "Daniel\n"
     ]
    }
   ],
   "source": [
    "class Persona:\n",
    "    def __init__(self, nombre, edad):\n",
    "        self.__nombre = nombre\n",
    "        self.__edad = edad\n",
    "    \n",
    "    #@property: Es un decorador especial, le indica que es un getter\n",
    "    @property\n",
    "    def get_nombre(self):\n",
    "        #return self.__atributo\n",
    "        return self.__nombre\n",
    "    \n",
    "#Creando un objeto\n",
    "daniel = Persona(\"Daniel\", 21)\n",
    "\n",
    "#Para obtener el valor de la variable se crea una variable donde se almacenara el valor\n",
    "#Le quitas el () cuando llames al metodo\n",
    "#Accedes al metodo como si fuera un atributo\n",
    "#Estrucutura: nueva_variable = objeto.metodo\n",
    "nombre = daniel.get_nombre\n",
    "print(nombre)\n",
    "\n",
    "#Otra forma de acceder\n",
    "#Estructura: print(objeto.metodo)\n",
    "print(daniel.get_nombre)"
   ]
  },
  {
   "cell_type": "markdown",
   "metadata": {},
   "source": [
    "❗ ***IMPORTANTE:***\n",
    "\n",
    "💡 *Propierty tambien sirve para ocultar el nomre real de la variable*"
   ]
  },
  {
   "cell_type": "code",
   "execution_count": 6,
   "metadata": {},
   "outputs": [
    {
     "name": "stdout",
     "output_type": "stream",
     "text": [
      "Daniel\n",
      "Daniel\n"
     ]
    }
   ],
   "source": [
    "class Persona:\n",
    "    def __init__(self, nombre, edad):\n",
    "        self.__nombre = nombre\n",
    "        self.__edad = edad\n",
    "    \n",
    "    #@property: Es un decorador especial, le indica que es un getter\n",
    "    @property\n",
    "    #Le quitas el get para ocultar el nombre real de la variable\n",
    "    #def nombre_real_variable(self):\n",
    "    #return self.__nombre_real_variable\n",
    "    def nombre(self):\n",
    "        #return self.__atributo\n",
    "        return self.__nombre\n",
    "    \n",
    "#Creando un objeto\n",
    "daniel = Persona(\"Daniel\", 21)\n",
    "\n",
    "#Para obtener el valor de la variable se crea una variable donde se almacenara el valor\n",
    "#Le quitas el () cuando llames al metodo\n",
    "#Accedes al metodo como si fuera un atributo\n",
    "#Estrucutura: nueva_variable = objeto.metodo\n",
    "nombre = daniel.nombre\n",
    "print(nombre)\n",
    "\n",
    "#Otra forma de acceder\n",
    "#Estructura: print(objeto.metodo)\n",
    "print(daniel.nombre)"
   ]
  },
  {
   "cell_type": "markdown",
   "metadata": {},
   "source": [
    "❗ ***IMPORTANTE:***\n",
    "\n",
    "✖️ *Es incorrecto porque quieres acceder al metodo como si llamaras a un metodo usando (), ahora se accede al metodo como si fuera un atributo*"
   ]
  },
  {
   "cell_type": "code",
   "execution_count": 9,
   "metadata": {},
   "outputs": [
    {
     "ename": "TypeError",
     "evalue": "'str' object is not callable",
     "output_type": "error",
     "traceback": [
      "\u001b[1;31m---------------------------------------------------------------------------\u001b[0m",
      "\u001b[1;31mTypeError\u001b[0m                                 Traceback (most recent call last)",
      "Cell \u001b[1;32mIn[9], line 19\u001b[0m\n\u001b[0;32m     13\u001b[0m daniel \u001b[39m=\u001b[39m Persona(\u001b[39m\"\u001b[39m\u001b[39mDaniel\u001b[39m\u001b[39m\"\u001b[39m, \u001b[39m21\u001b[39m)\n\u001b[0;32m     15\u001b[0m \u001b[39m#Para obtener el valor de la variable se crea una variable donde se almacenara el valor\u001b[39;00m\n\u001b[0;32m     16\u001b[0m \u001b[39m#Le quitas el () cuando llames al metodo\u001b[39;00m\n\u001b[0;32m     17\u001b[0m \u001b[39m#Accedes al metodo como si fuera un atributo\u001b[39;00m\n\u001b[0;32m     18\u001b[0m \u001b[39m#Estrucutura: nueva_variable = objeto.metodo\u001b[39;00m\n\u001b[1;32m---> 19\u001b[0m nombre \u001b[39m=\u001b[39m daniel\u001b[39m.\u001b[39;49mget_nombre()\n\u001b[0;32m     20\u001b[0m \u001b[39mprint\u001b[39m(nombre)\n\u001b[0;32m     22\u001b[0m \u001b[39m#Otra forma de acceder\u001b[39;00m\n\u001b[0;32m     23\u001b[0m \u001b[39m#Estructura: print(objeto.metodo)\u001b[39;00m\n",
      "\u001b[1;31mTypeError\u001b[0m: 'str' object is not callable"
     ]
    }
   ],
   "source": [
    "class Persona:\n",
    "    def __init__(self, nombre, edad):\n",
    "        self.__nombre = nombre\n",
    "        self.__edad = edad\n",
    "    \n",
    "    #@property: Es un decorador especial, le indica que es un getter\n",
    "    @property\n",
    "    def get_nombre(self):\n",
    "        #return self.__atributo\n",
    "        return self.__nombre\n",
    "    \n",
    "#Creando un objeto\n",
    "daniel = Persona(\"Daniel\", 21)\n",
    "\n",
    "#Para obtener el valor de la variable se crea una variable donde se almacenara el valor\n",
    "#Le quitas el () cuando llames al metodo\n",
    "#Accedes al metodo como si fuera un atributo\n",
    "#Estrucutura: nueva_variable = objeto.metodo\n",
    "nombre = daniel.get_nombre()\n",
    "print(nombre)\n",
    "\n",
    "#Otra forma de acceder\n",
    "#Estructura: print(objeto.metodo)\n",
    "print(daniel.get_nombre())"
   ]
  },
  {
   "cell_type": "markdown",
   "metadata": {},
   "source": [
    "> ### ☢️ ***Setters***"
   ]
  },
  {
   "cell_type": "code",
   "execution_count": 11,
   "metadata": {},
   "outputs": [
    {
     "name": "stdout",
     "output_type": "stream",
     "text": [
      "Daniel\n",
      "Daniel\n",
      "Bellingam\n"
     ]
    }
   ],
   "source": [
    "class Persona:\n",
    "    def __init__(self, nombre, edad):\n",
    "        self.__nombre = nombre\n",
    "        self.__edad = edad\n",
    "    \n",
    "    #@property: Es un decorador especial, le indica que es un getter\n",
    "    @property\n",
    "    #Le quitas el get para ocultar el nombre real de la variable\n",
    "    #def nombre_real_variable(self):\n",
    "    #return self.__nombre_real_variable\n",
    "    def nombre(self):\n",
    "        #return self.__atributo\n",
    "        return self.__nombre\n",
    "    \n",
    "    #Creado el setters:\n",
    "    #@nombre_funcion.setter\n",
    "    #Creando el metodo set: Para modificar o asignar el valor de una variable\n",
    "    #Estructura: def set_nombreatributo(self, nueva_variable)\n",
    "    #self.nombreatributo = nueva_variable\n",
    "    #La nueva variable: Es la que almacenara el valor\n",
    "    @nombre.setter\n",
    "    def nombre(self, new_nombre):\n",
    "        self.__nombre = new_nombre\n",
    "        \n",
    "#Creando un objeto\n",
    "daniel = Persona(\"Daniel\", 21)\n",
    "\n",
    "#Para obtener el valor de la variable se crea una variable donde se almacenara el valor\n",
    "#Le quitas el () cuando llames al metodo\n",
    "#Accedes al metodo como si fuera un atributo\n",
    "#Estrucutura: nueva_variable = objeto.metodo\n",
    "nombre = daniel.nombre\n",
    "print(nombre)\n",
    "\n",
    "#Otra forma de acceder\n",
    "#Estructura: print(objeto.metodo)\n",
    "print(daniel.nombre)\n",
    "\n",
    "#Modificando el valor\n",
    "daniel.nombre = \"Bellingam\"\n",
    "nombre = daniel.nombre\n",
    "print(nombre)"
   ]
  },
  {
   "cell_type": "markdown",
   "metadata": {},
   "source": [
    "> ### ☢️ ***Delatters***"
   ]
  },
  {
   "cell_type": "code",
   "execution_count": 13,
   "metadata": {},
   "outputs": [
    {
     "name": "stdout",
     "output_type": "stream",
     "text": [
      "Daniel\n",
      "Daniel\n"
     ]
    },
    {
     "ename": "AttributeError",
     "evalue": "'Persona' object has no attribute '_Persona__nombre'",
     "output_type": "error",
     "traceback": [
      "\u001b[1;31m---------------------------------------------------------------------------\u001b[0m",
      "\u001b[1;31mAttributeError\u001b[0m                            Traceback (most recent call last)",
      "Cell \u001b[1;32mIn[13], line 50\u001b[0m\n\u001b[0;32m     48\u001b[0m \u001b[39mdel\u001b[39;00m daniel\u001b[39m.\u001b[39mnombre\n\u001b[0;32m     49\u001b[0m \u001b[39m#Te tira un ERROR porque intensas acceder a un valor que fue eliminado\u001b[39;00m\n\u001b[1;32m---> 50\u001b[0m nombre \u001b[39m=\u001b[39m daniel\u001b[39m.\u001b[39;49mnombre\n\u001b[0;32m     51\u001b[0m \u001b[39mprint\u001b[39m(nombre)\n\u001b[0;32m     53\u001b[0m \u001b[39m#Modificando el valor\u001b[39;00m\n",
      "Cell \u001b[1;32mIn[13], line 13\u001b[0m, in \u001b[0;36mPersona.nombre\u001b[1;34m(self)\u001b[0m\n\u001b[0;32m      7\u001b[0m \u001b[39m@property\u001b[39m\n\u001b[0;32m      8\u001b[0m \u001b[39m#Le quitas el get para ocultar el nombre real de la variable\u001b[39;00m\n\u001b[0;32m      9\u001b[0m \u001b[39m#def nombre_real_variable(self):\u001b[39;00m\n\u001b[0;32m     10\u001b[0m \u001b[39m#return self.__nombre_real_variable\u001b[39;00m\n\u001b[0;32m     11\u001b[0m \u001b[39mdef\u001b[39;00m \u001b[39mnombre\u001b[39m(\u001b[39mself\u001b[39m):\n\u001b[0;32m     12\u001b[0m     \u001b[39m#return self.__atributo\u001b[39;00m\n\u001b[1;32m---> 13\u001b[0m     \u001b[39mreturn\u001b[39;00m \u001b[39mself\u001b[39;49m\u001b[39m.\u001b[39;49m__nombre\n",
      "\u001b[1;31mAttributeError\u001b[0m: 'Persona' object has no attribute '_Persona__nombre'"
     ]
    }
   ],
   "source": [
    "class Persona:\n",
    "    def __init__(self, nombre, edad):\n",
    "        self.__nombre = nombre\n",
    "        self.__edad = edad\n",
    "    \n",
    "    #@property: Es un decorador especial, le indica que es un getter\n",
    "    @property\n",
    "    #Le quitas el get para ocultar el nombre real de la variable\n",
    "    #def nombre_real_variable(self):\n",
    "    #return self.__nombre_real_variable\n",
    "    def nombre(self):\n",
    "        #return self.__atributo\n",
    "        return self.__nombre\n",
    "    \n",
    "    #Creado el setters:\n",
    "    #@nombre_funcion.setter\n",
    "    #Creando el metodo set: Para modificar o asignar el valor de una variable\n",
    "    #Estructura: def set_nombreatributo(self, nueva_variable)\n",
    "    #self.nombreatributo = nueva_variable\n",
    "    #La nueva variable: Es la que almacenara el valor\n",
    "    @nombre.setter\n",
    "    def nombre(self, new_nombre):\n",
    "        self.__nombre = new_nombre\n",
    "    \n",
    "    #Creando un delater\n",
    "    @nombre.deleter\n",
    "    def nombre(self):\n",
    "        #del elimina valores\n",
    "        del self.__nombre\n",
    "\n",
    "\n",
    "#Creando un objeto\n",
    "daniel = Persona(\"Daniel\", 21)\n",
    "\n",
    "#Para obtener el valor de la variable se crea una variable donde se almacenara el valor\n",
    "#Le quitas el () cuando llames al metodo\n",
    "#Accedes al metodo como si fuera un atributo\n",
    "#Estrucutura: nueva_variable = objeto.metodo\n",
    "nombre = daniel.nombre\n",
    "print(nombre)\n",
    "\n",
    "#Otra forma de acceder\n",
    "#Estructura: print(objeto.metodo)\n",
    "print(daniel.nombre)\n",
    "\n",
    "#Eliminando el valor\n",
    "#del objeto.atributo\n",
    "del daniel.nombre\n",
    "#Te tira un ERROR porque intensas acceder a un valor que fue eliminado\n",
    "nombre = daniel.nombre\n",
    "print(nombre)\n",
    "\n",
    "#Modificando el valor\n",
    "daniel.nombre = \"Bellingam\"\n",
    "nombre = daniel.nombre\n",
    "print(nombre)"
   ]
  }
 ],
 "metadata": {
  "kernelspec": {
   "display_name": "Python 3",
   "language": "python",
   "name": "python3"
  },
  "language_info": {
   "codemirror_mode": {
    "name": "ipython",
    "version": 3
   },
   "file_extension": ".py",
   "mimetype": "text/x-python",
   "name": "python",
   "nbconvert_exporter": "python",
   "pygments_lexer": "ipython3",
   "version": "3.11.2"
  },
  "orig_nbformat": 4
 },
 "nbformat": 4,
 "nbformat_minor": 2
}
