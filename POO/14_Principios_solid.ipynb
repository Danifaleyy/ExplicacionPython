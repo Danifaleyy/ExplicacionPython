{
 "cells": [
  {
   "cell_type": "markdown",
   "metadata": {},
   "source": [
    "# ***Principios solid***\n",
    "\n",
    "❓ ***Que son?*** *Son un conjunto de cinco principios de diseño de software que buscan mejorar la calidad y mantenibilidad del código.*"
   ]
  },
  {
   "cell_type": "markdown",
   "metadata": {},
   "source": [
    "> ### ☢️ ***Principio de responsabilidad unico***\n",
    "\n",
    "❓ ***Que es?*** *Una clase debe de tener una unica responsabilidad o tarea (Esto significa que una clase o función debe hacer solamente una cosa y hacerla bien).*\n",
    "\n",
    "✖️ *Evita crear clases o funciones que tengan múltiples responsabilidades, ya que esto puede complicar el mantenimiento y la comprensión del código.*\n",
    "\n",
    "✅ ***SOLUCION:*** *Si hay una clase que tiene multiples tareas entonces se separan en varias clases para que cada clase se encargue de solo 1 tarea.*\n",
    "\n",
    "➖ *Una clase puede realizar su tarea sin depender de otra clase.*\n",
    "\n",
    "> 🟢 ***Codigo incorrecto:*** *Este codigo no cumple con el primer principio porque en la clase Auto hace varias tareas.*\n",
    "\n",
    "✅ ***Solucion:*** *Se debe de dividir la clase en varias*\n"
   ]
  },
  {
   "cell_type": "code",
   "execution_count": 3,
   "metadata": {},
   "outputs": [],
   "source": [
    "class Auto():\n",
    "    def __init__(self):\n",
    "        self.posicion = 0\n",
    "        self.combustible = 100\n",
    "    \n",
    "    def mover(self, distancia):\n",
    "        if self.combustible >= distancia / 2:\n",
    "            self.posicion += distancia\n",
    "            self.combustible -= distancia / 2\n",
    "        else:\n",
    "            print(\"No hay demasiado combustible\")\n",
    "    \n",
    "    def agregar_combustible(self, combustible):\n",
    "        self.combustible += combustible\n",
    "    \n",
    "    def obtener_combustible(self):\n",
    "        return self.combustible\n",
    "        "
   ]
  },
  {
   "cell_type": "markdown",
   "metadata": {},
   "source": [
    "> 🟢 ***Codigo correcto:*** *Ya se dividio la clase en varias clases*"
   ]
  },
  {
   "cell_type": "code",
   "execution_count": 15,
   "metadata": {},
   "outputs": [
    {
     "name": "stdout",
     "output_type": "stream",
     "text": [
      "0\n",
      "Has movido el auto exitosamente\n",
      "10\n",
      "Has movido el auto exitosamente\n",
      "40\n",
      "Has movido el auto exitosamente\n",
      "140\n",
      "No hay demasiado combustible\n",
      "140\n"
     ]
    }
   ],
   "source": [
    "class TanqueDeCombustible():\n",
    "    def __init__(self):\n",
    "        self.combustible = 100\n",
    "    \n",
    "    def agregar_combustible(self, cantidad):\n",
    "        self.combustible += cantidad\n",
    "    \n",
    "    def obtener_combustible(self):\n",
    "        return self.combustible\n",
    "    \n",
    "    def usar_combustible(self, cantidad):\n",
    "        self.combustible -= cantidad\n",
    "        \n",
    "        \n",
    "class Auto():\n",
    "    def __init__(self, tanque):\n",
    "        self.posicion = 0\n",
    "        self.tanque = tanque\n",
    "    \n",
    "    def mover(self, distancia):\n",
    "        if self.tanque.obtener_combustible() >= distancia / 2:\n",
    "            self.posicion += distancia\n",
    "            self.tanque.usar_combustible(distancia / 2)\n",
    "            print(\"Has movido el auto exitosamente\")\n",
    "        else:\n",
    "            print(\"No hay demasiado combustible\")\n",
    "    \n",
    "    def obtener_posicion(self):\n",
    "        return self.posicion\n",
    "\n",
    "tanque = TanqueDeCombustible()\n",
    "carro = Auto(tanque) \n",
    "\n",
    "print(carro.obtener_posicion())\n",
    "carro.mover(10)\n",
    "print(carro.obtener_posicion())\n",
    "carro.mover(30)\n",
    "print(carro.obtener_posicion())\n",
    "carro.mover(100)\n",
    "print(carro.obtener_posicion())\n",
    "carro.mover(100)\n",
    "print(carro.obtener_posicion())"
   ]
  },
  {
   "cell_type": "markdown",
   "metadata": {},
   "source": [
    "> ### ☢️ ***Principio de abierto/cerrado***\n",
    "\n",
    "❓ ***Que es?*** *Sostiene que las entidades del software (como clases, funciones, módulos, etc.) deben estar abiertas para extensión pero cerradas para modificación. En Python, esto se puede lograr utilizando herencia, interfaces y polimorfismo. En lugar de modificar el código existente cuando se agrega nueva funcionalidad, se debe extender el código existente a través de nuevas clases o funciones.*"
   ]
  },
  {
   "cell_type": "code",
   "execution_count": 1,
   "metadata": {},
   "outputs": [],
   "source": [
    "class Notificador:\n",
    "    def __init__(self, usuario, mensaje):\n",
    "        self.usuario = usuario\n",
    "        self.mensaje = mensaje\n",
    "    #Estas obligando al desarrollado a implementar en las clases hijas este metodo\n",
    "    #Podrias crear muchas funciones pero cada rato la modificarias dependiendo de la notificacion, mejor haces herencia\n",
    "    def notificar(self):\n",
    "        raise NotImplementedError\n",
    "\n",
    "#usuario: deberia de ser un objeto para acceder a sus propiedades\n",
    "#Clase hija\n",
    "class NotificadorEmail(Notificador):\n",
    "    def notificar(self):\n",
    "        print(f\"Enviando mensaje al email: {self.usuario.email}\")\n",
    "\n",
    "#Clase hija\n",
    "class NotificadorSMS(Notificador):\n",
    "    def notificar(self):\n",
    "        print(f\"Enviando mensaje al SMS: {self.usuario.sms}\")"
   ]
  },
  {
   "cell_type": "markdown",
   "metadata": {},
   "source": [
    "> ### ☢️ ***Principio de sustitucion de Liskov***\n",
    "\n",
    "❓ ***Que es?*** *Las instancias de una clase derivada deben poder ser sustituidas por instancias de la clase base sin afectar la integridad del programa. En Python, esto implica que las clases derivadas deben ser coherentes con las expectativas de la clase base y no deben cambiar el comportamiento en formas no esperadas.*\n",
    "\n",
    "❓ *La clase padre A debe poder ser utilizada en todos los lugares donde la clase hija B pueda ser utilizada.*\n",
    "\n",
    "✅ *En la clase padre puedes definir todos los atributos y metodos en comun que puedan tener las clases hijas, a cada clase hija le agregas sus atributos y metodos extras.*\n",
    "\n",
    "✅ *Todas las clases hijas que hereden de la clase padre deben de poder hacer todo lo que la clase padre haga (Mismos atributos y metodos)*\n",
    "\n",
    "> 🟢 ***Codigo mal:*** *Porque la clase hija Pinguino no puede aplicar lo mismo que la clase padre Ave, un ave puede volar y un pinguino no puede auqnue sea un ave.*"
   ]
  },
  {
   "cell_type": "code",
   "execution_count": 22,
   "metadata": {},
   "outputs": [
    {
     "name": "stdout",
     "output_type": "stream",
     "text": [
      "No puedo volar\n"
     ]
    }
   ],
   "source": [
    "#Clase padre\n",
    "class Ave:\n",
    "    def volar(self):\n",
    "        return \"Estoy volando\"\n",
    "\n",
    "#Clase hija\n",
    "class Pinguino(Ave):\n",
    "    def volar(self):\n",
    "        return \"No puedo volar\"\n",
    "    \n",
    "def hacer_volar(ave = Ave):\n",
    "    return ave.volar()\n",
    "\n",
    "print(hacer_volar(Pinguino()))"
   ]
  },
  {
   "cell_type": "markdown",
   "metadata": {},
   "source": [
    "> 🟢 ***Codigo correcto: Aplicando este principio***\n",
    "\n",
    "🟡 ***Explicacion:***\n",
    "\n",
    "✅ *Todo lo que tenga la clase padre Ave lo va a tener las clases hijas AveVoladora y AveNoVoladora.*\n",
    "\n",
    "✅ *En la clase padre puedes definir todos los atributos y metodos en comun que puedan tener las clases hijas, a cada clase hija le agregas sus atributos y metodos extras.*\n",
    "\n",
    "✅ *Todas las clases hijas que hereden de la clase padre deben de poder hacer todo lo que la clase padre haga (Mismos atributos y metodos)*"
   ]
  },
  {
   "cell_type": "code",
   "execution_count": 26,
   "metadata": {},
   "outputs": [],
   "source": [
    "#Clase padre\n",
    "class Ave:\n",
    "    pass\n",
    "\n",
    "#Clase hija\n",
    "class AveVoladora(Ave):\n",
    "    def volar(self):\n",
    "        return \"Estoy volando\"\n",
    "\n",
    "#Clase hija\n",
    "class AveNoVoladora(Ave):\n",
    "    pass"
   ]
  },
  {
   "cell_type": "markdown",
   "metadata": {},
   "source": [
    "> ### ☢️ ***Principio de segregacion de interfaz***\n",
    "\n",
    "❓ ***Que es?*** *Una clase no debe verse obligada a implementar interfaces (Clases) que no utiliza. En Python, esto significa que las interfaces (ya sea a través de clases abstractas o simplemente protocolos) deben ser específicas y no obligar a implementar métodos que no tienen sentido para una clase en particular.*\n",
    "\n",
    "❗ *Ningun cliente debe de ser forzado a utilizar interfaces que no utilice.*\n",
    "\n",
    "✅ *Con las clases abstractas obligas a que los metodos se implementen*\n",
    "\n",
    "💡 ***Solucion:*** *Divide la clase en mas pequeñas*\n",
    "\n",
    "> 🟢 ***Codigo mal:*** *Porque la clase llamada Robot debe de implementar los metodos obligatoriamente de la clase abstracta Trabajador, un robor no come y no duerme asi que logicamente no deberia de tener esos metodos.*"
   ]
  },
  {
   "cell_type": "code",
   "execution_count": 2,
   "metadata": {},
   "outputs": [
    {
     "ename": "TypeError",
     "evalue": "Can't instantiate abstract class Robot with abstract methods comer, dormir, trabajar",
     "output_type": "error",
     "traceback": [
      "\u001b[1;31m---------------------------------------------------------------------------\u001b[0m",
      "\u001b[1;31mTypeError\u001b[0m                                 Traceback (most recent call last)",
      "Cell \u001b[1;32mIn[2], line 36\u001b[0m\n\u001b[0;32m     32\u001b[0m     \u001b[39m@abstractmethod\u001b[39m\n\u001b[0;32m     33\u001b[0m     \u001b[39mdef\u001b[39;00m \u001b[39mtrabajar\u001b[39m(\u001b[39mself\u001b[39m):\n\u001b[0;32m     34\u001b[0m         \u001b[39mprint\u001b[39m(\u001b[39m\"\u001b[39m\u001b[39mEl humano esta trabajando\u001b[39m\u001b[39m\"\u001b[39m)\n\u001b[1;32m---> 36\u001b[0m robot \u001b[39m=\u001b[39m Robot()\n",
      "\u001b[1;31mTypeError\u001b[0m: Can't instantiate abstract class Robot with abstract methods comer, dormir, trabajar"
     ]
    }
   ],
   "source": [
    "from abc import ABC, abstractmethod\n",
    "\n",
    "#Clase abstracta\n",
    "class Trabajador(ABC):\n",
    "    @abstractmethod\n",
    "    def comer(self):\n",
    "        pass\n",
    "    \n",
    "    @abstractmethod\n",
    "    def trabajar(self):\n",
    "        pass\n",
    "\n",
    "    @abstractmethod\n",
    "    def dormir(self):\n",
    "        pass\n",
    "\n",
    "class Humano(Trabajador):\n",
    "    @abstractmethod\n",
    "    def comer(self):\n",
    "        print(\"El humano esta comiendo\")\n",
    "    \n",
    "    @abstractmethod\n",
    "    def trabajar(self):\n",
    "        print(\"El humano esta trabajando\")\n",
    "\n",
    "    @abstractmethod\n",
    "    def dormir(self):\n",
    "        print(\"El humano esta durmiendo\")\n",
    "\n",
    "#El robot no come y ni duerme\n",
    "class Robot(Trabajador):\n",
    "    @abstractmethod\n",
    "    def trabajar(self):\n",
    "        print(\"El humano esta trabajando\")\n",
    "\n",
    "#Sale ERROR: Porque estas obligado a usar todos los metodos de la clase abstracta\n",
    "#Estas dependiendo de metodos que no usas\n",
    "#Solucon: Dividir las clases en otras mas pequeñas\n",
    "robot = Robot()"
   ]
  },
  {
   "cell_type": "markdown",
   "metadata": {},
   "source": [
    "> 🟢 ***Codigo correcto:*** *La solucion es dividir las clases en otras mas pequeñas*\n",
    "\n",
    "💡 ***Explicacion:*** *Se crean 3 clases abstractas (Trabajador, Comedor, Durmiente) y la clase Robot solo implementara los metodos obligatoriamente de la clase abstracta (Trabajador) y es correcto porque ya solamente trabaj el robot*"
   ]
  },
  {
   "cell_type": "code",
   "execution_count": 2,
   "metadata": {},
   "outputs": [
    {
     "name": "stdout",
     "output_type": "stream",
     "text": [
      "El robot esta trabajando\n",
      "El humano esta trabajando\n",
      "El humano esta comiendo\n",
      "El humano esta durmiendo\n"
     ]
    }
   ],
   "source": [
    "from abc import ABC, abstractmethod\n",
    "\n",
    "#Clases abstracta\n",
    "class Trabajador(ABC):\n",
    "    @abstractmethod\n",
    "    def trabajar(self):\n",
    "        pass\n",
    "\n",
    "#Clases abstracta\n",
    "class Comedor(ABC):\n",
    "    @abstractmethod\n",
    "    def comer(self):\n",
    "        pass\n",
    "\n",
    "#Clases abstracta\n",
    "class Durmiente(ABC):\n",
    "    @abstractmethod\n",
    "    def dormir(self):\n",
    "        pass\n",
    "\n",
    "#Esta clase heredara de las clases: Trabajador, Comedor, Durmiente\n",
    "class Humano(Trabajador, Comedor, Durmiente):\n",
    "    def comer(self):\n",
    "        print(\"El humano esta comiendo\")\n",
    "    \n",
    "    def trabajar(self):\n",
    "        print(\"El humano esta trabajando\")\n",
    "\n",
    "    def dormir(self):\n",
    "        print(\"El humano esta durmiendo\")\n",
    "\n",
    "#Esta clase como solo trabaja: Solamente heredara de la clase Trabajador\n",
    "class Robot(Trabajador):\n",
    "    def trabajar(self):\n",
    "        print(\"El robot esta trabajando\")\n",
    "\n",
    "robot = Robot()\n",
    "robot.trabajar()\n",
    "humano = Humano()\n",
    "humano.trabajar()\n",
    "humano.comer()\n",
    "humano.dormir()"
   ]
  },
  {
   "cell_type": "markdown",
   "metadata": {},
   "source": [
    "> ### ☢️ ***Principio de inversion de dependencias***\n",
    "\n",
    "❓ ***Los modulos de alto nivel no deben de depender de los de bajo nivel:*** *Los 2 deben de depender de las abstracciones y las abstracciones no deben de depender de los detalles si no que los detalles deben de depender de las abstracciones.*\n",
    "\n",
    "💡 *No debemos de depender de una funcion especifica, sino debes de depender de funciones mas complejas: Las clase se alto nivel osea las que tienen toda la logica son independiente de las de bajo nivel osea las que tienen solo una funcion.*\n",
    "\n",
    "✅ *Esto se logra utilizando la inyección de dependencias y la programación orientada a interfaces.*\n",
    "\n",
    "\n",
    "> 🟢 ***Codigo mal:*** *La clase CorrectorOrtografico depende de la clase Diccionario, si modificamos algo de la clase Diccionario le afectaria a la otra clase y eso no cumple con este principio.*"
   ]
  },
  {
   "cell_type": "code",
   "execution_count": 2,
   "metadata": {},
   "outputs": [],
   "source": [
    "class Diccionario:\n",
    "    def verificar_palabras(self, palabra):\n",
    "        #Logica para verificar palabras\n",
    "        pass\n",
    "    \n",
    "class CorrectorOrtografico:\n",
    "    def __init__(self):\n",
    "        self.diccionario = Diccionario()\n",
    "    \n",
    "    def corregir_texto(self, texto):\n",
    "        #Usamos el diccionario para corregir el texto\n",
    "        pass"
   ]
  },
  {
   "cell_type": "markdown",
   "metadata": {},
   "source": [
    "> 🟢 ***Codigo correcto:*** *No debes de depender una clase mas compleja de una mas sencilla, osea no debe de depender la clase CorrectorOrtografico de la clase Diccionario.*"
   ]
  },
  {
   "cell_type": "code",
   "execution_count": 5,
   "metadata": {},
   "outputs": [
    {
     "ename": "TypeError",
     "evalue": "Can't instantiate abstract class CorrectorOrtografico with abstract method verificar_palabra",
     "output_type": "error",
     "traceback": [
      "\u001b[1;31m---------------------------------------------------------------------------\u001b[0m",
      "\u001b[1;31mTypeError\u001b[0m                                 Traceback (most recent call last)",
      "Cell \u001b[1;32mIn[5], line 22\u001b[0m\n\u001b[0;32m     18\u001b[0m     \u001b[39mdef\u001b[39;00m \u001b[39mcorregir_texto\u001b[39m(\u001b[39mself\u001b[39m, texto):\n\u001b[0;32m     19\u001b[0m         \u001b[39m#Usamos el verificador para corregir texto\u001b[39;00m\n\u001b[0;32m     20\u001b[0m         \u001b[39mpass\u001b[39;00m\n\u001b[1;32m---> 22\u001b[0m corrector \u001b[39m=\u001b[39m CorrectorOrtografico(Diccionario())\n",
      "\u001b[1;31mTypeError\u001b[0m: Can't instantiate abstract class CorrectorOrtografico with abstract method verificar_palabra"
     ]
    }
   ],
   "source": [
    "from abc import ABC, abstractmethod\n",
    "\n",
    "class VerificadorOrtografico(ABC):\n",
    "    @abstractmethod\n",
    "    def verificar_palabra(self, palabra):\n",
    "        #Logica para verificar palabras\n",
    "        pass\n",
    "    \n",
    "class Diccionario(VerificadorOrtografico):\n",
    "    def verificar_palabra(self, palabra):\n",
    "        #Logica para verificar palabras: Si esta en el diccionario\n",
    "        pass\n",
    "\n",
    "class CorrectorOrtografico(VerificadorOrtografico):\n",
    "    def __init__(self, verificador):\n",
    "        self.verificador = verificador\n",
    "    \n",
    "    def corregir_texto(self, texto):\n",
    "        #Usamos el verificador para corregir texto\n",
    "        pass\n",
    "\n",
    "corrector = CorrectorOrtografico(Diccionario())"
   ]
  }
 ],
 "metadata": {
  "kernelspec": {
   "display_name": "Python 3",
   "language": "python",
   "name": "python3"
  },
  "language_info": {
   "codemirror_mode": {
    "name": "ipython",
    "version": 3
   },
   "file_extension": ".py",
   "mimetype": "text/x-python",
   "name": "python",
   "nbconvert_exporter": "python",
   "pygments_lexer": "ipython3",
   "version": "3.11.2"
  },
  "orig_nbformat": 4
 },
 "nbformat": 4,
 "nbformat_minor": 2
}
