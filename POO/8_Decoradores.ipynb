{
 "cells": [
  {
   "cell_type": "markdown",
   "metadata": {},
   "source": [
    "# ***Decoradores***\n",
    "\n",
    "❓ ***Que es?*** *Los decoradores son funciones que toman otra función como argumento y retornan una nueva función con algún comportamiento adicional o modificado.*\n",
    "\n",
    "✅ ***Sirve para definir los getters y setters de una manera mas sencilla y entendible***\n",
    "\n",
    "💡 ***Estructura:*** *@nombre_del_decorador (Justo antes de la definición de una función).*\n",
    "\n",
    "> ### ☢️ ***Manera no optima***"
   ]
  },
  {
   "cell_type": "code",
   "execution_count": 1,
   "metadata": {},
   "outputs": [
    {
     "name": "stdout",
     "output_type": "stream",
     "text": [
      "Antes de llamar a la funcion\n",
      "Hola Daniel\n",
      "Despues de llamar a la funcion\n"
     ]
    }
   ],
   "source": [
    "#Te pide como parametro el nombre de una funcion\n",
    "def decorador(funcion):\n",
    "    def funcion_modificada():\n",
    "        print(\"Antes de llamar a la funcion\")\n",
    "        #Ejecuta la funcion que le pasas como parametro al incio\n",
    "        funcion()\n",
    "        print(\"Despues de llamar a la funcion\")\n",
    "    return funcion_modificada\n",
    "\n",
    "#Creamos un metodo\n",
    "def saludo():\n",
    "    print(\"Hola Daniel\")\n",
    "\n",
    "#Almacena en una nueva variable una funcion\n",
    "#nueva_variable = nombre_decorador(metodo)\n",
    "#(metodo): Le vas a pasar el metodo a la funcion y se va a agregar su codigo\n",
    "saludo_modificado = decorador(saludo)\n",
    "\n",
    "#Llamamos a la variable que almaceno a la funcion\n",
    "#La llamas como si fuera un metodo\n",
    "saludo_modificado()"
   ]
  },
  {
   "cell_type": "markdown",
   "metadata": {},
   "source": [
    "> ### ☢️ ***Manera optima***"
   ]
  },
  {
   "cell_type": "code",
   "execution_count": 20,
   "metadata": {},
   "outputs": [
    {
     "name": "stdout",
     "output_type": "stream",
     "text": [
      "Antes de llamar a la funcion\n",
      "Hola Daniel, como andas\n",
      "Despues de llamar a la funcion\n"
     ]
    }
   ],
   "source": [
    "#Te pide como parametro el nombre de una funcion\n",
    "def decorador(funcion):\n",
    "    def funcion_modificada():\n",
    "        print(\"Antes de llamar a la funcion\")\n",
    "        #Ejecuta la funcion que le pasas como parametro al incio\n",
    "        funcion()\n",
    "        print(\"Despues de llamar a la funcion\")\n",
    "    return funcion_modificada\n",
    "\n",
    "#Creando el decorador\n",
    "#@nombre_del_decorador de arriba\n",
    "#Metodo\n",
    "#Saludo se pasa como parametro a la funcion de inicio\n",
    "@decorador\n",
    "def saludo():\n",
    "    print(\"Hola Daniel, como andas\")\n",
    "\n",
    "#Llamando el metodo\n",
    "saludo()"
   ]
  },
  {
   "cell_type": "code",
   "execution_count": 21,
   "metadata": {},
   "outputs": [
    {
     "name": "stdout",
     "output_type": "stream",
     "text": [
      "Antes de la función\n",
      "Hola, Juan!\n",
      "Después de la función\n"
     ]
    }
   ],
   "source": [
    "def simple_decorator(func):\n",
    "    def wrapper(*args, **kwargs):\n",
    "        print(\"Antes de la función\")\n",
    "        result = func(*args, **kwargs)\n",
    "        print(\"Después de la función\")\n",
    "        return result\n",
    "    return wrapper\n",
    "\n",
    "@simple_decorator\n",
    "def greet(name):\n",
    "    print(f\"Hola, {name}!\")\n",
    "\n",
    "greet(\"Juan\")\n"
   ]
  }
 ],
 "metadata": {
  "kernelspec": {
   "display_name": "Python 3",
   "language": "python",
   "name": "python3"
  },
  "language_info": {
   "codemirror_mode": {
    "name": "ipython",
    "version": 3
   },
   "file_extension": ".py",
   "mimetype": "text/x-python",
   "name": "python",
   "nbconvert_exporter": "python",
   "pygments_lexer": "ipython3",
   "version": "3.11.2"
  },
  "orig_nbformat": 4
 },
 "nbformat": 4,
 "nbformat_minor": 2
}
