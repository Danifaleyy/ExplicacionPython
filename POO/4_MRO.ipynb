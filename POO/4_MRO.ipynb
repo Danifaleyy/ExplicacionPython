{
 "cells": [
  {
   "cell_type": "markdown",
   "metadata": {},
   "source": [
    "MRO: Es el orden en el que python busca atribuos y metodos en las clase, es importante en la herencia para sabner cual heredeara la clase hijas si hay herencia multple.\n",
    "\n",
    "Gracias a el podemos saber caundo hay una herencia multiple y las dos clses padres tienen el mismo atributo, saber cual atributo agarrara la clase hija."
   ]
  }
 ],
 "metadata": {
  "language_info": {
   "name": "python"
  },
  "orig_nbformat": 4
 },
 "nbformat": 4,
 "nbformat_minor": 2
}
