{
 "cells": [
  {
   "cell_type": "markdown",
   "metadata": {},
   "source": [
    "# ***Polimorfismo***\n",
    "\n",
    "❓ ***Que es el polimorfismo?*** *Es el arte de heredar el mismo método pero en cada objeto hace una acción diferente a los otros.*"
   ]
  },
  {
   "cell_type": "code",
   "execution_count": 5,
   "metadata": {},
   "outputs": [
    {
     "name": "stdout",
     "output_type": "stream",
     "text": [
      "Miau\n",
      "Guau\n",
      "Muuu\n",
      "Meee\n"
     ]
    }
   ],
   "source": [
    "class Gato:\n",
    "    def sonido(self):\n",
    "        return \"Miau\"\n",
    "    \n",
    "class Perro:\n",
    "    def sonido(self):\n",
    "        return \"Guau\"\n",
    "\n",
    "class Vaca:\n",
    "    def sonido(self):\n",
    "        return \"Muuu\"\n",
    "\n",
    "class Obeja:\n",
    "    def sonido(self):\n",
    "        return \"Meee\"\n",
    "\n",
    "#Creando objetos\n",
    "gato = Gato()\n",
    "perro = Perro()\n",
    "vaca = Vaca()\n",
    "obeja = Obeja()\n",
    "\n",
    "#Accediendo al mismo metodo con diferentes objetos: Da un diferente resultado para cada objeto\n",
    "print(gato.sonido())\n",
    "print(perro.sonido())\n",
    "print(vaca.sonido())\n",
    "print(obeja.sonido())"
   ]
  },
  {
   "cell_type": "markdown",
   "metadata": {},
   "source": [
    "> 🟢 ***Polimorfismo de herencia:*** *En python no es obligatoriamente crear una clase padre para heredar el metodo a las clases hijas, en Java si.*"
   ]
  },
  {
   "cell_type": "code",
   "execution_count": 1,
   "metadata": {},
   "outputs": [
    {
     "name": "stdout",
     "output_type": "stream",
     "text": [
      "Miau\n",
      "Guau\n",
      "Muuu\n",
      "Meee\n"
     ]
    }
   ],
   "source": [
    "#Clase padre\n",
    "class Animal:\n",
    "    def sonido(self):\n",
    "        pass\n",
    "\n",
    "#Clase hijas\n",
    "class Gato(Animal):\n",
    "    def sonido(self):\n",
    "        return \"Miau\"\n",
    "    \n",
    "class Perro(Animal):\n",
    "    def sonido(self):\n",
    "        return \"Guau\"\n",
    "\n",
    "class Vaca(Animal):\n",
    "    def sonido(self):\n",
    "        return \"Muuu\"\n",
    "\n",
    "class Obeja(Animal):\n",
    "    def sonido(self):\n",
    "        return \"Meee\"\n",
    "\n",
    "def hacer_sonido(animal):\n",
    "    print(animal.sonido())\n",
    "\n",
    "#Creando objetos\n",
    "gato = Gato()\n",
    "perro = Perro()\n",
    "vaca = Vaca()\n",
    "obeja = Obeja()\n",
    "\n",
    "#Estructura: metodo(objeto)\n",
    "hacer_sonido(gato)\n",
    "hacer_sonido(perro)\n",
    "hacer_sonido(vaca)\n",
    "hacer_sonido(obeja)\n"
   ]
  },
  {
   "cell_type": "code",
   "execution_count": 2,
   "metadata": {},
   "outputs": [
    {
     "name": "stdout",
     "output_type": "stream",
     "text": [
      "Miau\n",
      "Guau\n",
      "Muuu\n",
      "Meee\n"
     ]
    }
   ],
   "source": [
    "#Clase padre\n",
    "class Animal:\n",
    "    def sonido(self):\n",
    "        pass\n",
    "\n",
    "#Clase hijas\n",
    "class Gato(Animal):\n",
    "    def sonido(self):\n",
    "        return \"Miau\"\n",
    "    \n",
    "class Perro(Animal):\n",
    "    def sonido(self):\n",
    "        return \"Guau\"\n",
    "\n",
    "class Vaca(Animal):\n",
    "    def sonido(self):\n",
    "        return \"Muuu\"\n",
    "\n",
    "class Obeja(Animal):\n",
    "    def sonido(self):\n",
    "        return \"Meee\"\n",
    "\n",
    "#Creando objetos\n",
    "gato = Gato()\n",
    "perro = Perro()\n",
    "vaca = Vaca()\n",
    "obeja = Obeja()\n",
    "\n",
    "#Accediendo al mismo metodo con diferentes objetos: Da un diferente resultado para cada objeto\n",
    "print(gato.sonido())\n",
    "print(perro.sonido())\n",
    "print(vaca.sonido())\n",
    "print(obeja.sonido())\n"
   ]
  }
 ],
 "metadata": {
  "kernelspec": {
   "display_name": "Python 3",
   "language": "python",
   "name": "python3"
  },
  "language_info": {
   "codemirror_mode": {
    "name": "ipython",
    "version": 3
   },
   "file_extension": ".py",
   "mimetype": "text/x-python",
   "name": "python",
   "nbconvert_exporter": "python",
   "pygments_lexer": "ipython3",
   "version": "3.11.2"
  },
  "orig_nbformat": 4
 },
 "nbformat": 4,
 "nbformat_minor": 2
}
