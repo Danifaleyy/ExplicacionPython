{
 "cells": [
  {
   "cell_type": "markdown",
   "metadata": {},
   "source": [
    "# ***Clases abstractas***\n",
    "\n",
    "❓ ***Que es?*** *Es una clase que no se puede instanciar directamente y se utiliza como una plantilla para otras clases. La principal característica de una clase abstracta es que puede definir métodos sin implementarlos completamente (Que los metodos no tengan codigo dentro de ellos). Estos métodos abstractos deben ser implementados en las clases que hereden de la clase abstracta.*\n",
    "\n",
    "☢️ *Las clase abstractas obligan a las clases hijas que implementen los metodos obligatoriamente, sino te dara ERROR*\n",
    "\n",
    "✖️ ***No podemos crear objetos apartir de un clase abstracta***"
   ]
  },
  {
   "cell_type": "code",
   "execution_count": 2,
   "metadata": {},
   "outputs": [
    {
     "ename": "TypeError",
     "evalue": "Can't instantiate abstract class Persona with abstract methods __init__, trabajar",
     "output_type": "error",
     "traceback": [
      "\u001b[1;31m---------------------------------------------------------------------------\u001b[0m",
      "\u001b[1;31mTypeError\u001b[0m                                 Traceback (most recent call last)",
      "Cell \u001b[1;32mIn[2], line 23\u001b[0m\n\u001b[0;32m     20\u001b[0m     \u001b[39mdef\u001b[39;00m \u001b[39mpresentarse\u001b[39m(\u001b[39mself\u001b[39m):\n\u001b[0;32m     21\u001b[0m         \u001b[39mprint\u001b[39m(\u001b[39mf\u001b[39m\u001b[39m\"\u001b[39m\u001b[39mHola me llamo \u001b[39m\u001b[39m{\u001b[39;00m\u001b[39mself\u001b[39m\u001b[39m.\u001b[39mnombre\u001b[39m}\u001b[39;00m\u001b[39m, mi edad es de \u001b[39m\u001b[39m{\u001b[39;00m\u001b[39mself\u001b[39m\u001b[39m.\u001b[39medad\u001b[39m}\u001b[39;00m\u001b[39m años, soy de genero \u001b[39m\u001b[39m{\u001b[39;00m\u001b[39mself\u001b[39m\u001b[39m.\u001b[39msexo\u001b[39m}\u001b[39;00m\u001b[39m\"\u001b[39m)\n\u001b[1;32m---> 23\u001b[0m dalto \u001b[39m=\u001b[39m Persona(\u001b[39m\"\u001b[39;49m\u001b[39mDaniel\u001b[39;49m\u001b[39m\"\u001b[39;49m, \u001b[39m21\u001b[39;49m, \u001b[39m\"\u001b[39;49m\u001b[39mHombre\u001b[39;49m\u001b[39m\"\u001b[39;49m)\n",
      "\u001b[1;31mTypeError\u001b[0m: Can't instantiate abstract class Persona with abstract methods __init__, trabajar"
     ]
    }
   ],
   "source": [
    "#Debes de importar esto para hacer una clase abstracta\n",
    "#abstractclassmethod: Es un decorador que indica que la clase es una clase abstracta\n",
    "from abc import ABC, abstractclassmethod\n",
    "\n",
    "#Creando la clase abstracta\n",
    "class Persona(ABC):\n",
    "    #Con este metodo indicas que crearas un metodo abstracto\n",
    "    @abstractclassmethod\n",
    "    def __init__(self, nombre, edad, sexo):\n",
    "        self.nombre = nombre\n",
    "        self.edad = edad\n",
    "        self.sexo = sexo\n",
    "    \n",
    "    #Con este metodo indicas que crearas un metodo abstracto: No le poenes codigo dentro del metodo porque no lo debes de implementar en una clase abstracta\n",
    "    @abstractclassmethod\n",
    "    def trabajar(self):\n",
    "        pass\n",
    "    \n",
    "    #Creamos uin metodo sin que sea abstracto\n",
    "    def presentarse(self):\n",
    "        print(f\"Hola me llamo {self.nombre}, mi edad es de {self.edad} años, soy de genero {self.sexo}\")\n",
    "\n",
    "#No se puede crear un objeto apartir de una clase abstracta\n",
    "dalto = Persona(\"Daniel\", 21, \"Hombre\")"
   ]
  },
  {
   "cell_type": "markdown",
   "metadata": {},
   "source": [
    "✅ ***Cada metodo se implemento de manera diferente para cada clase***"
   ]
  },
  {
   "cell_type": "code",
   "execution_count": 19,
   "metadata": {},
   "outputs": [
    {
     "name": "stdout",
     "output_type": "stream",
     "text": [
      "Hola me llamo Dalto, mi edad es de 21 años, soy de genero Hombre\n",
      "Estoy estudiando: Programacion\n",
      "Hola me llamo Daniel, mi edad es de 30 años, soy de genero Hombre\n",
      "Actualmente estoy trabajando en el area de: CEO\n"
     ]
    }
   ],
   "source": [
    "class Persona(ABC):\n",
    "    #Con este metodo indicas que crearas un metodo abstracto\n",
    "    @abstractclassmethod\n",
    "    def __init__(self, nombre, edad, sexo, actividad):\n",
    "        self.nombre = nombre\n",
    "        self.edad = edad\n",
    "        self.sexo = sexo\n",
    "        self.actividad = actividad\n",
    "    \n",
    "    #Con este metodo indicas que crearas un metodo abstracto: No le poenes codigo dentro del metodo porque no lo debes de implementar en una clase abstracta\n",
    "    @abstractclassmethod\n",
    "    def hacer_actividad(self):\n",
    "        pass\n",
    "    \n",
    "    #Creamos uin metodo sin que sea abstracto\n",
    "    def presentarse(self):\n",
    "        print(f\"Hola me llamo {self.nombre}, mi edad es de {self.edad} años, soy de genero {self.sexo}\")\n",
    "\n",
    "#No se puede crear un objeto apartir de una clase abstracta\n",
    "#dalto = Persona(\"Daniel\", 21, \"Hombre\")\n",
    "\n",
    "#Clase hija\n",
    "class Estudiante(Persona):\n",
    "    def __init__(self, nombre, edad, sexo, actividad):\n",
    "        super().__init__(nombre, edad, sexo, actividad)\n",
    "    \n",
    "    def hacer_actividad(self):\n",
    "        print(f\"Estoy estudiando: {self.actividad}\")\n",
    "\n",
    "#Si se puede crear un objeto de una clase que hereda la clase abstracta\n",
    "dalto = Estudiante(\"Dalto\", 21, \"Hombre\", \"Programacion\")\n",
    "dalto.presentarse()\n",
    "dalto.hacer_actividad()\n",
    "\n",
    "#Clase hija\n",
    "class Trabajador(Persona):\n",
    "    def __init__(self, nombre, edad, sexo, actividad):\n",
    "        super().__init__(nombre, edad, sexo, actividad)\n",
    "    \n",
    "    def hacer_actividad(self):\n",
    "        print(f\"Actualmente estoy trabajando en el area de: {self.actividad}\")\n",
    "        \n",
    "#Si se puede crear un objeto de una clase que hereda la clase abstracta\n",
    "daniel = Trabajador(\"Daniel\", 30, \"Hombre\", \"CEO\")\n",
    "daniel.presentarse()\n",
    "daniel.hacer_actividad()"
   ]
  }
 ],
 "metadata": {
  "kernelspec": {
   "display_name": "Python 3",
   "language": "python",
   "name": "python3"
  },
  "language_info": {
   "codemirror_mode": {
    "name": "ipython",
    "version": 3
   },
   "file_extension": ".py",
   "mimetype": "text/x-python",
   "name": "python",
   "nbconvert_exporter": "python",
   "pygments_lexer": "ipython3",
   "version": "3.11.2"
  },
  "orig_nbformat": 4
 },
 "nbformat": 4,
 "nbformat_minor": 2
}
