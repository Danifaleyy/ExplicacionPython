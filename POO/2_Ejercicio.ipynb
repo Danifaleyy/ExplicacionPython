{
 "cells": [
  {
   "attachments": {},
   "cell_type": "markdown",
   "metadata": {},
   "source": [
    "# ***Ejercicio***\n",
    "\n",
    "> ### 🟢 ***Sin interaccion del usuario***"
   ]
  },
  {
   "cell_type": "code",
   "execution_count": 1,
   "metadata": {},
   "outputs": [
    {
     "name": "stdout",
     "output_type": "stream",
     "text": [
      "Daniel\n",
      "21\n",
      "3\n"
     ]
    }
   ],
   "source": [
    "#Creando la clase Estudiante\n",
    "class Estudiante:\n",
    "    def __init__(self, nombre, edad, grado):\n",
    "        #Definir atributos\n",
    "        #self.atributo = atributo\n",
    "        self.nombre = nombre\n",
    "        self.edad = edad\n",
    "        self.grado = grado\n",
    "\n",
    "#Creando un objeto de la clase: Le tienes que pasar la misma cantidad de valores al objeto que la misma cantidad de atributos que tiene el objeto, si no te dara error.\n",
    "#nombre_objeto = NombreClase(valor_atributo, valor_atributo, valor_atributo...)\n",
    "alumno1 = Estudiante(\"Daniel\", 21, 3)\n",
    "\n",
    "#Imprimiendo los valores de cada atributo del objeto\n",
    "print(alumno1.nombre)\n",
    "print(alumno1.edad)\n",
    "print(alumno1.grado)"
   ]
  },
  {
   "cell_type": "markdown",
   "metadata": {},
   "source": [
    "> ### 🟢 ***Con respuestas del usuario***"
   ]
  },
  {
   "cell_type": "code",
   "execution_count": 11,
   "metadata": {},
   "outputs": [
    {
     "name": "stdout",
     "output_type": "stream",
     "text": [
      "\n",
      "        El estudiante se llama: Daniel\n",
      "        La edad del estudiante Daniel es de: 2\n",
      "        El grado que cursa el estudiante Daniel: 2\n",
      "      \n",
      "No esta estudiando\n"
     ]
    }
   ],
   "source": [
    "#Creando la clase Estudiante\n",
    "class Estudiante:\n",
    "    def __init__(self, nombre, edad, grado):\n",
    "        #Definir atributos\n",
    "        #self.atributo = atributo\n",
    "        self.nombre = nombre\n",
    "        self.edad = edad\n",
    "        self.grado = grado\n",
    "    \n",
    "    #Creando el metodo estudiar\n",
    "    def estudiar(self):\n",
    "        print(\"Estudiando...\")\n",
    "\n",
    "\n",
    "#Pidiendole que ingrese los valores de los atributos al usuario\n",
    "nombre = input(\"Ingresa tu nombre: \")\n",
    "edad = input(\"Ingresa tu edad: \")\n",
    "grado = input(\"Ingresa tu grado: \")\n",
    "\n",
    "#Creando un objeto de la clase: Le tienes que pasar la misma cantidad de valores al objeto que la misma cantidad de atributos que tiene el objeto, si no te dara error.\n",
    "#nombre_objeto = NombreClase(valor_atributo, valor_atributo, valor_atributo...)\n",
    "#Los atributos del objeto lo tienes que volver a poner dentro del parentesis\n",
    "alumno1 = Estudiante(nombre, edad, grado)\n",
    "\n",
    "#Imprimiendo los valores\n",
    "print(f\"\"\"\n",
    "        El estudiante se llama: {alumno1.nombre}\n",
    "        La edad del estudiante {alumno1.nombre} es de: {alumno1.edad}\n",
    "        El grado que cursa el estudiante {alumno1.nombre}: {alumno1.grado}\n",
    "      \"\"\")\n",
    "\n",
    "estudiar = input()\n",
    "#Metodo .lower: Es para volver un texto a minuscula \n",
    "if(estudiar.lower() == \"estudiando...\"):\n",
    "    alumno1.estudiar\n",
    "else:\n",
    "    print(\"No esta estudiando\")"
   ]
  }
 ],
 "metadata": {
  "kernelspec": {
   "display_name": "Python 3",
   "language": "python",
   "name": "python3"
  },
  "language_info": {
   "codemirror_mode": {
    "name": "ipython",
    "version": 3
   },
   "file_extension": ".py",
   "mimetype": "text/x-python",
   "name": "python",
   "nbconvert_exporter": "python",
   "pygments_lexer": "ipython3",
   "version": "3.11.2"
  },
  "orig_nbformat": 4
 },
 "nbformat": 4,
 "nbformat_minor": 2
}
