{
 "cells": [
  {
   "cell_type": "markdown",
   "metadata": {},
   "source": [
    "# ***Encapsulamiento***\n",
    "\n",
    "❓ ***Que es?*** *Ayuda a mantener la integridad de los datos y controlar el acceso a ellos para evitar cambios no autorizados o inconsistencias en el estado del objeto.*\n",
    "\n",
    "🟢 ***Niveles de encapsulamiento:***\n",
    "\n",
    "🟡 ***Publico: Los atributos y métodos públicos son accesibles desde cualquier parte del programa.***\n",
    "\n",
    "🟡 ***Privado: En realidad no es privado, puedes ingresar a los atributos y metodos facilmente, solamente sirve para indicarle al desarrollador que deberia de tratarlo como un atributo privado***\n",
    "\n",
    "🟡 ***Muy privado: Este si es privado de verdad pero aun puedes acceder a sus atributos y metodos con get y set***\n",
    "\n",
    "> ### ☢️ ***Atributos privados:***\n",
    "\n",
    "❓ *Los atributos y métodos protegidos se indican utilizando un único guión bajo (un guión bajo al principio) antes de su nombre.*\n",
    "\n",
    "💡 ***Estructura:*** *self._nombreatributo = valor*"
   ]
  },
  {
   "cell_type": "code",
   "execution_count": 7,
   "metadata": {},
   "outputs": [
    {
     "name": "stdout",
     "output_type": "stream",
     "text": [
      "Daniel\n"
     ]
    }
   ],
   "source": [
    "#Creando la clase\n",
    "class MiClase:\n",
    "    def __init__(self):\n",
    "        #(self._nombreatributo): Es un atributo privado, lo indica 1 guion\n",
    "        self._atributoprivadosimple = \"Daniel\"\n",
    "        \n",
    "#Accediendo:\n",
    "objeto = MiClase()\n",
    "print(objeto._atributoprivadosimple)"
   ]
  },
  {
   "cell_type": "code",
   "execution_count": 3,
   "metadata": {},
   "outputs": [
    {
     "name": "stdout",
     "output_type": "stream",
     "text": [
      "Hola como estas\n",
      "None\n"
     ]
    }
   ],
   "source": [
    "class MiClase:\n",
    "    def __init__(self):\n",
    "        # (self._nombreatributo): Este si es privado de verda\n",
    "        self._atributoprivadosimple = \"Daniel\"\n",
    "    \n",
    "    #METODO PRIVADO\n",
    "    def _hablar(self):\n",
    "        print(\"Hola como estas\")\n",
    "        \n",
    "#Accediendo:\n",
    "objeto = MiClase()\n",
    "print(objeto._hablar())"
   ]
  },
  {
   "cell_type": "markdown",
   "metadata": {},
   "source": [
    "> ### ☢️ ***Atributos muy privados:***\n",
    "\n",
    "❓ *Los atributos y métodos privados se indican utilizando dos guiones bajos (doble guión bajo al principio) antes de su nombre.*\n",
    "\n",
    "💡 ***IMPORTANTE:*** *Te dara ERROR si intentas acceder a algun atributo o metodo, debes de utilizar get o set para ingresar a ellos*\n",
    "\n",
    "💡 ***Estructura:*** *self.__nombreatributo = valor*"
   ]
  },
  {
   "cell_type": "code",
   "execution_count": 4,
   "metadata": {},
   "outputs": [
    {
     "ename": "AttributeError",
     "evalue": "'MiClase' object has no attribute '__atributoprivadosimple'",
     "output_type": "error",
     "traceback": [
      "\u001b[1;31m---------------------------------------------------------------------------\u001b[0m",
      "\u001b[1;31mAttributeError\u001b[0m                            Traceback (most recent call last)",
      "Cell \u001b[1;32mIn[4], line 8\u001b[0m\n\u001b[0;32m      6\u001b[0m \u001b[39m#Accediendo:\u001b[39;00m\n\u001b[0;32m      7\u001b[0m objeto \u001b[39m=\u001b[39m MiClase()\n\u001b[1;32m----> 8\u001b[0m \u001b[39mprint\u001b[39m(objeto\u001b[39m.\u001b[39;49m__atributoprivadosimple)\n",
      "\u001b[1;31mAttributeError\u001b[0m: 'MiClase' object has no attribute '__atributoprivadosimple'"
     ]
    }
   ],
   "source": [
    "class MiClase:\n",
    "    def __init__(self):\n",
    "        # (self.__nombreatributo): Este si es privado de verda\n",
    "        self.__atributoprivadosimple = \"Daniel\"\n",
    "        \n",
    "#Accediendo:\n",
    "objeto = MiClase()\n",
    "print(objeto.__atributoprivadosimple)"
   ]
  },
  {
   "cell_type": "code",
   "execution_count": 2,
   "metadata": {},
   "outputs": [
    {
     "ename": "AttributeError",
     "evalue": "'MiClase' object has no attribute '__hablar'",
     "output_type": "error",
     "traceback": [
      "\u001b[1;31m---------------------------------------------------------------------------\u001b[0m",
      "\u001b[1;31mAttributeError\u001b[0m                            Traceback (most recent call last)",
      "Cell \u001b[1;32mIn[2], line 12\u001b[0m\n\u001b[0;32m     10\u001b[0m \u001b[39m#Accediendo:\u001b[39;00m\n\u001b[0;32m     11\u001b[0m objeto \u001b[39m=\u001b[39m MiClase()\n\u001b[1;32m---> 12\u001b[0m \u001b[39mprint\u001b[39m(objeto\u001b[39m.\u001b[39;49m__hablar)\n",
      "\u001b[1;31mAttributeError\u001b[0m: 'MiClase' object has no attribute '__hablar'"
     ]
    }
   ],
   "source": [
    "class MiClase:\n",
    "    def __init__(self):\n",
    "        # (self.__nombreatributo): Este si es privado de verda\n",
    "        self.__atributoprivadosimple = \"Daniel\"\n",
    "    \n",
    "    #METODO PRIVADO\n",
    "    def __hablar(self):\n",
    "        print(\"Hola como estas\")\n",
    "        \n",
    "#Accediendo:\n",
    "objeto = MiClase()\n",
    "print(objeto.__hablar)"
   ]
  },
  {
   "cell_type": "markdown",
   "metadata": {},
   "source": [
    "> ##### ☢️ ***Getters y setters: Como acceder a los atributos y metodos***\n",
    "\n",
    "💡 ***Se utilizan los metodos get() y set()***\n",
    "\n",
    "🟡 ***Get:*** *Te permite ver el valor de una variable muy privada*\n",
    "\n",
    "🟡 ***Set:*** *Te permite modificar o poner el valor de una variable muy privada*\n",
    "\n",
    "> ##### 🔴 ***Usando get:***\n",
    "\n",
    "> ✅ ***Atributos y metodos privados (Un guion antes del nombre)***"
   ]
  },
  {
   "cell_type": "code",
   "execution_count": 8,
   "metadata": {},
   "outputs": [
    {
     "name": "stdout",
     "output_type": "stream",
     "text": [
      "Daniel\n"
     ]
    }
   ],
   "source": [
    "#Creamos la clase\n",
    "class Persona:\n",
    "    def __init__(self, nombre, edad):\n",
    "        #Creando atributos muy privados\n",
    "        #Estructura: self.__nombreatributo = valor\n",
    "        self._nombre = nombre\n",
    "        self._edad = edad\n",
    "    \n",
    "    #Creando un metodo get: Para obetener el valor de un atributo\n",
    "    #Get: obtener el valor de una variable\n",
    "    #Estructura: def get_nombreatributo(self):\n",
    "    #return self._nombreatributo\n",
    "    def get_nombre(self):\n",
    "        return self._nombre\n",
    "\n",
    "#Creamos un objeto de la clase\n",
    "daniel = Persona(\"Daniel\", 21)\n",
    "\n",
    "#Accediendo al atributo del objeto\n",
    "#Para obtener el valor de la variable se crea una varibale donde se almacenara el varlo para poder verlo\n",
    "#Estructura: nueva_variable = objeto.get_atributo()\n",
    "nombre_almacenado = daniel.get_nombre()\n",
    "print(nombre_almacenado)"
   ]
  },
  {
   "cell_type": "markdown",
   "metadata": {},
   "source": [
    "> ✅ ***Atributos y metodos MUY privados (2 guiones antes del nombre)***"
   ]
  },
  {
   "cell_type": "code",
   "execution_count": 1,
   "metadata": {},
   "outputs": [
    {
     "name": "stdout",
     "output_type": "stream",
     "text": [
      "Daniel\n"
     ]
    }
   ],
   "source": [
    "#Creamos la clase\n",
    "class Persona:\n",
    "    def __init__(self, nombre, edad):\n",
    "        #Creando atributos muy privados\n",
    "        #Estructura: self.__nombreatributo = valor\n",
    "        self.__nombre = nombre\n",
    "        self.__edad = edad\n",
    "    \n",
    "    #Creando un metodo get: Para obetener el valor de un atributo\n",
    "    #Get: obtener el valor de una variable\n",
    "    #Estructura: def get_nombreatributo(self):\n",
    "    #return self._nombreatributo\n",
    "    def get_nombre(self):\n",
    "        return self.__nombre\n",
    "\n",
    "#Creamos un objeto de la clase\n",
    "daniel = Persona(\"Daniel\", 21)\n",
    "\n",
    "#Accediendo al atributo del objeto\n",
    "#Para obtener el valor de la variable se crea una varibale donde se almacenara el varlo para poder verlo\n",
    "#Estructura: nueva_variable = objeto.get_atributo()\n",
    "nombre_almacenado = daniel.get_nombre()\n",
    "print(nombre_almacenado)"
   ]
  },
  {
   "cell_type": "markdown",
   "metadata": {},
   "source": [
    "> ##### 🔴 ***Usando set:***\n",
    "\n",
    "> ✅ ***Atributos y metodos MUY privados (2 guiones antes del nombre)***"
   ]
  },
  {
   "cell_type": "code",
   "execution_count": 7,
   "metadata": {},
   "outputs": [
    {
     "name": "stdout",
     "output_type": "stream",
     "text": [
      "Lucas\n",
      "Pepito\n"
     ]
    }
   ],
   "source": [
    "#Creando clase\n",
    "class Persona:\n",
    "    def __init__(self, nombre, edad):\n",
    "        #Creando atributos muy privados\n",
    "        #Estructura: self.__nombreatributo = valor\n",
    "        self.__nombre = nombre\n",
    "        self.__edad = edad\n",
    "\n",
    "    #Creando un metodo get: Para obetener el valor de un atributo\n",
    "    #Get: obtener el valor de una variable\n",
    "    #Estructura: def get_nombreatributo(self):\n",
    "    #return self._nombreatributo\n",
    "    def get_nombre(self):\n",
    "        return self.__nombre\n",
    "    \n",
    "    #Creando el metodo set: Para modificar o asignar el valor de una variable\n",
    "    #Estructura: def set_nombreatributo(self, nueva_variable)\n",
    "    #self.nombreatributo = nueva_variable\n",
    "    #La nueva variable: Es la que almacenara el valor\n",
    "    def set_nombre(self, new_nombre):\n",
    "        self.__nombre = new_nombre\n",
    "\n",
    "#Creamos un objeto de la clase\n",
    "lucas = Persona(\"Lucas\", 21)\n",
    "\n",
    "#Accediendo al atributo del objeto\n",
    "#Para obtener el valor de la variable se crea una varibale donde se almacenara el varlo para poder verlo\n",
    "#Estructura: nueva_variable = objeto.get_atributo()\n",
    "nombre_almacenado = lucas.get_nombre()\n",
    "print(nombre_almacenado)\n",
    "\n",
    "#Modificando el valor de una variable MUY privada\n",
    "#Estructura: objeto.set_nombreatributo(valor_nuevo)\n",
    "#nombreatributo = objeto.get_nombreatributo()\n",
    "lucas.set_nombre(\"Pepito\")\n",
    "nombre_almacenado = lucas.get_nombre()\n",
    "print(nombre_almacenado)"
   ]
  }
 ],
 "metadata": {
  "kernelspec": {
   "display_name": "Python 3",
   "language": "python",
   "name": "python3"
  },
  "language_info": {
   "codemirror_mode": {
    "name": "ipython",
    "version": 3
   },
   "file_extension": ".py",
   "mimetype": "text/x-python",
   "name": "python",
   "nbconvert_exporter": "python",
   "pygments_lexer": "ipython3",
   "version": "3.11.2"
  },
  "orig_nbformat": 4
 },
 "nbformat": 4,
 "nbformat_minor": 2
}
