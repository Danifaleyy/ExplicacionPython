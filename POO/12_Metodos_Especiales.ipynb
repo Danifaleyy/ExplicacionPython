{
 "cells": [
  {
   "cell_type": "markdown",
   "metadata": {},
   "source": [
    "# ***Metodos especiales***\n",
    "\n",
    "❓ ***Que son?*** *Es una funcion que tienen un nombre especial reservado*\n",
    "\n",
    "💡 ***El nombre del metodo especial empieza con 2 guiones bajos y termina con 2 guiones bajos:*** *(__metodo__)*\n",
    "\n",
    "✅ *Fueron creados para hacer funcionalidades especiales que con metodos normales no podrias realizarlas.*"
   ]
  },
  {
   "cell_type": "code",
   "execution_count": 12,
   "metadata": {},
   "outputs": [
    {
     "name": "stdout",
     "output_type": "stream",
     "text": [
      "Persona(nombre=Daniel, edad=21)\n",
      "Persona(Daniel,21)\n"
     ]
    }
   ],
   "source": [
    "class Persona:\n",
    "    def __init__(self, nombre, edad):\n",
    "        self.nombre = nombre\n",
    "        self.edad = edad\n",
    "    #Este metodo devuelve la representacion del metodo en texto\n",
    "    def __str__(self):\n",
    "        return f\"Persona(nombre={self.nombre}, edad={self.edad})\"\n",
    "    #Este metodo recrea el objeto\n",
    "    def __repr__(self):\n",
    "        return f\"Persona({self.nombre},{self.edad})\"\n",
    "    \n",
    "daniel = Persona(\"Daniel\", 21)\n",
    "print(daniel)\n",
    "representacion = repr(daniel)\n",
    "print(representacion)"
   ]
  },
  {
   "cell_type": "markdown",
   "metadata": {},
   "source": [
    "> ### ☢️ ***Sobrecarga de operadores***\n",
    "\n",
    "❓ ***Que es?*** *Capacidad de definir cómo funcionarán los operadores integrados en Python, como +, -, *, /, ==, >, <, entre otros, para objetos de clases personalizadas. Esto te permite definir el comportamiento de estos operadores cuando se aplican a objetos que has creado.*\n",
    "\n",
    "💡 *Todo en python es un objeto, entonces hay una clase oculta*"
   ]
  },
  {
   "cell_type": "code",
   "execution_count": 18,
   "metadata": {},
   "outputs": [
    {
     "name": "stdout",
     "output_type": "stream",
     "text": [
      "Persona(nombre=Daniel, edad=21)\n",
      "Persona(Daniel,21)\n",
      "DanielJesus\n",
      "51\n"
     ]
    }
   ],
   "source": [
    "class Persona:\n",
    "    def __init__(self, nombre, edad):\n",
    "        self.nombre = nombre\n",
    "        self.edad = edad\n",
    "    #Este metodo devuelve la representacion del metodo en texto\n",
    "    def __str__(self):\n",
    "        return f\"Persona(nombre={self.nombre}, edad={self.edad})\"\n",
    "    #Este metodo recrea el objeto\n",
    "    def __repr__(self):\n",
    "        return f\"Persona({self.nombre},{self.edad})\"\n",
    "    #Sobrecarga de operadores\n",
    "    #otro: Hace referencia al otro objeto que quieres sumarle\n",
    "    def __add__(self, otro):\n",
    "        nuevo_valor = self.edad + otro.edad\n",
    "        return Persona(self.nombre + otro.nombre, nuevo_valor)\n",
    "                \n",
    "jesus = Persona(\"Jesus\", 30)\n",
    "daniel = Persona(\"Daniel\", 21)\n",
    "print(daniel)\n",
    "representacion = repr(daniel)\n",
    "print(representacion)\n",
    "#Definiste como se va a comportar el objeto cuando lo sumes\n",
    "nueva_persona = daniel + jesus\n",
    "print(nueva_persona.nombre)\n",
    "print(nueva_persona.edad)"
   ]
  }
 ],
 "metadata": {
  "kernelspec": {
   "display_name": "Python 3",
   "language": "python",
   "name": "python3"
  },
  "language_info": {
   "codemirror_mode": {
    "name": "ipython",
    "version": 3
   },
   "file_extension": ".py",
   "mimetype": "text/x-python",
   "name": "python",
   "nbconvert_exporter": "python",
   "pygments_lexer": "ipython3",
   "version": "3.11.2"
  },
  "orig_nbformat": 4
 },
 "nbformat": 4,
 "nbformat_minor": 2
}
