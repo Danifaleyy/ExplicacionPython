{
 "cells": [
  {
   "attachments": {},
   "cell_type": "markdown",
   "metadata": {},
   "source": [
    "# ***Teoria de Numpy***\n",
    "\n",
    "💡 ***¿Que es?*** *Es una biblioteca de python que se utiliza para trabajar con matrices, significa Python numérico.*\n",
    "\n",
    "> ###  ⚠️ ***¿Por qué usar NumPy en vez de listas?***\n",
    "\n",
    "🔴 ***En Python tenemos listas que cumplen el propósito de matrices, pero son lentas de procesar.***\n",
    "\n",
    "🟢 ***NumPy tiene como objetivo proporcionar un objeto de matriz que es hasta 50 veces más rápido que las listas tradicionales de Python.***\n",
    "\n",
    "🟢 ***El objeto de matriz en NumPy se llama (ndarray), proporciona muchas funciones de soporte que hacen que trabajar con él sea muy fácil.***\n",
    "\n",
    "🟢 ***Las matrices se utilizan con mucha frecuencia en la ciencia de datos, donde la velocidad y los recursos son muy importantes.***\n",
    "\n",
    "> ###  ⚠️ ***¿Por qué NumPy es más rápido que usar las listas?***\n",
    "\n",
    "🟢 ***Las matrices NumPy se almacenan en un lugar continuo en la memoria, a diferencia de las listas, por lo que los procesos pueden acceder a ellas y manipularlas de manera muy eficiente.***\n",
    "\n",
    "❓ ***Este comportamiento se denomina localidad de referencia en informática.***\n",
    "\n",
    "🟢 ***Esta es la razón principal por la que NumPy es más rápido que las listas. También está optimizado para trabajar con las últimas arquitecturas de CPU.***"
   ]
  }
 ],
 "metadata": {
  "language_info": {
   "name": "python"
  },
  "orig_nbformat": 4
 },
 "nbformat": 4,
 "nbformat_minor": 2
}
