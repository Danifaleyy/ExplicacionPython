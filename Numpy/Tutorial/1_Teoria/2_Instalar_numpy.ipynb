{
 "cells": [
  {
   "attachments": {},
   "cell_type": "markdown",
   "metadata": {},
   "source": [
    "# ***Como instalar numpy***\n",
    "\n",
    "> ###  ⚠️ ***Pasos para instalar***\n",
    "\n",
    "🟢 ***1- abre la consola***\n",
    "\n",
    "🟢 ***2- ingresa en la consola: pip install numpy***\n",
    "\n",
    "> ###  ⚠️ ***Importar numpy -- Como utilizar numpy***\n",
    "\n",
    "🟡 ***Ya que este instaldo, lo debes de importar en el documento que estes trabajando y ya podras trabjar con esta libreria***\n",
    "\n",
    "☢️ ***La primera linea debes de poner: import numpy***"
   ]
  },
  {
   "cell_type": "code",
   "execution_count": 1,
   "metadata": {},
   "outputs": [
    {
     "name": "stdout",
     "output_type": "stream",
     "text": [
      "[1 2 3 4 5]\n"
     ]
    }
   ],
   "source": [
    "#Ya puedes utilizar la libreria en tu codigo al momento de importarla\n",
    "import numpy\n",
    "arr = numpy.array([1, 2, 3, 4, 5])\n",
    "print(arr)"
   ]
  },
  {
   "attachments": {},
   "cell_type": "markdown",
   "metadata": {},
   "source": [
    "> ###  ⚠️ ***Importar numpy as np***\n",
    "\n",
    "🟢 ***NumPy se importa con el alis (np)***\n",
    "\n",
    "❓ ***¿Que es un alias? En Python, los alias son un nombre alternativo para referirse a lo mismo.***\n",
    "\n",
    "☢️ ***Estructura: import numpy as np***\n",
    "\n",
    "🟢 ***Ahora te referiras a numpy con el nombre (np)***"
   ]
  },
  {
   "cell_type": "code",
   "execution_count": 2,
   "metadata": {},
   "outputs": [
    {
     "name": "stdout",
     "output_type": "stream",
     "text": [
      "[1 2 3 4 5]\n"
     ]
    }
   ],
   "source": [
    "import numpy as np\n",
    "arr = np.array([1, 2, 3, 4, 5])\n",
    "print(arr)"
   ]
  },
  {
   "attachments": {},
   "cell_type": "markdown",
   "metadata": {},
   "source": [
    "> ###  ⚠️ ***Como saber que version de numpy tienes instalada***\n",
    "\n",
    "☢️ ***Estructura: print(np.__version__)***"
   ]
  },
  {
   "cell_type": "code",
   "execution_count": 3,
   "metadata": {},
   "outputs": [
    {
     "name": "stdout",
     "output_type": "stream",
     "text": [
      "1.24.2\n"
     ]
    }
   ],
   "source": [
    "import numpy as np\n",
    "print(np.__version__)"
   ]
  }
 ],
 "metadata": {
  "kernelspec": {
   "display_name": "Python 3",
   "language": "python",
   "name": "python3"
  },
  "language_info": {
   "codemirror_mode": {
    "name": "ipython",
    "version": 3
   },
   "file_extension": ".py",
   "mimetype": "text/x-python",
   "name": "python",
   "nbconvert_exporter": "python",
   "pygments_lexer": "ipython3",
   "version": "3.11.2"
  },
  "orig_nbformat": 4
 },
 "nbformat": 4,
 "nbformat_minor": 2
}
