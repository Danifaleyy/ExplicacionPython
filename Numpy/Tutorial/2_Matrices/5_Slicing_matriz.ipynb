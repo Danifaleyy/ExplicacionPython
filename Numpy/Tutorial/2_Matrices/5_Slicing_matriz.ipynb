{
 "cells": [
  {
   "attachments": {},
   "cell_type": "markdown",
   "metadata": {},
   "source": [
    "# ***Slicing (Corte) de una matriz ((ndarray)) en NumPy***\n",
    "\n",
    "> ###  ⚠️ ***Como cortar matrices (Slicing arrays): 1-D***\n",
    "\n",
    "❓ ***Cortar en python significa tomar elementos de un índice dado a otro índice dado.***\n",
    "\n",
    "        Estructura para cortar SIN saltos: [#Posicion_inical:#Posicion_final]\n",
    "\n",
    "        Estructura para cortar CON saltos: [#Posicion_inical:#Posicion_final:#Salto]\n",
    "\n",
    "❗ ***El resultado incluye siempre el elemento de la posicon final pero nunca incluye el elemento de la poscion final***\n",
    "\n",
    "> 🟢 ***Hay 3 diferentes casos:***\n",
    "\n",
    "➖ ***Si no pasamos #Posicion_inical se considera 0.***"
   ]
  },
  {
   "cell_type": "code",
   "execution_count": 3,
   "metadata": {},
   "outputs": [
    {
     "name": "stdout",
     "output_type": "stream",
     "text": [
      "[1 2 3 4]\n"
     ]
    }
   ],
   "source": [
    "#Cortar elementos desde el principio hasta el índice 4 (no incluido):\n",
    "arr = np.array([1, 2, 3, 4, 5, 6, 7])\n",
    "print(arr[:4]) #(0:4)"
   ]
  },
  {
   "attachments": {},
   "cell_type": "markdown",
   "metadata": {},
   "source": [
    "➖ ***Si no pasamos #Posicion_final se ejecutara de la #Posicion_inical que tomes hasta el ultimo elemento.***"
   ]
  },
  {
   "cell_type": "code",
   "execution_count": 2,
   "metadata": {},
   "outputs": [
    {
     "name": "stdout",
     "output_type": "stream",
     "text": [
      "[5 6 7]\n"
     ]
    }
   ],
   "source": [
    "#Corta elementos desde el índice 4 hasta el final de la matriz:\n",
    "arr = np.array([1, 2, 3, 4, 5, 6, 7])\n",
    "print(arr[4:]) #(4:0)"
   ]
  },
  {
   "attachments": {},
   "cell_type": "markdown",
   "metadata": {},
   "source": [
    "➖ ***Si no pasamos el #Salto se considera el salto como de 1.***"
   ]
  },
  {
   "cell_type": "code",
   "execution_count": 2,
   "metadata": {},
   "outputs": [
    {
     "name": "stdout",
     "output_type": "stream",
     "text": [
      "[2 3 4 5]\n"
     ]
    }
   ],
   "source": [
    "import numpy as np\n",
    "#Divide los elementos del índice 1 al índice 5 de la siguiente matriz:\n",
    "arr = np.array([1, 2, 3, 4, 5, 6, 7])\n",
    "print(arr[1:5]) #(1:5:1)"
   ]
  },
  {
   "attachments": {},
   "cell_type": "markdown",
   "metadata": {},
   "source": [
    "➖ ***Con #Salto especificado.***"
   ]
  },
  {
   "cell_type": "code",
   "execution_count": 3,
   "metadata": {},
   "outputs": [
    {
     "name": "stdout",
     "output_type": "stream",
     "text": [
      "[2 4]\n"
     ]
    }
   ],
   "source": [
    "#Devuelve cualquier otro elemento del índice 1 al índice 5:\n",
    "arr = np.array([1, 2, 3, 4, 5, 6, 7])\n",
    "print(arr[1:5:2]) #Indicas que salte cada 2 elementos"
   ]
  },
  {
   "cell_type": "code",
   "execution_count": 4,
   "metadata": {},
   "outputs": [
    {
     "name": "stdout",
     "output_type": "stream",
     "text": [
      "[1 3 5 7]\n"
     ]
    }
   ],
   "source": [
    "#Devuelve todos los demás elementos de toda la matriz:\n",
    "arr = np.array([1, 2, 3, 4, 5, 6, 7])\n",
    "print(arr[::2]) #(0:0:2)"
   ]
  },
  {
   "attachments": {},
   "cell_type": "markdown",
   "metadata": {},
   "source": [
    "> ###  ⚠️ ***Como cortar matrices en negativo (Slicing arrays): 1-D***\n",
    "\n",
    "💡 ***Use el operador (-) para referirse a una posicion desde el final***\n",
    "\n",
    "❗ ***El conteo de las posiciones de los elementos en negativo inicia en -1 y no en 0***"
   ]
  },
  {
   "cell_type": "code",
   "execution_count": 5,
   "metadata": {},
   "outputs": [
    {
     "name": "stdout",
     "output_type": "stream",
     "text": [
      "[5 6]\n"
     ]
    }
   ],
   "source": [
    "#Cortar desde el índice 3 desde el final hasta el índice 1 desde el final:\n",
    "arr = np.array([1, 2, 3, 4, 5, 6, 7])\n",
    "print(arr[-3:-1]) #(5:#Posicion_final)"
   ]
  },
  {
   "attachments": {},
   "cell_type": "markdown",
   "metadata": {},
   "source": [
    "> ###  ⚠️ ***Como cortar matrices (Slicing arrays): 2-D***\n",
    "\n",
    "💡 ***Estructura: arr[#Fila, #Posicion_inicial:Posicion_final]***\n",
    "\n",
    "> 🟢 ***Casos:***\n",
    "\n",
    "➖ ***arr[#Fila, #Posicion_inicial:Posicion_final]***"
   ]
  },
  {
   "cell_type": "code",
   "execution_count": 8,
   "metadata": {},
   "outputs": [
    {
     "name": "stdout",
     "output_type": "stream",
     "text": [
      "[7 8 9]\n"
     ]
    }
   ],
   "source": [
    "#Desde el segundo elemento, corte los elementos del índice 1 al índice 4 (no incluido):\n",
    "arr = np.array([[1, 2, 3, 4, 5], [6, 7, 8, 9, 10]])\n",
    "print(arr[1, 1:4])"
   ]
  },
  {
   "cell_type": "code",
   "execution_count": 9,
   "metadata": {},
   "outputs": [
    {
     "name": "stdout",
     "output_type": "stream",
     "text": [
      "[2 3 4]\n"
     ]
    }
   ],
   "source": [
    "arr = np.array([[1, 2, 3, 4, 5], [6, 7, 8, 9, 10]])\n",
    "print(arr[0, 1:4])"
   ]
  },
  {
   "attachments": {},
   "cell_type": "markdown",
   "metadata": {},
   "source": [
    "➖ ***arr[#Fila_Inicial:Fila_final,#Posicion_inicial]***"
   ]
  },
  {
   "cell_type": "code",
   "execution_count": 14,
   "metadata": {},
   "outputs": [
    {
     "name": "stdout",
     "output_type": "stream",
     "text": [
      "[3 8]\n"
     ]
    }
   ],
   "source": [
    "#De ambos elementos, devuelva la posicion 2:\n",
    "arr = np.array([[1, 2, 3, 4, 5], [6, 7, 8, 9, 10]])\n",
    "print(arr[0:2, 2]) #Tomara las filas 0 y 1, y tomara a los elementos de la posicon 2 de cada fila"
   ]
  },
  {
   "attachments": {},
   "cell_type": "markdown",
   "metadata": {},
   "source": [
    "➖ ***arr[#Fila_Inicial:Fila_final,#Posicion_inicial:#Posicion_final]***"
   ]
  },
  {
   "cell_type": "code",
   "execution_count": 11,
   "metadata": {},
   "outputs": [
    {
     "name": "stdout",
     "output_type": "stream",
     "text": [
      "[[2 3 4]\n",
      " [7 8 9]]\n"
     ]
    }
   ],
   "source": [
    "#De ambos elementos, corte el índice 1 al índice 4 (no incluido), esto devolverá una matriz 2-D:\n",
    "arr = np.array([[1, 2, 3, 4, 5], [6, 7, 8, 9, 10]])\n",
    "print(arr[0:2, 1:4]) #Tomara la fila 0 y la 1 y tomara los elementos de ambas filas de la poscion inial 1 hasta la 4 sin incluirla"
   ]
  }
 ],
 "metadata": {
  "kernelspec": {
   "display_name": "Python 3",
   "language": "python",
   "name": "python3"
  },
  "language_info": {
   "codemirror_mode": {
    "name": "ipython",
    "version": 3
   },
   "file_extension": ".py",
   "mimetype": "text/x-python",
   "name": "python",
   "nbconvert_exporter": "python",
   "pygments_lexer": "ipython3",
   "version": "3.11.2"
  },
  "orig_nbformat": 4
 },
 "nbformat": 4,
 "nbformat_minor": 2
}
