{
 "cells": [
  {
   "attachments": {},
   "cell_type": "markdown",
   "metadata": {},
   "source": [
    "# ***Metodos Copy vs View en una matriz (array) en NumPy***\n",
    "\n",
    "❓ ***¿Cual es la diferencia entre copy y view en una matriz?***\n",
    "\n",
    "🟡 ***Es que la copy es una nueva matriz y la view es solo una vista de la matriz original.***\n",
    "\n",
    "🟡 ***La matriz de la (copy) tiene los datos  y cualquier cambio realizado en la matriz (copy) no afectará la matriz original, y cualquier cambio realizado en la matriz original no afectará a la matriz (copy).***\n",
    "\n",
    "🟡 ***La matriz de la (view) no tiene los datos, cualquier cambio realizado en la matriz (view) afectará a la matriz original, y cualquier cambio realizado en la matriz original afectará a la matriz (view).***\n",
    "\n",
    "> ###  ⚠️ ***Metodo: Copy()***\n",
    "\n",
    "> 🟢 ***Haciendo cambios en la matriz original***"
   ]
  },
  {
   "cell_type": "code",
   "execution_count": 2,
   "metadata": {},
   "outputs": [
    {
     "name": "stdout",
     "output_type": "stream",
     "text": [
      "[42  2  3  4  5]\n",
      "[1 2 3 4 5]\n"
     ]
    }
   ],
   "source": [
    "import numpy as np\n",
    "#Haga una copia, cambie la matriz original y muestre ambas matrices:\n",
    "arr = np.array([1, 2, 3, 4, 5])\n",
    "x = arr.copy() #Aqui se copia la matriz original y se crea una nueva y se alamacena en una nueva variable\n",
    "arr[0] = 42 #Se modifico el elemento de la posicion #0 de la matriz original\n",
    "#Los cambios que hicimos en la matriz copia no afecta a la matriz original\n",
    "print(arr)\n",
    "print(x)"
   ]
  },
  {
   "attachments": {},
   "cell_type": "markdown",
   "metadata": {},
   "source": [
    "> 🟢 ***Haciendo cambios en la matriz (copy)***"
   ]
  },
  {
   "cell_type": "code",
   "execution_count": 5,
   "metadata": {},
   "outputs": [
    {
     "name": "stdout",
     "output_type": "stream",
     "text": [
      "[1 2 3 4 5]\n",
      "[42  2  3  4  5]\n"
     ]
    }
   ],
   "source": [
    "import numpy as np\n",
    "#Haga una copia, cambie la matriz original y muestre ambas matrices:\n",
    "arr = np.array([1, 2, 3, 4, 5])\n",
    "x = arr.copy() #Aqui se copia la matriz original y se crea una nueva y se alamacena en una nueva variable\n",
    "x[0] = 42 #Se modifico el elemento de la posicion #0\n",
    "#Los cambios que hicimos en la matriz copia no afecta a la matriz original\n",
    "print(arr)\n",
    "print(x)"
   ]
  },
  {
   "attachments": {},
   "cell_type": "markdown",
   "metadata": {},
   "source": [
    "> ###  ⚠️ ***Metodo: View()***\n",
    "\n",
    "> 🟢 ***Haciendo cambios en la matriz original***"
   ]
  },
  {
   "cell_type": "code",
   "execution_count": 3,
   "metadata": {},
   "outputs": [
    {
     "name": "stdout",
     "output_type": "stream",
     "text": [
      "[42  2  3  4  5]\n",
      "[42  2  3  4  5]\n"
     ]
    }
   ],
   "source": [
    "#Cree una vista, cambie la matriz original y muestre ambas matrices:\n",
    "arr = np.array([1, 2, 3, 4, 5])\n",
    "x = arr.view() #Usamos el metodo\n",
    "arr[0] = 42 #Se modifico el elemento de la posicion #0 de la matriz original\n",
    "#Los cambios que hicimos en la matriz original tambien afectaron a la matriz view\n",
    "print(arr)\n",
    "print(x)"
   ]
  },
  {
   "attachments": {},
   "cell_type": "markdown",
   "metadata": {},
   "source": [
    "> 🟢 ***Haciendo cambios en la matriz (view)***"
   ]
  },
  {
   "cell_type": "code",
   "execution_count": 4,
   "metadata": {},
   "outputs": [
    {
     "name": "stdout",
     "output_type": "stream",
     "text": [
      "[31  2  3  4  5]\n",
      "[31  2  3  4  5]\n"
     ]
    }
   ],
   "source": [
    "#Cree una vista, cambie la vista y muestre ambas matrices:\n",
    "arr = np.array([1, 2, 3, 4, 5])\n",
    "x = arr.view() #Usamos el metodo\n",
    "x[0] = 31 #Se modifico el elemento de la posicion #0 de la matriz view\n",
    "#Los cambios que hicimos en la matriz original tambien afectaron a la matriz view\n",
    "print(arr)\n",
    "print(x)"
   ]
  },
  {
   "attachments": {},
   "cell_type": "markdown",
   "metadata": {},
   "source": [
    "> ###  ⚠️ ***Como comprobar si una matriz es propietaria de sus datos***\n",
    "\n",
    "✅ ***Las matrices creadas por (copy) SI son propietarias de sus datos***\n",
    "\n",
    "✖️ ***Las matrices creadas por (view) NO son propietarias de sus datos***\n",
    "\n",
    "💡 ***Usando el atributo: base***\n",
    "\n",
    "❓ ***Este atributo devuelve como resultado (None) si la matriz posee los datos y si no los posee te va a regresar la Matriz original***"
   ]
  },
  {
   "cell_type": "code",
   "execution_count": 5,
   "metadata": {},
   "outputs": [
    {
     "name": "stdout",
     "output_type": "stream",
     "text": [
      "None\n",
      "[1 2 3 4 5]\n"
     ]
    }
   ],
   "source": [
    "#Imprima el valor del atributo base para verificar si una matriz posee sus datos o no:\n",
    "arr = np.array([1, 2, 3, 4, 5])\n",
    "\n",
    "x = arr.copy() #Devolvio (None) porque las matrices creadas con (copy) SI poseen sus datos\n",
    "y = arr.view() #Devolvio (La matriz) porque las matrices creadas con (view) NO poseen sus datos\n",
    "\n",
    "print(x.base)\n",
    "print(y.base)"
   ]
  }
 ],
 "metadata": {
  "kernelspec": {
   "display_name": "Python 3",
   "language": "python",
   "name": "python3"
  },
  "language_info": {
   "codemirror_mode": {
    "name": "ipython",
    "version": 3
   },
   "file_extension": ".py",
   "mimetype": "text/x-python",
   "name": "python",
   "nbconvert_exporter": "python",
   "pygments_lexer": "ipython3",
   "version": "3.11.2"
  },
  "orig_nbformat": 4
 },
 "nbformat": 4,
 "nbformat_minor": 2
}
