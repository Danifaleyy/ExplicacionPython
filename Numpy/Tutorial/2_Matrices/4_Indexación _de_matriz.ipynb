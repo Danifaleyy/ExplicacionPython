{
 "cells": [
  {
   "attachments": {},
   "cell_type": "markdown",
   "metadata": {},
   "source": [
    "# ***Indexación de una matriz ((ndarray)) en NumPy***\n",
    "\n",
    "> ###  ⚠️ ***Como acceder a los elementos de una matriz (ndarray)***\n",
    "\n",
    "💡 ***La indexación de (ndarray) es lo mismo que acceder a un elemento de matriz de python: Podemos acceder a sus elementos mediante la posicion u indice del elemento.***\n",
    "\n",
    "![Imagen](https://i1.wp.com/indianaiproduction.com/wp-content/uploads/2019/06/NumPy-array.png?resize=1024%2C491&ssl=1)\n",
    "\n",
    "> 🟢 ***Accediendo a elementos de una matriz: 1-D array***\n",
    "\n",
    "💡 ***Accedemos al elemento atravez de la posicion del elemento que deseamos***\n",
    "\n",
    "❓ ***Los índices en las matrices NumPy comienzan con 0, lo que significa que el primer elemento tiene el índice 0 y el segundo tiene el índice 1, etc.***\n",
    "\n",
    "        Estructura: arr[#Poscion_del_elemento]"
   ]
  },
  {
   "cell_type": "code",
   "execution_count": 3,
   "metadata": {},
   "outputs": [
    {
     "name": "stdout",
     "output_type": "stream",
     "text": [
      "1\n"
     ]
    }
   ],
   "source": [
    "import numpy as np\n",
    "#Obtenga el primer elemento de la siguiente matriz:\n",
    "arr = np.array([1, 2, 3, 4])\n",
    "#Accedemos mediante la posicion del elemento\n",
    "print(arr[0])"
   ]
  },
  {
   "cell_type": "code",
   "execution_count": 2,
   "metadata": {},
   "outputs": [
    {
     "name": "stdout",
     "output_type": "stream",
     "text": [
      "2\n"
     ]
    }
   ],
   "source": [
    "#Obtenga el segundo elemento de la siguiente matriz.\n",
    "arr = np.array([1, 2, 3, 4])\n",
    "#Accedemos mediante la posicion del elemento\n",
    "print(arr[1])"
   ]
  },
  {
   "cell_type": "code",
   "execution_count": 3,
   "metadata": {},
   "outputs": [
    {
     "name": "stdout",
     "output_type": "stream",
     "text": [
      "7\n"
     ]
    }
   ],
   "source": [
    "#Obtenga los elementos tercero y cuarto de la siguiente matriz y sumelos.\n",
    "arr = np.array([1, 2, 3, 4])\n",
    "#Accedemos mediante la posicion del elemento\n",
    "print(arr[2] + arr[3])"
   ]
  },
  {
   "attachments": {},
   "cell_type": "markdown",
   "metadata": {},
   "source": [
    "> 🟢 ***Accediendo a elementos de una matriz: 2-D array***\n",
    "\n",
    "💡 ***Podemos usar números enteros separados por comas que representan el #fila y #columna.***\n",
    "\n",
    "☢️ ***#Fila -- El conteo inicia en 0***\n",
    "\n",
    "☢️ ***#Columna -- El conteo inicia en 0*** \n",
    "\n",
    "❓ ***Piense en matrices 2D como una tabla con filas y columnas, donde la dimensión representa la fila y el índice representa la columna.***\n",
    "\n",
    "        Estructura: arr[#Fila,#Columna]\n",
    "\n",
    "![IMAGEN](https://journaldev.nyc3.digitaloceanspaces.com/2020/03/2D-array-representation.png)"
   ]
  },
  {
   "cell_type": "code",
   "execution_count": 6,
   "metadata": {},
   "outputs": [
    {
     "name": "stdout",
     "output_type": "stream",
     "text": [
      "2ndo elemento en 1ra fila:  2\n"
     ]
    }
   ],
   "source": [
    "#Acceda al elemento con el valor de 2\n",
    "arr = np.array([[1,2,3,4,5], [6,7,8,9,10]])\n",
    "print('2ndo elemento en 1ra fila: ', arr[0, 1])"
   ]
  },
  {
   "cell_type": "code",
   "execution_count": 6,
   "metadata": {},
   "outputs": [
    {
     "name": "stdout",
     "output_type": "stream",
     "text": [
      "5nto elemento en la 2nda fila:  10\n"
     ]
    }
   ],
   "source": [
    "#Acceda al elemento con el valor de 10\n",
    "arr = np.array([[1,2,3,4,5], [6,7,8,9,10]])\n",
    "print('5nto elemento en la 2nda fila: ', arr[1, 4])"
   ]
  },
  {
   "attachments": {},
   "cell_type": "markdown",
   "metadata": {},
   "source": [
    "> 🟢 ***Accediendo a elementos de una matriz: 3-D array***\n",
    "\n",
    "💡 ***Podemos usar números enteros separados por comas que representa el #dimension, #fila y #columna del elemento.***\n",
    "\n",
    "☢️ ***#Dimension -- El conteo inicia en 0***\n",
    "\n",
    "☢️ ***#Fila -- El conteo inicia en 0***\n",
    "\n",
    "☢️ ***#Columna -- El conteo inicia en 0***\n",
    "\n",
    "        Estructura: [#Dimension,#Fila,#Columna]"
   ]
  },
  {
   "cell_type": "code",
   "execution_count": 7,
   "metadata": {},
   "outputs": [
    {
     "name": "stdout",
     "output_type": "stream",
     "text": [
      "6\n"
     ]
    }
   ],
   "source": [
    "#Acceda al elemento con el valor de 6:\n",
    "arr = np.array([[[1, 2, 3], [4, 5, 6]], [[7, 8, 9], [10, 11, 12]]])\n",
    "print(arr[0, 1, 2])"
   ]
  },
  {
   "attachments": {},
   "cell_type": "markdown",
   "metadata": {},
   "source": [
    "❗❗❗ ***Explicacion del ejemplo: arr[0, 1, 2] --- imprime el valor 6.*** ❗❗❗\n",
    "\n",
    "1️⃣ ***El primer número representa el numero de la dimension: Es la 1era dimension, que contiene dos matrices:*** \n",
    "\n",
    "        ✅ [[1, 2, 3], [4, 5, 6]] ---- 1era dimension = 0\n",
    "           [[7, 8, 9], [10, 11, 12]] ---- 2nda dimension = 1\n",
    "\n",
    "2️⃣ ***Dado que seleccionamos la dimension #0, nos quedamos con la primera matriz  de tipo 2-D:***\n",
    "\n",
    "               ✅ [[1, 2, 3], [4, 5, 6]]\n",
    "\n",
    "\n",
    "1️⃣ ***El segundo número representa el numero de la fila: Contiene dos matrices:***\n",
    "\n",
    "                ✅ [1, 2, 3] ---- 1era fila = 0\n",
    "                    [4, 5, 6] ---- 2nda fila = 1\n",
    "\n",
    "2️⃣ ***Como seleccionamos la fila #1, nos queda la segunda matriz de tipo 1-D:***\n",
    "\n",
    "                ✅ [4, 5, 6]\n",
    "\n",
    "1️⃣ ***El tercer número representa el numero de columna: Contiene tres valores:***\n",
    "\n",
    "                   4 ---- #0\n",
    "                   5 ---- #1\n",
    "               ✅ 6 ---- #2\n",
    "\n",
    "2️⃣ ***Como seleccionamos 2, terminamos con el tercer valor:***\n",
    "                ✅ 6"
   ]
  },
  {
   "cell_type": "code",
   "execution_count": 9,
   "metadata": {},
   "outputs": [
    {
     "name": "stdout",
     "output_type": "stream",
     "text": [
      "12\n"
     ]
    }
   ],
   "source": [
    "#Acceda al elemento con el valor de 12:\n",
    "arr = np.array([[[1, 2, 3], [4, 5, 6]], [[7, 8, 9], [10, 11, 12]]])\n",
    "print(arr[1, 1, 2])"
   ]
  },
  {
   "attachments": {},
   "cell_type": "markdown",
   "metadata": {},
   "source": [
    "> ###  ⚠️ ***Indexación negativa***\n",
    "\n",
    "💡 ***Utilice la indexación negativa para acceder a una matriz desde el final.***\n",
    "\n",
    "        Estructura normal: arr[#Fila,#Columna]\n",
    "\n",
    "        Estructura de Indexación negativa: arr[#Fila,-1]"
   ]
  },
  {
   "cell_type": "code",
   "execution_count": 9,
   "metadata": {},
   "outputs": [
    {
     "name": "stdout",
     "output_type": "stream",
     "text": [
      "Last element from 2nd dim:  10\n"
     ]
    }
   ],
   "source": [
    "#Tipo 2-D: Imprime el último elemento\n",
    "arr = np.array([[1,2,3,4,5], [6,7,8,9,10]])\n",
    "print(\"Último elemento de la 2nda fila:\" , arr[1, -1])"
   ]
  }
 ],
 "metadata": {
  "kernelspec": {
   "display_name": "Python 3",
   "language": "python",
   "name": "python3"
  },
  "language_info": {
   "codemirror_mode": {
    "name": "ipython",
    "version": 3
   },
   "file_extension": ".py",
   "mimetype": "text/x-python",
   "name": "python",
   "nbconvert_exporter": "python",
   "pygments_lexer": "ipython3",
   "version": "3.11.2"
  },
  "orig_nbformat": 4
 },
 "nbformat": 4,
 "nbformat_minor": 2
}
