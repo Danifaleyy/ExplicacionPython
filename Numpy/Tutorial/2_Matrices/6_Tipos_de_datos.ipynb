{
 "cells": [
  {
   "attachments": {},
   "cell_type": "markdown",
   "metadata": {},
   "source": [
    "# ***Tipos de datos en NumPy***\n",
    "\n",
    "🟡 ***Python por defecto tiene estos tipos de datos: interger, float, boolean, strings, complex***\n",
    "\n",
    "☢️ ***Pero NumPy añade mas tipos de datos, se refiere a los tipos de datos mediante solamente 1 caracter:***\n",
    "\n",
    "        i - integer\n",
    "        b - boolean\n",
    "        u - unsigned integer (Entero sin signo)\n",
    "        f - float\n",
    "        c - complex float\n",
    "        m - timedelta\n",
    "        M - datetime\n",
    "        O - object\n",
    "        S - string\n",
    "        U - unicode string\n",
    "        V - fixed chunk of memory for other type ( void )\n",
    "\n",
    "> ###  ⚠️ ***Como saber el tipo de dato de un array (Matriz)***\n",
    "\n",
    "💡 ***Usamos el atributo: dtype***\n",
    "\n",
    "❓ ***Este atributo devuelve el tipo de datos de la matriz (array)***"
   ]
  },
  {
   "cell_type": "code",
   "execution_count": 1,
   "metadata": {},
   "outputs": [
    {
     "name": "stdout",
     "output_type": "stream",
     "text": [
      "int32\n"
     ]
    }
   ],
   "source": [
    "#Obtenga el tipo de datos de un objeto de matriz:\n",
    "import numpy as np\n",
    "arr = np.array([1, 2, 3, 4])\n",
    "print(arr.dtype)"
   ]
  },
  {
   "cell_type": "code",
   "execution_count": 3,
   "metadata": {},
   "outputs": [
    {
     "name": "stdout",
     "output_type": "stream",
     "text": [
      "bool\n"
     ]
    }
   ],
   "source": [
    "arr = np.array([True, False])\n",
    "print(arr.dtype)"
   ]
  },
  {
   "cell_type": "code",
   "execution_count": 2,
   "metadata": {},
   "outputs": [
    {
     "name": "stdout",
     "output_type": "stream",
     "text": [
      "<U6\n"
     ]
    }
   ],
   "source": [
    "arr = np.array([\"Hola\", \"Adios\", \"Daniel\"])\n",
    "print(arr.dtype)"
   ]
  },
  {
   "attachments": {},
   "cell_type": "markdown",
   "metadata": {},
   "source": [
    "> ###  ⚠️ ***Como crear una matriz (array) con un tipo de dato definido***\n",
    "\n",
    "💡 ***Usamos la funcion: array()***\n",
    "\n",
    "❓ ***Esta funcion se usa para crear matrices, dentro de la funcion ponemos como parametro (Es opcional, no obligatorio) el parametro: dtype***\n",
    "\n",
    "☢️ ***Este parametro nos permite definir el tipo de datos esperado de los elementos de la matriz.***\n",
    "\n",
    "        Estructura: array(dtype = \"tipo_dato\")\n"
   ]
  },
  {
   "cell_type": "code",
   "execution_count": 10,
   "metadata": {},
   "outputs": [
    {
     "name": "stdout",
     "output_type": "stream",
     "text": [
      "[b'1' b'2' b'3' b'4']\n",
      "|S1\n"
     ]
    }
   ],
   "source": [
    "#Cree una matriz con una cadena de tipo de datos:\n",
    "arr = np.array([1, 2, 3, 4], dtype='S')\n",
    "print(arr)\n",
    "print(arr.dtype)"
   ]
  },
  {
   "cell_type": "code",
   "execution_count": 13,
   "metadata": {},
   "outputs": [
    {
     "name": "stdout",
     "output_type": "stream",
     "text": [
      "[1 2 3 4]\n",
      "int32\n"
     ]
    }
   ],
   "source": [
    "#Cree una matriz con un tipo de datos entero de 4 bytes:\n",
    "arr = np.array([1, 2, 3, 4], dtype='i')\n",
    "print(arr)\n",
    "print(arr.dtype)"
   ]
  },
  {
   "attachments": {},
   "cell_type": "markdown",
   "metadata": {},
   "source": [
    "> ###  ⚠️ ***¿Qué pasa si un valor no se puede convertir?***\n",
    "\n",
    "☢️ ***Si se proporciona un tipo de dato en el que los elementos no se pueden convertir, NumPy generará un ValueError.***\n",
    "\n",
    "❓ ***ValueError: en Python, ValueError se genera cuando el tipo de parametro pasado a una función es inesperado/incorrecto.***"
   ]
  },
  {
   "cell_type": "code",
   "execution_count": 14,
   "metadata": {},
   "outputs": [
    {
     "ename": "ValueError",
     "evalue": "invalid literal for int() with base 10: 'a'",
     "output_type": "error",
     "traceback": [
      "\u001b[1;31m---------------------------------------------------------------------------\u001b[0m",
      "\u001b[1;31mValueError\u001b[0m                                Traceback (most recent call last)",
      "Cell \u001b[1;32mIn[14], line 2\u001b[0m\n\u001b[0;32m      1\u001b[0m \u001b[39m#Una cadena no entera como 'a' no se puede convertir a entero (generará un error):\u001b[39;00m\n\u001b[1;32m----> 2\u001b[0m arr \u001b[39m=\u001b[39m np\u001b[39m.\u001b[39;49marray([\u001b[39m'\u001b[39;49m\u001b[39ma\u001b[39;49m\u001b[39m'\u001b[39;49m, \u001b[39m'\u001b[39;49m\u001b[39m2\u001b[39;49m\u001b[39m'\u001b[39;49m, \u001b[39m'\u001b[39;49m\u001b[39m3\u001b[39;49m\u001b[39m'\u001b[39;49m], dtype\u001b[39m=\u001b[39;49m\u001b[39m'\u001b[39;49m\u001b[39mi\u001b[39;49m\u001b[39m'\u001b[39;49m)\n",
      "\u001b[1;31mValueError\u001b[0m: invalid literal for int() with base 10: 'a'"
     ]
    }
   ],
   "source": [
    "#Una cadena no entera como 'a' no se puede convertir a entero (generará un error):\n",
    "arr = np.array(['a', '2', '3'], dtype='i')"
   ]
  },
  {
   "attachments": {},
   "cell_type": "markdown",
   "metadata": {},
   "source": [
    "> ###  ⚠️ ***Conversión de tipos de datos en arreglos existentes***\n",
    "\n",
    "💡 ***Para cambiar el tipo de datos de una matriz existente debemos de crear una copia de la matriz original con el metodo: astype***\n",
    "\n",
    "❓ ***Esta funcion crea una copia de la matriz original y le permite especificar el tipo de datos como parámetro.***\n",
    "\n",
    "        Estructura: arr.astype(\"tTipo_de_dato\")"
   ]
  },
  {
   "cell_type": "code",
   "execution_count": 13,
   "metadata": {},
   "outputs": [
    {
     "name": "stdout",
     "output_type": "stream",
     "text": [
      "[1 2 3]\n",
      "int32\n"
     ]
    }
   ],
   "source": [
    "#Cambaindo de tipo float a tipo entero\n",
    "arr = np.array([1.1, 2.1, 3.1]) #Aqui es de tipo (float)\n",
    "newarr = arr.astype('i') #Usamos el metodo astype con el parametro (\"i\") para convertir a entero, se almacena en una nueva variable\n",
    "print(newarr)\n",
    "print(newarr.dtype)"
   ]
  },
  {
   "cell_type": "code",
   "execution_count": 15,
   "metadata": {},
   "outputs": [
    {
     "name": "stdout",
     "output_type": "stream",
     "text": [
      "[1 2 3]\n",
      "int32\n"
     ]
    }
   ],
   "source": [
    "#Cambaindo de tipo float a tipo entero\n",
    "arr = np.array([1.1, 2.1, 3.1])\n",
    "newarr = arr.astype(int) #Usamos el metodo astype con el parametro (int) para convertir a entero, se almacena en una nueva variable\n",
    "print(newarr)\n",
    "print(newarr.dtype)"
   ]
  },
  {
   "cell_type": "code",
   "execution_count": 17,
   "metadata": {},
   "outputs": [
    {
     "name": "stdout",
     "output_type": "stream",
     "text": [
      "[ True False  True]\n",
      "bool\n"
     ]
    }
   ],
   "source": [
    "#Cambie el tipo de datos de entero a booleano:\n",
    "arr = np.array([1, 0, 3])\n",
    "newarr = arr.astype(bool) #Usamos el metodo astype con el parametro (bool) para convertir a boolean, se almacena en una nueva variable\n",
    "print(newarr)\n",
    "print(newarr.dtype)"
   ]
  },
  {
   "cell_type": "code",
   "execution_count": 19,
   "metadata": {},
   "outputs": [
    {
     "name": "stdout",
     "output_type": "stream",
     "text": [
      "[1 0 3]\n",
      "int8\n"
     ]
    }
   ],
   "source": [
    "#Cambie el tipo de datos de entero a booleano:\n",
    "arr = np.array([1, 0, 3])\n",
    "newarr = arr.astype(\"b\") #Usamos el metodo astype con el parametro (\"b\") para convertir a boolean, se almacena en una nueva variable\n",
    "print(newarr)\n",
    "print(newarr.dtype)"
   ]
  }
 ],
 "metadata": {
  "kernelspec": {
   "display_name": "Python 3",
   "language": "python",
   "name": "python3"
  },
  "language_info": {
   "codemirror_mode": {
    "name": "ipython",
    "version": 3
   },
   "file_extension": ".py",
   "mimetype": "text/x-python",
   "name": "python",
   "nbconvert_exporter": "python",
   "pygments_lexer": "ipython3",
   "version": "3.11.2"
  },
  "orig_nbformat": 4
 },
 "nbformat": 4,
 "nbformat_minor": 2
}
