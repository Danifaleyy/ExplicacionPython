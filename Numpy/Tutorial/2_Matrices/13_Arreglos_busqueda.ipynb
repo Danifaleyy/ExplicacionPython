{
 "cells": [
  {
   "attachments": {},
   "cell_type": "markdown",
   "metadata": {},
   "source": [
    "# ***Arreglos de búsqueda NumPy***\n",
    "\n",
    "> ###  ⚠️ ***Buscando arreglos***\n",
    "\n",
    "Puede buscar en una matriz un determinado valor y devolver los índices que obtienen una coincidencia.\n",
    "\n",
    "Para buscar una matriz, utilice el where()método."
   ]
  },
  {
   "cell_type": "code",
   "execution_count": 1,
   "metadata": {},
   "outputs": [
    {
     "name": "stdout",
     "output_type": "stream",
     "text": [
      "(array([3, 5, 6], dtype=int64),)\n"
     ]
    }
   ],
   "source": [
    "#Encuentre los índices donde el valor es 4:\n",
    "\n",
    "import numpy as np\n",
    "\n",
    "arr = np.array([1, 2, 3, 4, 5, 4, 4])\n",
    "\n",
    "x = np.where(arr == 4)\n",
    "\n",
    "print(x)"
   ]
  },
  {
   "attachments": {},
   "cell_type": "markdown",
   "metadata": {},
   "source": [
    "El ejemplo anterior devolverá una tupla:(array([3, 5, 6],)\n",
    "\n",
    "Lo que significa que el valor 4 está presente en el índice 3, 5 y 6"
   ]
  },
  {
   "cell_type": "code",
   "execution_count": 2,
   "metadata": {},
   "outputs": [
    {
     "name": "stdout",
     "output_type": "stream",
     "text": [
      "(array([1, 3, 5, 7], dtype=int64),)\n"
     ]
    }
   ],
   "source": [
    "#Encuentre los índices donde los valores son pares:\n",
    "\n",
    "arr = np.array([1, 2, 3, 4, 5, 6, 7, 8])\n",
    "\n",
    "x = np.where(arr%2 == 0)\n",
    "\n",
    "print(x)"
   ]
  },
  {
   "cell_type": "code",
   "execution_count": 4,
   "metadata": {},
   "outputs": [
    {
     "name": "stdout",
     "output_type": "stream",
     "text": [
      "(array([0, 2, 4, 6], dtype=int64),)\n"
     ]
    }
   ],
   "source": [
    "#Encuentre los índices donde los valores son impares:\n",
    "\n",
    "arr = np.array([1, 2, 3, 4, 5, 6, 7, 8])\n",
    "\n",
    "x = np.where(arr%2 == 1)\n",
    "\n",
    "print(x)"
   ]
  },
  {
   "attachments": {},
   "cell_type": "markdown",
   "metadata": {},
   "source": [
    "> ###  ⚠️ ***Búsqueda ordenada***\n",
    "\n",
    "Hay un método llamado searchsorted()que realiza una búsqueda binaria en la matriz y devuelve el índice donde se insertaría el valor especificado para mantener el orden de búsqueda.\n",
    "\n",
    "Nota: Se supone que el searchsorted()método se utiliza en matrices ordenadas."
   ]
  },
  {
   "cell_type": "code",
   "execution_count": 6,
   "metadata": {},
   "outputs": [
    {
     "name": "stdout",
     "output_type": "stream",
     "text": [
      "1\n"
     ]
    }
   ],
   "source": [
    "#Encuentre los índices donde se debe insertar el valor 7:\n",
    "\n",
    "arr = np.array([6, 7, 8, 9])\n",
    "\n",
    "x = np.searchsorted(arr, 7)\n",
    "\n",
    "print(x)"
   ]
  },
  {
   "attachments": {},
   "cell_type": "markdown",
   "metadata": {},
   "source": [
    "Ejemplo explicado: El número 7 debe insertarse en el índice 1 para mantener el orden de clasificación.\n",
    "\n",
    "El método inicia la búsqueda desde la izquierda y devuelve el primer índice donde el número 7 ya no es mayor que el siguiente valor.\n",
    "\n",
    "> Buscar desde el lado derecho\n",
    "\n",
    "De forma predeterminada, se devuelve el índice más a la izquierda, pero podemos dar side='right'para devolver el índice más a la derecha en su lugar."
   ]
  },
  {
   "cell_type": "code",
   "execution_count": 7,
   "metadata": {},
   "outputs": [
    {
     "name": "stdout",
     "output_type": "stream",
     "text": [
      "2\n"
     ]
    }
   ],
   "source": [
    "#Encuentre los índices donde se debe insertar el valor 7, comenzando desde la derecha:\n",
    "\n",
    "arr = np.array([6, 7, 8, 9])\n",
    "\n",
    "x = np.searchsorted(arr, 7, side='right')\n",
    "\n",
    "print(x)"
   ]
  },
  {
   "attachments": {},
   "cell_type": "markdown",
   "metadata": {},
   "source": [
    "Ejemplo explicado: El número 7 debe insertarse en el índice 2 para mantener el orden de clasificación.\n",
    "\n",
    "El método inicia la búsqueda desde la derecha y devuelve el primer índice donde el número 7 ya no es menor que el siguiente valor.\n",
    "\n",
    "> Valores múltiples\n",
    "\n",
    "Para buscar más de un valor, utilice una matriz con los valores especificados."
   ]
  },
  {
   "cell_type": "code",
   "execution_count": 8,
   "metadata": {},
   "outputs": [
    {
     "name": "stdout",
     "output_type": "stream",
     "text": [
      "[1 2 3]\n"
     ]
    }
   ],
   "source": [
    "#Encuentre los índices donde se deben insertar los valores 2, 4 y 6:\n",
    "\n",
    "arr = np.array([1, 3, 5, 7])\n",
    "\n",
    "x = np.searchsorted(arr, [2, 4, 6])\n",
    "\n",
    "print(x)"
   ]
  },
  {
   "attachments": {},
   "cell_type": "markdown",
   "metadata": {},
   "source": [
    "El valor devuelto es una matriz: [1 2 3]contiene los tres índices donde 2, 4, 6 se insertarían en la matriz original para mantener el orden."
   ]
  }
 ],
 "metadata": {
  "kernelspec": {
   "display_name": "Python 3",
   "language": "python",
   "name": "python3"
  },
  "language_info": {
   "codemirror_mode": {
    "name": "ipython",
    "version": 3
   },
   "file_extension": ".py",
   "mimetype": "text/x-python",
   "name": "python",
   "nbconvert_exporter": "python",
   "pygments_lexer": "ipython3",
   "version": "3.11.2"
  },
  "orig_nbformat": 4
 },
 "nbformat": 4,
 "nbformat_minor": 2
}
