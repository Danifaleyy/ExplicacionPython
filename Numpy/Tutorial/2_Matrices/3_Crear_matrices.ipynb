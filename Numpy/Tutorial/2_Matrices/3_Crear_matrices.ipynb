{
 "cells": [
  {
   "attachments": {},
   "cell_type": "markdown",
   "metadata": {},
   "source": [
    "# ***Creacion de matrices (Array)***\n",
    "\n",
    "💡 ***El objeto de matriz en NumPy se llama (ndarray).***\n",
    "\n",
    "❓ ***¿Que significa ndarray? n-dimensional-array***\n",
    "\n",
    "> ###  ⚠️ ***Como crear un objeto (ndarray) osea una matriz***\n",
    "\n",
    "> ☢️ ***Usando la funcion:*** *array()*\n",
    "\n",
    "        Estructura: variable_nueva = np.array([elemento1,elemento2,elemento3])"
   ]
  },
  {
   "cell_type": "code",
   "execution_count": 3,
   "metadata": {},
   "outputs": [
    {
     "name": "stdout",
     "output_type": "stream",
     "text": [
      "[1 2 3 4 5]\n",
      "<class 'numpy.ndarray'>\n"
     ]
    }
   ],
   "source": [
    "#Importamos numpy para poder utilizar su libreria\n",
    "import numpy as np\n",
    "#Creamos un objeto (ndarray): variable_nueva = np.array([elemento1,elemento2,elemento3])\n",
    "arr = np.array([1, 2, 3, 4, 5])\n",
    "#Imprimimos\n",
    "print(arr)\n",
    "#Imprimimos el tipo de dato\n",
    "print(type(arr))"
   ]
  },
  {
   "attachments": {},
   "cell_type": "markdown",
   "metadata": {},
   "source": [
    "> ☢️ ***Como convertir una lista o tupla a un ndarray***\n",
    "\n",
    "💡 ***Usamos el metodo: array()***\n",
    "\n",
    "🟢 ***Con este metodo convertimos cualquier objeto similar a una matriz como una lista o tupla a un ndarray***"
   ]
  },
  {
   "cell_type": "code",
   "execution_count": 4,
   "metadata": {},
   "outputs": [
    {
     "name": "stdout",
     "output_type": "stream",
     "text": [
      "[1 2 3 4 5]\n"
     ]
    }
   ],
   "source": [
    "#Convertimos una tupla a ndarray\n",
    "arr = np.array((1, 2, 3, 4, 5))\n",
    "print(arr)"
   ]
  },
  {
   "cell_type": "code",
   "execution_count": 5,
   "metadata": {},
   "outputs": [
    {
     "name": "stdout",
     "output_type": "stream",
     "text": [
      "[1 2 3 4 5]\n"
     ]
    }
   ],
   "source": [
    "#Convertimos una lista a ndarray\n",
    "arr = np.array([1, 2, 3, 4, 5])\n",
    "print(arr)"
   ]
  },
  {
   "attachments": {},
   "cell_type": "markdown",
   "metadata": {},
   "source": [
    "> ###  ⚠️ ***Dimensiones en matrices (arrays)***\n",
    "\n",
    "❓ ***Te puedes dar cuenta de cuantas dimensiones tiene por la cantidad de [ ]***\n",
    "\n",
    "> ☢️ ***0-D Arrays***\n",
    "\n",
    "💡 ***Es una matriz con solo un elemento, Cada valor en una matriz es una matriz 0-D***\n",
    "\n",
    "🟢 ***No tiene ningun par de [ ]***"
   ]
  },
  {
   "cell_type": "code",
   "execution_count": 8,
   "metadata": {},
   "outputs": [
    {
     "name": "stdout",
     "output_type": "stream",
     "text": [
      "42\n",
      "0\n"
     ]
    }
   ],
   "source": [
    "#Cree una matriz 0-D con valor 42\n",
    "arr = np.array(42)\n",
    "print(arr)\n",
    "print(arr.ndim)"
   ]
  },
  {
   "attachments": {},
   "cell_type": "markdown",
   "metadata": {},
   "source": [
    "> ☢️ ***1-D Arrays***\n",
    "\n",
    "💡 ***Es una matriz que tiene dentro de ella como sus elementos matrices 0-D***\n",
    "\n",
    "🟢 ***Tiene 1 par de [ ]***"
   ]
  },
  {
   "cell_type": "code",
   "execution_count": 9,
   "metadata": {},
   "outputs": [
    {
     "name": "stdout",
     "output_type": "stream",
     "text": [
      "[1 2 3 4 5]\n",
      "1\n"
     ]
    }
   ],
   "source": [
    "#Cree una matriz 1-D: que contenga los valores 1,2,3,4,5:\n",
    "arr = np.array([1, 2, 3, 4, 5])\n",
    "print(arr)\n",
    "print(arr.ndim)"
   ]
  },
  {
   "attachments": {},
   "cell_type": "markdown",
   "metadata": {},
   "source": [
    "> ☢️ ***2-D Arrays***\n",
    "\n",
    "💡 ***Es una matriz que tiene dentro de ella como sus elementos matrices 1-D.***\n",
    "\n",
    "🟢 ***Se utilizan a menudo para representar matrices o tensores de segundo orden.***\n",
    "\n",
    "🟢 ***Tiene 2 pares de [ ] mas el [ ] que los encierra***"
   ]
  },
  {
   "cell_type": "code",
   "execution_count": 10,
   "metadata": {},
   "outputs": [
    {
     "name": "stdout",
     "output_type": "stream",
     "text": [
      "[[1 2 3]\n",
      " [4 5 6]]\n",
      "2\n"
     ]
    }
   ],
   "source": [
    "#Cree una matriz 2-D que contenga dos matrices con los valores 1,2,3 y 4,5,6:\n",
    "arr = np.array([[1, 2, 3], [4, 5, 6]])\n",
    "print(arr)\n",
    "print(arr.ndim)"
   ]
  },
  {
   "attachments": {},
   "cell_type": "markdown",
   "metadata": {},
   "source": [
    "> ☢️ ***3-D Arrays***\n",
    "\n",
    "💡 ***Es una matriz que tiene dentro de ella como sus elementos matrices 2-D.***\n",
    "\n",
    "🟢 ***Estos se utilizan a menudo para representar un tensor de tercer orden.***"
   ]
  },
  {
   "cell_type": "code",
   "execution_count": 11,
   "metadata": {},
   "outputs": [
    {
     "name": "stdout",
     "output_type": "stream",
     "text": [
      "[[[1 2 3]\n",
      "  [4 5 6]]\n",
      "\n",
      " [[1 2 3]\n",
      "  [4 5 6]]]\n",
      "3\n"
     ]
    }
   ],
   "source": [
    "#Cree una matriz 3D con dos matrices 2D, ambas con dos matrices con los valores 1,2,3 y 4,5,6:\n",
    "arr = np.array([[[1, 2, 3], [4, 5, 6]], [[1, 2, 3], [4, 5, 6]]])\n",
    "print(arr)\n",
    "print(arr.ndim)"
   ]
  },
  {
   "attachments": {},
   "cell_type": "markdown",
   "metadata": {},
   "source": [
    "> ###  ⚠️ ***Como verificar el numero de dimensiones que tiene una matriz (array)***\n",
    "\n",
    "💡 ***Usamos el atributo: ndim***\n",
    "\n",
    "❓ ***Este atributo devuelve un número entero que nos dice cuántas dimensiones tiene la matriz.***"
   ]
  },
  {
   "cell_type": "code",
   "execution_count": 12,
   "metadata": {},
   "outputs": [
    {
     "name": "stdout",
     "output_type": "stream",
     "text": [
      "0\n",
      "1\n",
      "2\n",
      "3\n"
     ]
    }
   ],
   "source": [
    "a = np.array(42)\n",
    "b = np.array([1, 2, 3, 4, 5])\n",
    "c = np.array([[1, 2, 3], [4, 5, 6]])\n",
    "d = np.array([[[1, 2, 3], [4, 5, 6]], [[1, 2, 3], [4, 5, 6]]])\n",
    "\n",
    "print(a.ndim)\n",
    "print(b.ndim)\n",
    "print(c.ndim)\n",
    "print(d.ndim)"
   ]
  },
  {
   "attachments": {},
   "cell_type": "markdown",
   "metadata": {},
   "source": [
    "> ###  ⚠️ ***Como especificar la cantidad de dimensiones que queremos que tenga nuestra matriz (array)***\n",
    "\n",
    "💡 ***Usamos el parametro: ndmin***\n",
    "\n",
    "❓ ***Sirve para definir el número de dimensiones que queremos***\n",
    "\n",
    "🟢 ***Una matriz puede tener cualquier número de dimensiones.***"
   ]
  },
  {
   "cell_type": "code",
   "execution_count": 12,
   "metadata": {},
   "outputs": [
    {
     "name": "stdout",
     "output_type": "stream",
     "text": [
      "[[[[[1 2 3 4]]]]]\n",
      "Cantidad de dimensiones:  5\n"
     ]
    }
   ],
   "source": [
    "#Cree una matriz con 5 dimensiones y verifique que tenga 5 dimensiones:\n",
    "#En esta matriz, la dimensión más interna (quinta dimensión) tiene 4 elementos, la cuarta dimensión tiene 1 elemento que es el vector, \n",
    "#la tercera dimensión tiene 1 elemento que es la matriz con el vector, la segunda dimensión tiene 1 elemento \n",
    "#que es una matriz 3D y 1st dim tiene 1 elemento que es una matriz 4D.\n",
    "arr = np.array([1, 2, 3, 4], ndmin=5)\n",
    "print(arr)\n",
    "print('Cantidad de dimensiones: ', arr.ndim)"
   ]
  }
 ],
 "metadata": {
  "kernelspec": {
   "display_name": "Python 3",
   "language": "python",
   "name": "python3"
  },
  "language_info": {
   "codemirror_mode": {
    "name": "ipython",
    "version": 3
   },
   "file_extension": ".py",
   "mimetype": "text/x-python",
   "name": "python",
   "nbconvert_exporter": "python",
   "pygments_lexer": "ipython3",
   "version": "3.11.2"
  },
  "orig_nbformat": 4
 },
 "nbformat": 4,
 "nbformat_minor": 2
}
